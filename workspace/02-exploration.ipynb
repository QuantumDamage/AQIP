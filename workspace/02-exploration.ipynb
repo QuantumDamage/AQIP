{
 "cells": [
  {
   "cell_type": "code",
   "execution_count": 2,
   "metadata": {
    "collapsed": true
   },
   "outputs": [],
   "source": [
    "import pandas as pd\n",
    "import numpy as np"
   ]
  },
  {
   "cell_type": "code",
   "execution_count": 2,
   "metadata": {
    "collapsed": true
   },
   "outputs": [],
   "source": [
    "%matplotlib inline"
   ]
  },
  {
   "cell_type": "code",
   "execution_count": 37,
   "metadata": {
    "collapsed": false
   },
   "outputs": [
    {
     "name": "stdout",
     "output_type": "stream",
     "text": [
      "Exist, do nothing!\n"
     ]
    }
   ],
   "source": [
    "if 'bigDataFrame' in globals():\n",
    "    print(\"Exist, do nothing!\")\n",
    "else:\n",
    "    print(\"Read data.\")\n",
    "    bigDataFrame = pd.read_pickle(\"../output/bigDataFrame.pkl\")\n",
    "    bigDataFrame.rename(columns={\"PM2.5\": \"PM25\"}, inplace=True)"
   ]
  },
  {
   "cell_type": "code",
   "execution_count": 4,
   "metadata": {
    "collapsed": false
   },
   "outputs": [
    {
     "data": {
      "text/html": [
       "<div>\n",
       "<table border=\"1\" class=\"dataframe\">\n",
       "  <thead>\n",
       "    <tr style=\"text-align: right;\">\n",
       "      <th></th>\n",
       "      <th></th>\n",
       "      <th>C6H6</th>\n",
       "      <th>CO</th>\n",
       "      <th>NO2</th>\n",
       "      <th>O3</th>\n",
       "      <th>PM10</th>\n",
       "      <th>PM25</th>\n",
       "      <th>SO2</th>\n",
       "    </tr>\n",
       "    <tr>\n",
       "      <th>Hour</th>\n",
       "      <th>Station</th>\n",
       "      <th></th>\n",
       "      <th></th>\n",
       "      <th></th>\n",
       "      <th></th>\n",
       "      <th></th>\n",
       "      <th></th>\n",
       "      <th></th>\n",
       "    </tr>\n",
       "  </thead>\n",
       "  <tbody>\n",
       "    <tr>\n",
       "      <th rowspan=\"2\" valign=\"top\">2000-01-01 01:00:00</th>\n",
       "      <th>Pm.a01a</th>\n",
       "      <td>NaN</td>\n",
       "      <td>NaN</td>\n",
       "      <td>25.0</td>\n",
       "      <td>NaN</td>\n",
       "      <td>NaN</td>\n",
       "      <td>NaN</td>\n",
       "      <td>NaN</td>\n",
       "    </tr>\n",
       "    <tr>\n",
       "      <th>Pm.a03a</th>\n",
       "      <td>NaN</td>\n",
       "      <td>NaN</td>\n",
       "      <td>NaN</td>\n",
       "      <td>38.0</td>\n",
       "      <td>NaN</td>\n",
       "      <td>NaN</td>\n",
       "      <td>NaN</td>\n",
       "    </tr>\n",
       "    <tr>\n",
       "      <th rowspan=\"3\" valign=\"top\">2000-01-01 02:00:00</th>\n",
       "      <th>DsCzer02</th>\n",
       "      <td>NaN</td>\n",
       "      <td>NaN</td>\n",
       "      <td>6.0</td>\n",
       "      <td>35.0</td>\n",
       "      <td>NaN</td>\n",
       "      <td>NaN</td>\n",
       "      <td>NaN</td>\n",
       "    </tr>\n",
       "    <tr>\n",
       "      <th>DsJelw05</th>\n",
       "      <td>NaN</td>\n",
       "      <td>NaN</td>\n",
       "      <td>14.0</td>\n",
       "      <td>29.0</td>\n",
       "      <td>NaN</td>\n",
       "      <td>NaN</td>\n",
       "      <td>NaN</td>\n",
       "    </tr>\n",
       "    <tr>\n",
       "      <th>DsSniezka</th>\n",
       "      <td>NaN</td>\n",
       "      <td>NaN</td>\n",
       "      <td>NaN</td>\n",
       "      <td>61.0</td>\n",
       "      <td>NaN</td>\n",
       "      <td>NaN</td>\n",
       "      <td>NaN</td>\n",
       "    </tr>\n",
       "  </tbody>\n",
       "</table>\n",
       "</div>"
      ],
      "text/plain": [
       "                               C6H6  CO   NO2    O3  PM10  PM25  SO2\n",
       "Hour                Station                                         \n",
       "2000-01-01 01:00:00 Pm.a01a     NaN NaN  25.0   NaN   NaN   NaN  NaN\n",
       "                    Pm.a03a     NaN NaN   NaN  38.0   NaN   NaN  NaN\n",
       "2000-01-01 02:00:00 DsCzer02    NaN NaN   6.0  35.0   NaN   NaN  NaN\n",
       "                    DsJelw05    NaN NaN  14.0  29.0   NaN   NaN  NaN\n",
       "                    DsSniezka   NaN NaN   NaN  61.0   NaN   NaN  NaN"
      ]
     },
     "execution_count": 4,
     "metadata": {},
     "output_type": "execute_result"
    }
   ],
   "source": [
    "bigDataFrame.head()"
   ]
  },
  {
   "cell_type": "code",
   "execution_count": 5,
   "metadata": {
    "collapsed": false
   },
   "outputs": [
    {
     "name": "stdout",
     "output_type": "stream",
     "text": [
      "C6H6    (2015-10-28 06:00:00, OpKKozBSmial)\n",
      "CO      (2015-02-15 00:00:00, SlRybniBorki)\n",
      "NO2     (2015-11-07 10:00:00, PmStaGdaLubi)\n",
      "O3      (2015-07-04 12:00:00, LuZarySzyman)\n",
      "PM10    (2015-12-31 20:00:00, SlRybniBorki)\n",
      "PM25    (2015-03-22 23:00:00, MzLegZegrzyn)\n",
      "SO2     (2015-05-21 23:00:00, MzPlocKroJad)\n",
      "dtype: object\n"
     ]
    }
   ],
   "source": [
    "pollutedPlaces = bigDataFrame['2015-01-01 00:00:00':'2015-12-31 23:00:00'].idxmax()\n",
    "print(pollutedPlaces)\n",
    "pollutedPlaces = set([x[1] for x in pollutedPlaces])"
   ]
  },
  {
   "cell_type": "code",
   "execution_count": 6,
   "metadata": {
    "collapsed": false
   },
   "outputs": [
    {
     "data": {
      "text/plain": [
       "{u'LuZarySzyman',\n",
       " u'MzLegZegrzyn',\n",
       " u'MzPlocKroJad',\n",
       " u'OpKKozBSmial',\n",
       " u'PmStaGdaLubi',\n",
       " u'SlRybniBorki'}"
      ]
     },
     "execution_count": 6,
     "metadata": {},
     "output_type": "execute_result"
    }
   ],
   "source": [
    "pollutedPlaces"
   ]
  },
  {
   "cell_type": "code",
   "execution_count": 7,
   "metadata": {
    "collapsed": true
   },
   "outputs": [],
   "source": [
    "#reducedDataFrame = bigDataFrame['2015-01-01 00:00:00':'2015-12-31 23:00:00'].loc[(slice(None),pollutedPlaces), :]"
   ]
  },
  {
   "cell_type": "code",
   "execution_count": 8,
   "metadata": {
    "collapsed": true
   },
   "outputs": [],
   "source": [
    "reducedDataFrame = bigDataFrame['2015-01-01 00:00:00':'2015-12-31 23:00:00'].loc[(slice(None), slice(None)), :]"
   ]
  },
  {
   "cell_type": "code",
   "execution_count": 75,
   "metadata": {
    "collapsed": true
   },
   "outputs": [],
   "source": [
    "hours = len(reducedDataFrame.index.get_level_values(\"Hour\").unique())"
   ]
  },
  {
   "cell_type": "code",
   "execution_count": 76,
   "metadata": {
    "collapsed": true
   },
   "outputs": [],
   "source": [
    "def C6H6qual (value):\n",
    "    if (value < 0.0):\n",
    "        return np.NaN\n",
    "    elif (value >= 0.0 and value <= 5.0):\n",
    "        return \"1 Very good\"\n",
    "    elif (value > 5.0 and value <= 10.0):\n",
    "        return \"2 Good\"\n",
    "    elif (value > 10.0 and value <= 15.0):\n",
    "        return \"3 Moderate\"\n",
    "    elif (value > 15.0 and value <= 20.0):\n",
    "        return \"4 Sufficient\"\n",
    "    elif (value > 20.0 and value <= 50.0):\n",
    "        return \"5 Bad\"\n",
    "    elif (value > 50.0):\n",
    "        return \"6 Very bad\"\n",
    "    else:\n",
    "        return value\n",
    "\n",
    "def COqual (value):\n",
    "    if (value < 0.0):\n",
    "        return np.NaN\n",
    "    elif (value >= 0.0 and value <= 2.0):\n",
    "        return \"1 Very good\"\n",
    "    elif (value > 2.0 and value <= 6.0):\n",
    "        return \"2 Good\"\n",
    "    elif (value > 6.0 and value <= 10.0):\n",
    "        return \"3 Moderate\"\n",
    "    elif (value > 10.0 and value <= 14.0):\n",
    "        return \"4 Sufficient\"\n",
    "    elif (value > 14.0 and value <= 20.0):\n",
    "        return \"5 Bad\"\n",
    "    elif (value > 20.0):\n",
    "        return \"6 Very bad\"\n",
    "    else:\n",
    "        return value\n",
    "    \n",
    "def NO2qual (value):\n",
    "    if (value < 0.0):\n",
    "        return np.NaN\n",
    "    elif (value >= 0.0 and value <= 40.0):\n",
    "        return \"1 Very good\"\n",
    "    elif (value > 40.0 and value <= 100.0):\n",
    "        return \"2 Good\"\n",
    "    elif (value > 100.0 and value <= 150.0):\n",
    "        return \"3 Moderate\"\n",
    "    elif (value > 150.0 and value <= 200.0):\n",
    "        return \"4 Sufficient\"\n",
    "    elif (value > 200.0 and value <= 400.0):\n",
    "        return \"5 Bad\"\n",
    "    elif (value > 400.0):\n",
    "        return \"6 Very bad\"\n",
    "    else:\n",
    "        return value    \n",
    "\n",
    "def O3qual (value):\n",
    "    if (value < 0.0):\n",
    "        return np.NaN\n",
    "    elif (value >= 0.0 and value <= 30.0):\n",
    "        return \"1 Very good\"\n",
    "    elif (value > 30.0 and value <= 70.0):\n",
    "        return \"2 Good\"\n",
    "    elif (value > 70.0 and value <= 120.0):\n",
    "        return \"3 Moderate\"\n",
    "    elif (value > 120.0 and value <= 160.0):\n",
    "        return \"4 Sufficient\"\n",
    "    elif (value > 160.0 and value <= 240.0):\n",
    "        return \"5 Bad\"\n",
    "    elif (value > 240.0):\n",
    "        return \"6 Very bad\"\n",
    "    else:\n",
    "        return value\n",
    "    \n",
    "def PM10qual (value):\n",
    "    if (value < 0.0):\n",
    "        return np.NaN\n",
    "    elif (value >= 0.0 and value <= 20.0):\n",
    "        return \"1 Very good\"\n",
    "    elif (value > 20.0 and value <= 60.0):\n",
    "        return \"2 Good\"\n",
    "    elif (value > 60.0 and value <= 100.0):\n",
    "        return \"3 Moderate\"\n",
    "    elif (value > 100.0 and value <= 140.0):\n",
    "        return \"4 Sufficient\"\n",
    "    elif (value > 140.0 and value <= 200.0):\n",
    "        return \"5 Bad\"\n",
    "    elif (value > 200.0):\n",
    "        return \"6 Very bad\"\n",
    "    else:\n",
    "        return value\n",
    "    \n",
    "def PM25qual (value):\n",
    "    if (value < 0.0):\n",
    "        return np.NaN\n",
    "    elif (value >= 0.0 and value <= 12.0):\n",
    "        return \"1 Very good\"\n",
    "    elif (value > 12.0 and value <= 36.0):\n",
    "        return \"2 Good\"\n",
    "    elif (value > 36.0 and value <= 60.0):\n",
    "        return \"3 Moderate\"\n",
    "    elif (value > 60.0 and value <= 84.0):\n",
    "        return \"4 Sufficient\"\n",
    "    elif (value > 84.0 and value <= 120.0):\n",
    "        return \"5 Bad\"\n",
    "    elif (value > 120.0):\n",
    "        return \"6 Very bad\"\n",
    "    else:\n",
    "        return value\n",
    "    \n",
    "def SO2qual (value):\n",
    "    if (value < 0.0):\n",
    "        return np.NaN\n",
    "    elif (value >= 0.0 and value <= 50.0):\n",
    "        return \"1 Very good\"\n",
    "    elif (value > 50.0 and value <= 100.0):\n",
    "        return \"2 Good\"\n",
    "    elif (value > 100.0 and value <= 200.0):\n",
    "        return \"3 Moderate\"\n",
    "    elif (value > 200.0 and value <= 350.0):\n",
    "        return \"4 Sufficient\"\n",
    "    elif (value > 350.0 and value <= 500.0):\n",
    "        return \"5 Bad\"\n",
    "    elif (value > 500.0):\n",
    "        return \"6 Very bad\"\n",
    "    else:\n",
    "        return value"
   ]
  },
  {
   "cell_type": "code",
   "execution_count": 77,
   "metadata": {
    "collapsed": true
   },
   "outputs": [],
   "source": [
    "descriptiveFrame = pd.DataFrame()"
   ]
  },
  {
   "cell_type": "code",
   "execution_count": 78,
   "metadata": {
    "collapsed": false
   },
   "outputs": [],
   "source": [
    "for pollutant in bigDataFrame.columns:\n",
    "    reducedDataFrame[pollutant+\".desc\"] = reducedDataFrame[pollutant].apply(lambda x: globals()[pollutant+\"qual\"](x))\n",
    "    tmpseries = reducedDataFrame.groupby(level=\"Station\")[pollutant+\".desc\"].value_counts(dropna = False).apply(lambda x: (x/float(hours))*100)\n",
    "    descriptiveFrame = pd.concat([descriptiveFrame, tmpseries], axis=1)"
   ]
  },
  {
   "cell_type": "code",
   "execution_count": 79,
   "metadata": {
    "collapsed": false
   },
   "outputs": [],
   "source": [
    "qualities = sorted(descriptiveFrame.index.get_level_values(1).unique().tolist())"
   ]
  },
  {
   "cell_type": "code",
   "execution_count": 80,
   "metadata": {
    "collapsed": false
   },
   "outputs": [],
   "source": [
    "for quality in qualities:\n",
    "    reducedDataFrame.loc[(reducedDataFrame[[\"C6H6.desc\", \"CO.desc\", \"NO2.desc\", \"O3.desc\", \"PM10.desc\", \n",
    "                                        \"PM25.desc\", \"SO2.desc\"]] == quality).any(axis=1),\"overall\"] = quality"
   ]
  },
  {
   "cell_type": "code",
   "execution_count": 81,
   "metadata": {
    "collapsed": true
   },
   "outputs": [],
   "source": [
    "descriptiveFrame.columns = bigDataFrame.columns"
   ]
  },
  {
   "cell_type": "code",
   "execution_count": 82,
   "metadata": {
    "collapsed": false
   },
   "outputs": [],
   "source": [
    "overall = reducedDataFrame.groupby(level=\"Station\")[\"overall\"].value_counts(dropna = \n",
    "                                                                            False).apply(lambda x: (x/float(hours))*100)\n",
    "descriptiveFrame = pd.concat([descriptiveFrame, overall], axis=1)\n",
    "descriptiveFrame.rename(columns={0: \"overall\"}, inplace=True)"
   ]
  },
  {
   "cell_type": "code",
   "execution_count": 100,
   "metadata": {
    "collapsed": false,
    "scrolled": true
   },
   "outputs": [],
   "source": [
    "worstPlace = descriptiveFrame.xs('6 Very bad', level=1)[\"overall\"].idxmax()\n",
    "bestPlace = descriptiveFrame.xs('1 Very good', level=1)[\"overall\"].idxmax()"
   ]
  },
  {
   "cell_type": "code",
   "execution_count": 101,
   "metadata": {
    "collapsed": false
   },
   "outputs": [
    {
     "data": {
      "text/html": [
       "<div>\n",
       "<table border=\"1\" class=\"dataframe\">\n",
       "  <thead>\n",
       "    <tr style=\"text-align: right;\">\n",
       "      <th></th>\n",
       "      <th>C6H6</th>\n",
       "      <th>CO</th>\n",
       "      <th>NO2</th>\n",
       "      <th>O3</th>\n",
       "      <th>PM10</th>\n",
       "      <th>PM25</th>\n",
       "      <th>SO2</th>\n",
       "      <th>overall</th>\n",
       "    </tr>\n",
       "  </thead>\n",
       "  <tbody>\n",
       "    <tr>\n",
       "      <th>NaN</th>\n",
       "      <td>82.636986</td>\n",
       "      <td>1.632420</td>\n",
       "      <td>5.502283</td>\n",
       "      <td>3.276256</td>\n",
       "      <td>16.803653</td>\n",
       "      <td>5.468037</td>\n",
       "      <td>6.107306</td>\n",
       "      <td>NaN</td>\n",
       "    </tr>\n",
       "    <tr>\n",
       "      <th>1 Very good</th>\n",
       "      <td>NaN</td>\n",
       "      <td>80.011416</td>\n",
       "      <td>74.783105</td>\n",
       "      <td>18.264840</td>\n",
       "      <td>24.828767</td>\n",
       "      <td>30.605023</td>\n",
       "      <td>76.347032</td>\n",
       "      <td>2.157534</td>\n",
       "    </tr>\n",
       "    <tr>\n",
       "      <th>2 Good</th>\n",
       "      <td>NaN</td>\n",
       "      <td>0.993151</td>\n",
       "      <td>2.340183</td>\n",
       "      <td>46.232877</td>\n",
       "      <td>33.493151</td>\n",
       "      <td>30.091324</td>\n",
       "      <td>0.182648</td>\n",
       "      <td>48.070776</td>\n",
       "    </tr>\n",
       "    <tr>\n",
       "      <th>3 Moderate</th>\n",
       "      <td>NaN</td>\n",
       "      <td>NaN</td>\n",
       "      <td>0.011416</td>\n",
       "      <td>13.835616</td>\n",
       "      <td>5.547945</td>\n",
       "      <td>9.977169</td>\n",
       "      <td>NaN</td>\n",
       "      <td>24.703196</td>\n",
       "    </tr>\n",
       "    <tr>\n",
       "      <th>4 Sufficient</th>\n",
       "      <td>NaN</td>\n",
       "      <td>NaN</td>\n",
       "      <td>NaN</td>\n",
       "      <td>0.970320</td>\n",
       "      <td>1.164384</td>\n",
       "      <td>3.607306</td>\n",
       "      <td>NaN</td>\n",
       "      <td>4.668950</td>\n",
       "    </tr>\n",
       "    <tr>\n",
       "      <th>5 Bad</th>\n",
       "      <td>NaN</td>\n",
       "      <td>NaN</td>\n",
       "      <td>NaN</td>\n",
       "      <td>0.057078</td>\n",
       "      <td>0.502283</td>\n",
       "      <td>1.837900</td>\n",
       "      <td>NaN</td>\n",
       "      <td>1.952055</td>\n",
       "    </tr>\n",
       "    <tr>\n",
       "      <th>6 Very bad</th>\n",
       "      <td>NaN</td>\n",
       "      <td>NaN</td>\n",
       "      <td>NaN</td>\n",
       "      <td>NaN</td>\n",
       "      <td>0.296804</td>\n",
       "      <td>1.050228</td>\n",
       "      <td>NaN</td>\n",
       "      <td>1.084475</td>\n",
       "    </tr>\n",
       "  </tbody>\n",
       "</table>\n",
       "</div>"
      ],
      "text/plain": [
       "                   C6H6         CO        NO2         O3       PM10  \\\n",
       "NaN           82.636986   1.632420   5.502283   3.276256  16.803653   \n",
       "1 Very good         NaN  80.011416  74.783105  18.264840  24.828767   \n",
       "2 Good              NaN   0.993151   2.340183  46.232877  33.493151   \n",
       "3 Moderate          NaN        NaN   0.011416  13.835616   5.547945   \n",
       "4 Sufficient        NaN        NaN        NaN   0.970320   1.164384   \n",
       "5 Bad               NaN        NaN        NaN   0.057078   0.502283   \n",
       "6 Very bad          NaN        NaN        NaN        NaN   0.296804   \n",
       "\n",
       "                   PM25        SO2    overall  \n",
       "NaN            5.468037   6.107306        NaN  \n",
       "1 Very good   30.605023  76.347032   2.157534  \n",
       "2 Good        30.091324   0.182648  48.070776  \n",
       "3 Moderate     9.977169        NaN  24.703196  \n",
       "4 Sufficient   3.607306        NaN   4.668950  \n",
       "5 Bad          1.837900        NaN   1.952055  \n",
       "6 Very bad     1.050228        NaN   1.084475  "
      ]
     },
     "execution_count": 101,
     "metadata": {},
     "output_type": "execute_result"
    }
   ],
   "source": [
    "descriptiveFrame.xs(worstPlace, level=0)"
   ]
  },
  {
   "cell_type": "code",
   "execution_count": 102,
   "metadata": {
    "collapsed": false
   },
   "outputs": [
    {
     "data": {
      "text/html": [
       "<div>\n",
       "<table border=\"1\" class=\"dataframe\">\n",
       "  <thead>\n",
       "    <tr style=\"text-align: right;\">\n",
       "      <th></th>\n",
       "      <th>C6H6</th>\n",
       "      <th>CO</th>\n",
       "      <th>NO2</th>\n",
       "      <th>O3</th>\n",
       "      <th>PM10</th>\n",
       "      <th>PM25</th>\n",
       "      <th>SO2</th>\n",
       "      <th>overall</th>\n",
       "    </tr>\n",
       "  </thead>\n",
       "  <tbody>\n",
       "    <tr>\n",
       "      <th>NaN</th>\n",
       "      <td>99.520548</td>\n",
       "      <td>1.586758</td>\n",
       "      <td>6.746575</td>\n",
       "      <td>99.520548</td>\n",
       "      <td>0.662100</td>\n",
       "      <td>99.520548</td>\n",
       "      <td>0.422374</td>\n",
       "      <td>NaN</td>\n",
       "    </tr>\n",
       "    <tr>\n",
       "      <th>1 Very good</th>\n",
       "      <td>NaN</td>\n",
       "      <td>97.910959</td>\n",
       "      <td>90.000000</td>\n",
       "      <td>NaN</td>\n",
       "      <td>77.397260</td>\n",
       "      <td>NaN</td>\n",
       "      <td>99.098174</td>\n",
       "      <td>77.465753</td>\n",
       "    </tr>\n",
       "    <tr>\n",
       "      <th>2 Good</th>\n",
       "      <td>NaN</td>\n",
       "      <td>0.022831</td>\n",
       "      <td>2.762557</td>\n",
       "      <td>NaN</td>\n",
       "      <td>20.913242</td>\n",
       "      <td>NaN</td>\n",
       "      <td>NaN</td>\n",
       "      <td>21.495434</td>\n",
       "    </tr>\n",
       "    <tr>\n",
       "      <th>3 Moderate</th>\n",
       "      <td>NaN</td>\n",
       "      <td>NaN</td>\n",
       "      <td>0.011416</td>\n",
       "      <td>NaN</td>\n",
       "      <td>0.399543</td>\n",
       "      <td>NaN</td>\n",
       "      <td>NaN</td>\n",
       "      <td>0.410959</td>\n",
       "    </tr>\n",
       "    <tr>\n",
       "      <th>4 Sufficient</th>\n",
       "      <td>NaN</td>\n",
       "      <td>NaN</td>\n",
       "      <td>NaN</td>\n",
       "      <td>NaN</td>\n",
       "      <td>0.136986</td>\n",
       "      <td>NaN</td>\n",
       "      <td>NaN</td>\n",
       "      <td>0.136986</td>\n",
       "    </tr>\n",
       "    <tr>\n",
       "      <th>5 Bad</th>\n",
       "      <td>NaN</td>\n",
       "      <td>NaN</td>\n",
       "      <td>NaN</td>\n",
       "      <td>NaN</td>\n",
       "      <td>0.011416</td>\n",
       "      <td>NaN</td>\n",
       "      <td>NaN</td>\n",
       "      <td>0.011416</td>\n",
       "    </tr>\n",
       "  </tbody>\n",
       "</table>\n",
       "</div>"
      ],
      "text/plain": [
       "                   C6H6         CO        NO2         O3       PM10  \\\n",
       "NaN           99.520548   1.586758   6.746575  99.520548   0.662100   \n",
       "1 Very good         NaN  97.910959  90.000000        NaN  77.397260   \n",
       "2 Good              NaN   0.022831   2.762557        NaN  20.913242   \n",
       "3 Moderate          NaN        NaN   0.011416        NaN   0.399543   \n",
       "4 Sufficient        NaN        NaN        NaN        NaN   0.136986   \n",
       "5 Bad               NaN        NaN        NaN        NaN   0.011416   \n",
       "\n",
       "                   PM25        SO2    overall  \n",
       "NaN           99.520548   0.422374        NaN  \n",
       "1 Very good         NaN  99.098174  77.465753  \n",
       "2 Good              NaN        NaN  21.495434  \n",
       "3 Moderate          NaN        NaN   0.410959  \n",
       "4 Sufficient        NaN        NaN   0.136986  \n",
       "5 Bad               NaN        NaN   0.011416  "
      ]
     },
     "execution_count": 102,
     "metadata": {},
     "output_type": "execute_result"
    }
   ],
   "source": [
    "descriptiveFrame.xs(bestPlace, level=0)"
   ]
  },
  {
   "cell_type": "code",
   "execution_count": 104,
   "metadata": {
    "collapsed": false
   },
   "outputs": [
    {
     "data": {
      "text/plain": [
       "(u'PmKosTargo12', u'PmSopBitPl06')"
      ]
     },
     "execution_count": 104,
     "metadata": {},
     "output_type": "execute_result"
    }
   ],
   "source": [
    "worstPlace, bestPlace"
   ]
  },
  {
   "cell_type": "markdown",
   "metadata": {},
   "source": [
    "# Part for Tricity and Kashubia"
   ]
  },
  {
   "cell_type": "code",
   "execution_count": 73,
   "metadata": {
    "collapsed": false
   },
   "outputs": [],
   "source": [
    "stations = pd.read_excel(\"../input/Metadane_wer20160914.xlsx\")\n",
    "coolStation = [u'Gdańsk', u'Gdynia', u'Sopot', u'Kościerzyna']\n",
    "selectedStations = stations[stations[u'Miejscowość'].isin(coolStation)]\n",
    "stationCodes = set(list(selected_stations[u'Kod stacji'].values) + list(selected_stations[u'Stary Kod stacji'].values))"
   ]
  },
  {
   "cell_type": "code",
   "execution_count": 74,
   "metadata": {
    "collapsed": false
   },
   "outputs": [],
   "source": [
    "reducedDataFrame = bigDataFrame['2015-01-01 01:00:00':'2016-01-01 00:00:00'].loc[(slice(None),stationCodes), :]"
   ]
  },
  {
   "cell_type": "markdown",
   "metadata": {},
   "source": []
  },
  {
   "cell_type": "markdown",
   "metadata": {
    "collapsed": true
   },
   "source": []
  },
  {
   "cell_type": "code",
   "execution_count": null,
   "metadata": {
    "collapsed": false
   },
   "outputs": [],
   "source": []
  },
  {
   "cell_type": "code",
   "execution_count": null,
   "metadata": {
    "collapsed": false
   },
   "outputs": [],
   "source": []
  },
  {
   "cell_type": "code",
   "execution_count": null,
   "metadata": {
    "collapsed": false
   },
   "outputs": [],
   "source": []
  },
  {
   "cell_type": "code",
   "execution_count": null,
   "metadata": {
    "collapsed": false
   },
   "outputs": [],
   "source": []
  },
  {
   "cell_type": "code",
   "execution_count": null,
   "metadata": {
    "collapsed": false
   },
   "outputs": [],
   "source": []
  },
  {
   "cell_type": "code",
   "execution_count": null,
   "metadata": {
    "collapsed": false
   },
   "outputs": [],
   "source": []
  },
  {
   "cell_type": "code",
   "execution_count": null,
   "metadata": {
    "collapsed": false
   },
   "outputs": [],
   "source": []
  },
  {
   "cell_type": "code",
   "execution_count": null,
   "metadata": {
    "collapsed": false
   },
   "outputs": [],
   "source": []
  },
  {
   "cell_type": "code",
   "execution_count": null,
   "metadata": {
    "collapsed": true
   },
   "outputs": [],
   "source": []
  }
 ],
 "metadata": {
  "kernelspec": {
   "display_name": "Python 2",
   "language": "python",
   "name": "python2"
  },
  "language_info": {
   "codemirror_mode": {
    "name": "ipython",
    "version": 2
   },
   "file_extension": ".py",
   "mimetype": "text/x-python",
   "name": "python",
   "nbconvert_exporter": "python",
   "pygments_lexer": "ipython2",
   "version": "2.7.3"
  }
 },
 "nbformat": 4,
 "nbformat_minor": 2
}
