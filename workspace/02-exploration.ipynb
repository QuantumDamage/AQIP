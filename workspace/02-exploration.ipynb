{
 "cells": [
  {
   "cell_type": "code",
   "execution_count": 1,
   "metadata": {
    "collapsed": true
   },
   "outputs": [],
   "source": [
    "import pandas as pd\n",
    "import numpy as np"
   ]
  },
  {
   "cell_type": "code",
   "execution_count": 2,
   "metadata": {
    "collapsed": true
   },
   "outputs": [],
   "source": [
    "%matplotlib inline"
   ]
  },
  {
   "cell_type": "code",
   "execution_count": 3,
   "metadata": {
    "collapsed": false
   },
   "outputs": [
    {
     "name": "stdout",
     "output_type": "stream",
     "text": [
      "Read data.\n"
     ]
    }
   ],
   "source": [
    "if 'bigDataFrame' in globals():\n",
    "    print(\"Exist, do nothing!\")\n",
    "else:\n",
    "    print(\"Read data.\")\n",
    "    bigDataFrame = pd.read_pickle(\"../output/bigDataFrame.pkl\")\n",
    "    bigDataFrame.rename(columns={\"PM2.5\": \"PM25\"}, inplace=True)"
   ]
  },
  {
   "cell_type": "code",
   "execution_count": null,
   "metadata": {
    "collapsed": false
   },
   "outputs": [
    {
     "data": {
      "text/html": [
       "<div>\n",
       "<table border=\"1\" class=\"dataframe\">\n",
       "  <thead>\n",
       "    <tr style=\"text-align: right;\">\n",
       "      <th></th>\n",
       "      <th></th>\n",
       "      <th>C6H6</th>\n",
       "      <th>CO</th>\n",
       "      <th>NO2</th>\n",
       "      <th>O3</th>\n",
       "      <th>PM10</th>\n",
       "      <th>PM25</th>\n",
       "      <th>SO2</th>\n",
       "    </tr>\n",
       "    <tr>\n",
       "      <th>Hour</th>\n",
       "      <th>Station</th>\n",
       "      <th></th>\n",
       "      <th></th>\n",
       "      <th></th>\n",
       "      <th></th>\n",
       "      <th></th>\n",
       "      <th></th>\n",
       "      <th></th>\n",
       "    </tr>\n",
       "  </thead>\n",
       "  <tbody>\n",
       "    <tr>\n",
       "      <th rowspan=\"2\" valign=\"top\">2000-01-01 01:00:00</th>\n",
       "      <th>Pm.a01a</th>\n",
       "      <td>NaN</td>\n",
       "      <td>NaN</td>\n",
       "      <td>25.0</td>\n",
       "      <td>NaN</td>\n",
       "      <td>NaN</td>\n",
       "      <td>NaN</td>\n",
       "      <td>NaN</td>\n",
       "    </tr>\n",
       "    <tr>\n",
       "      <th>Pm.a03a</th>\n",
       "      <td>NaN</td>\n",
       "      <td>NaN</td>\n",
       "      <td>NaN</td>\n",
       "      <td>38.0</td>\n",
       "      <td>NaN</td>\n",
       "      <td>NaN</td>\n",
       "      <td>NaN</td>\n",
       "    </tr>\n",
       "    <tr>\n",
       "      <th rowspan=\"3\" valign=\"top\">2000-01-01 02:00:00</th>\n",
       "      <th>DsCzer02</th>\n",
       "      <td>NaN</td>\n",
       "      <td>NaN</td>\n",
       "      <td>6.0</td>\n",
       "      <td>35.0</td>\n",
       "      <td>NaN</td>\n",
       "      <td>NaN</td>\n",
       "      <td>NaN</td>\n",
       "    </tr>\n",
       "    <tr>\n",
       "      <th>DsJelw05</th>\n",
       "      <td>NaN</td>\n",
       "      <td>NaN</td>\n",
       "      <td>14.0</td>\n",
       "      <td>29.0</td>\n",
       "      <td>NaN</td>\n",
       "      <td>NaN</td>\n",
       "      <td>NaN</td>\n",
       "    </tr>\n",
       "    <tr>\n",
       "      <th>DsSniezka</th>\n",
       "      <td>NaN</td>\n",
       "      <td>NaN</td>\n",
       "      <td>NaN</td>\n",
       "      <td>61.0</td>\n",
       "      <td>NaN</td>\n",
       "      <td>NaN</td>\n",
       "      <td>NaN</td>\n",
       "    </tr>\n",
       "  </tbody>\n",
       "</table>\n",
       "</div>"
      ],
      "text/plain": [
       "                               C6H6  CO   NO2    O3  PM10  PM25  SO2\n",
       "Hour                Station                                         \n",
       "2000-01-01 01:00:00 Pm.a01a     NaN NaN  25.0   NaN   NaN   NaN  NaN\n",
       "                    Pm.a03a     NaN NaN   NaN  38.0   NaN   NaN  NaN\n",
       "2000-01-01 02:00:00 DsCzer02    NaN NaN   6.0  35.0   NaN   NaN  NaN\n",
       "                    DsJelw05    NaN NaN  14.0  29.0   NaN   NaN  NaN\n",
       "                    DsSniezka   NaN NaN   NaN  61.0   NaN   NaN  NaN"
      ]
     },
     "execution_count": 4,
     "metadata": {},
     "output_type": "execute_result"
    }
   ],
   "source": [
    "bigDataFrame.head()"
   ]
  },
  {
   "cell_type": "code",
   "execution_count": null,
   "metadata": {
    "collapsed": false
   },
   "outputs": [
    {
     "name": "stdout",
     "output_type": "stream",
     "text": [
      "C6H6    (2015-10-28 06:00:00, OpKKozBSmial)\n",
      "CO      (2015-02-15 00:00:00, SlRybniBorki)\n",
      "NO2     (2015-11-07 10:00:00, PmStaGdaLubi)\n",
      "O3      (2015-07-04 12:00:00, LuZarySzyman)\n",
      "PM10    (2015-12-31 20:00:00, SlRybniBorki)\n",
      "PM25    (2015-03-22 23:00:00, MzLegZegrzyn)\n",
      "SO2     (2015-05-21 23:00:00, MzPlocKroJad)\n",
      "dtype: object\n"
     ]
    }
   ],
   "source": [
    "pollutedPlaces = bigDataFrame['2015-01-01 00:00:00':'2015-12-31 23:00:00'].idxmax()\n",
    "print(pollutedPlaces)\n",
    "pollutedPlaces = set([x[1] for x in pollutedPlaces])"
   ]
  },
  {
   "cell_type": "code",
   "execution_count": null,
   "metadata": {
    "collapsed": false
   },
   "outputs": [
    {
     "data": {
      "text/plain": [
       "{u'LuZarySzyman',\n",
       " u'MzLegZegrzyn',\n",
       " u'MzPlocKroJad',\n",
       " u'OpKKozBSmial',\n",
       " u'PmStaGdaLubi',\n",
       " u'SlRybniBorki'}"
      ]
     },
     "execution_count": 6,
     "metadata": {},
     "output_type": "execute_result"
    }
   ],
   "source": [
    "pollutedPlaces"
   ]
  },
  {
   "cell_type": "code",
   "execution_count": null,
   "metadata": {
    "collapsed": true
   },
   "outputs": [],
   "source": [
    "reducedDataFrame = bigDataFrame['2015-01-01 00:00:00':'2015-12-31 23:00:00'].loc[(slice(None),pollutedPlaces), :]"
   ]
  },
  {
   "cell_type": "code",
   "execution_count": null,
   "metadata": {
    "collapsed": true
   },
   "outputs": [],
   "source": [
    "hours = len(reducedDataFrame.index.get_level_values(\"Hour\").unique())"
   ]
  },
  {
   "cell_type": "code",
   "execution_count": null,
   "metadata": {
    "collapsed": true
   },
   "outputs": [],
   "source": [
    "def C6H6qual (value):\n",
    "    if (value >= 0.0 and value <= 5.0):\n",
    "        return \"1 Very good\"\n",
    "    elif (value > 5.0 and value <= 10.0):\n",
    "        return \"2 Good\"\n",
    "    elif (value > 10.0 and value <= 15.0):\n",
    "        return \"3 Moderate\"\n",
    "    elif (value > 15.0 and value <= 20.0):\n",
    "        return \"4 Sufficient\"\n",
    "    elif (value > 20.0 and value <= 50.0):\n",
    "        return \"5 Bad\"\n",
    "    elif (value > 50.0):\n",
    "        return \"6 Very bad\"\n",
    "    else:\n",
    "        return value\n",
    "\n",
    "def COqual (value):\n",
    "    if (value >= 0.0 and value <= 2.0):\n",
    "        return \"1 Very good\"\n",
    "    elif (value > 2.0 and value <= 6.0):\n",
    "        return \"2 Good\"\n",
    "    elif (value > 6.0 and value <= 10.0):\n",
    "        return \"3 Moderate\"\n",
    "    elif (value > 10.0 and value <= 14.0):\n",
    "        return \"4 Sufficient\"\n",
    "    elif (value > 14.0 and value <= 20.0):\n",
    "        return \"5 Bad\"\n",
    "    elif (value > 20.0):\n",
    "        return \"6 Very bad\"\n",
    "    else:\n",
    "        return value\n",
    "    \n",
    "def NO2qual (value):\n",
    "    if (value >= 0.0 and value <= 40.0):\n",
    "        return \"1 Very good\"\n",
    "    elif (value > 40.0 and value <= 100.0):\n",
    "        return \"2 Good\"\n",
    "    elif (value > 100.0 and value <= 150.0):\n",
    "        return \"3 Moderate\"\n",
    "    elif (value > 150.0 and value <= 200.0):\n",
    "        return \"4 Sufficient\"\n",
    "    elif (value > 200.0 and value <= 400.0):\n",
    "        return \"5 Bad\"\n",
    "    elif (value > 400.0):\n",
    "        return \"6 Very bad\"\n",
    "    else:\n",
    "        return value    \n",
    "\n",
    "def O3qual (value):\n",
    "    if (value >= 0.0 and value <= 30.0):\n",
    "        return \"1 Very good\"\n",
    "    elif (value > 30.0 and value <= 70.0):\n",
    "        return \"2 Good\"\n",
    "    elif (value > 70.0 and value <= 120.0):\n",
    "        return \"3 Moderate\"\n",
    "    elif (value > 120.0 and value <= 160.0):\n",
    "        return \"4 Sufficient\"\n",
    "    elif (value > 160.0 and value <= 240.0):\n",
    "        return \"5 Bad\"\n",
    "    elif (value > 240.0):\n",
    "        return \"6 Very bad\"\n",
    "    else:\n",
    "        return value\n",
    "    \n",
    "def PM10qual (value):\n",
    "    if (value >= 0.0 and value <= 20.0):\n",
    "        return \"1 Very good\"\n",
    "    elif (value > 20.0 and value <= 60.0):\n",
    "        return \"2 Good\"\n",
    "    elif (value > 60.0 and value <= 100.0):\n",
    "        return \"3 Moderate\"\n",
    "    elif (value > 100.0 and value <= 140.0):\n",
    "        return \"4 Sufficient\"\n",
    "    elif (value > 140.0 and value <= 200.0):\n",
    "        return \"5 Bad\"\n",
    "    elif (value > 200.0):\n",
    "        return \"6 Very bad\"\n",
    "    else:\n",
    "        return value\n",
    "    \n",
    "def PM25qual (value):\n",
    "    if (value >= 0.0 and value <= 12.0):\n",
    "        return \"1 Very good\"\n",
    "    elif (value > 12.0 and value <= 36.0):\n",
    "        return \"2 Good\"\n",
    "    elif (value > 36.0 and value <= 60.0):\n",
    "        return \"3 Moderate\"\n",
    "    elif (value > 60.0 and value <= 84.0):\n",
    "        return \"4 Sufficient\"\n",
    "    elif (value > 84.0 and value <= 120.0):\n",
    "        return \"5 Bad\"\n",
    "    elif (value > 120.0):\n",
    "        return \"6 Very bad\"\n",
    "    else:\n",
    "        return value\n",
    "    \n",
    "def SO2qual (value):\n",
    "    if (value >= 0.0 and value <= 50.0):\n",
    "        return \"1 Very good\"\n",
    "    elif (value > 50.0 and value <= 100.0):\n",
    "        return \"2 Good\"\n",
    "    elif (value > 100.0 and value <= 200.0):\n",
    "        return \"3 Moderate\"\n",
    "    elif (value > 200.0 and value <= 350.0):\n",
    "        return \"4 Sufficient\"\n",
    "    elif (value > 350.0 and value <= 500.0):\n",
    "        return \"5 Bad\"\n",
    "    elif (value > 500.0):\n",
    "        return \"6 Very bad\"\n",
    "    else:\n",
    "        return value"
   ]
  },
  {
   "cell_type": "code",
   "execution_count": null,
   "metadata": {
    "collapsed": true
   },
   "outputs": [],
   "source": [
    "descriptiveFrame = pd.DataFrame()"
   ]
  },
  {
   "cell_type": "code",
   "execution_count": null,
   "metadata": {
    "collapsed": true
   },
   "outputs": [],
   "source": [
    "for pollutant in bigDataFrame.columns:\n",
    "    reducedDataFrame[pollutant+\".desc\"] = reducedDataFrame[pollutant].apply(lambda x: globals()[pollutant+\"qual\"](x))\n",
    "    tmpseries = reducedDataFrame.groupby(level=\"Station\")[pollutant+\".desc\"].value_counts(dropna = False).apply(lambda x: (x/float(hours))*100)\n",
    "    descriptiveFrame = pd.concat([descriptiveFrame, tmpseries], axis=1)"
   ]
  },
  {
   "cell_type": "code",
   "execution_count": null,
   "metadata": {
    "collapsed": false
   },
   "outputs": [],
   "source": [
    "qualities = sorted(descriptiveFrame.index.get_level_values(1).unique().tolist())"
   ]
  },
  {
   "cell_type": "code",
   "execution_count": null,
   "metadata": {
    "collapsed": true
   },
   "outputs": [],
   "source": [
    "for quality in qualities:\n",
    "    reducedDataFrame.loc[(reducedDataFrame[[\"C6H6.desc\", \"CO.desc\", \"NO2.desc\", \"O3.desc\", \"PM10.desc\", \n",
    "                                        \"PM25.desc\", \"SO2.desc\"]] == quality).any(axis=1),\"overall\"] = quality"
   ]
  },
  {
   "cell_type": "code",
   "execution_count": null,
   "metadata": {
    "collapsed": true
   },
   "outputs": [],
   "source": [
    "descriptiveFrame.columns = bigDataFrame.columns"
   ]
  },
  {
   "cell_type": "code",
   "execution_count": null,
   "metadata": {
    "collapsed": false
   },
   "outputs": [],
   "source": [
    "overall = reducedDataFrame.groupby(level=\"Station\")[\"overall\"].value_counts(dropna = \n",
    "                                                                            False).apply(lambda x: (x/float(hours))*100)\n",
    "descriptiveFrame = pd.concat([descriptiveFrame, overall], axis=1)\n",
    "descriptiveFrame.rename(columns={0: \"overall\"}, inplace=True)"
   ]
  },
  {
   "cell_type": "code",
   "execution_count": null,
   "metadata": {
    "collapsed": false
   },
   "outputs": [
    {
     "data": {
      "text/plain": [
       "LuZarySzyman  NaN                   NaN\n",
       "              1 Very good      9.601553\n",
       "              2 Good          57.266811\n",
       "              3 Moderate      26.955132\n",
       "              4 Sufficient     3.482133\n",
       "              5 Bad            0.890513\n",
       "              6 Very bad       0.308254\n",
       "MzLegZegrzyn  NaN                   NaN\n",
       "              1 Very good      1.255851\n",
       "              2 Good          50.941888\n",
       "              3 Moderate      31.693116\n",
       "              4 Sufficient     8.425619\n",
       "              5 Bad            3.950223\n",
       "              6 Very bad       2.580203\n",
       "MzPlocKroJad  NaN                   NaN\n",
       "              1 Very good     21.965978\n",
       "              2 Good          60.806028\n",
       "              3 Moderate      15.983560\n",
       "              4 Sufficient     0.947597\n",
       "              5 Bad            0.102751\n",
       "              6 Very bad       0.011417\n",
       "OpKKozBSmial  NaN                   NaN\n",
       "              1 Very good      2.922708\n",
       "              2 Good          54.446855\n",
       "              3 Moderate      30.117593\n",
       "              4 Sufficient     6.302089\n",
       "              5 Bad            4.144309\n",
       "              6 Very bad       2.009362\n",
       "PmStaGdaLubi  NaN                   NaN\n",
       "              1 Very good     43.155611\n",
       "              2 Good          38.075123\n",
       "              3 Moderate      12.204590\n",
       "              4 Sufficient     3.539217\n",
       "              5 Bad            1.758192\n",
       "              6 Very bad       1.164516\n",
       "SlRybniBorki  NaN                   NaN\n",
       "              1 Very good      1.541272\n",
       "              2 Good          56.444800\n",
       "              3 Moderate      27.662975\n",
       "              4 Sufficient     6.781596\n",
       "              5 Bad            3.242379\n",
       "              6 Very bad       3.014043\n",
       "Name: overall, dtype: float64"
      ]
     },
     "execution_count": 16,
     "metadata": {},
     "output_type": "execute_result"
    }
   ],
   "source": [
    "descriptiveFrame[\"overall\"]"
   ]
  },
  {
   "cell_type": "code",
   "execution_count": null,
   "metadata": {
    "collapsed": true
   },
   "outputs": [],
   "source": []
  },
  {
   "cell_type": "code",
   "execution_count": null,
   "metadata": {
    "collapsed": false
   },
   "outputs": [],
   "source": []
  },
  {
   "cell_type": "code",
   "execution_count": null,
   "metadata": {
    "collapsed": false
   },
   "outputs": [],
   "source": []
  },
  {
   "cell_type": "code",
   "execution_count": null,
   "metadata": {
    "collapsed": true
   },
   "outputs": [],
   "source": []
  },
  {
   "cell_type": "code",
   "execution_count": null,
   "metadata": {
    "collapsed": false
   },
   "outputs": [],
   "source": []
  },
  {
   "cell_type": "code",
   "execution_count": null,
   "metadata": {
    "collapsed": true
   },
   "outputs": [],
   "source": []
  }
 ],
 "metadata": {
  "kernelspec": {
   "display_name": "Python 2",
   "language": "python",
   "name": "python2"
  },
  "language_info": {
   "codemirror_mode": {
    "name": "ipython",
    "version": 2
   },
   "file_extension": ".py",
   "mimetype": "text/x-python",
   "name": "python",
   "nbconvert_exporter": "python",
   "pygments_lexer": "ipython2",
   "version": "2.7.3"
  }
 },
 "nbformat": 4,
 "nbformat_minor": 2
}
