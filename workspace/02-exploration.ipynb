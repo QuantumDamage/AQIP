{
 "cells": [
  {
   "cell_type": "code",
   "execution_count": 1,
   "metadata": {
    "collapsed": true
   },
   "outputs": [],
   "source": [
    "import pandas as pd\n",
    "import numpy as np"
   ]
  },
  {
   "cell_type": "code",
   "execution_count": 2,
   "metadata": {
    "collapsed": true
   },
   "outputs": [],
   "source": [
    "%matplotlib inline"
   ]
  },
  {
   "cell_type": "code",
   "execution_count": 3,
   "metadata": {
    "collapsed": false
   },
   "outputs": [
    {
     "name": "stdout",
     "output_type": "stream",
     "text": [
      "Read data.\n"
     ]
    }
   ],
   "source": [
    "if 'bigDataFrame' in globals():\n",
    "    print(\"Exist, do nothing!\")\n",
    "else:\n",
    "    print(\"Read data.\")\n",
    "    bigDataFrame = pd.read_pickle(\"../output/bigDataFrame.pkl\")\n",
    "    bigDataFrame.rename(columns={\"PM2.5\": \"PM25\"}, inplace=True)"
   ]
  },
  {
   "cell_type": "code",
   "execution_count": 4,
   "metadata": {
    "collapsed": false
   },
   "outputs": [
    {
     "data": {
      "text/html": [
       "<div>\n",
       "<table border=\"1\" class=\"dataframe\">\n",
       "  <thead>\n",
       "    <tr style=\"text-align: right;\">\n",
       "      <th></th>\n",
       "      <th></th>\n",
       "      <th>C6H6</th>\n",
       "      <th>CO</th>\n",
       "      <th>NO2</th>\n",
       "      <th>O3</th>\n",
       "      <th>PM10</th>\n",
       "      <th>PM25</th>\n",
       "      <th>SO2</th>\n",
       "    </tr>\n",
       "    <tr>\n",
       "      <th>Hour</th>\n",
       "      <th>Station</th>\n",
       "      <th></th>\n",
       "      <th></th>\n",
       "      <th></th>\n",
       "      <th></th>\n",
       "      <th></th>\n",
       "      <th></th>\n",
       "      <th></th>\n",
       "    </tr>\n",
       "  </thead>\n",
       "  <tbody>\n",
       "    <tr>\n",
       "      <th rowspan=\"2\" valign=\"top\">2000-01-01 01:00:00</th>\n",
       "      <th>Pm.a01a</th>\n",
       "      <td>NaN</td>\n",
       "      <td>NaN</td>\n",
       "      <td>25.0</td>\n",
       "      <td>NaN</td>\n",
       "      <td>NaN</td>\n",
       "      <td>NaN</td>\n",
       "      <td>NaN</td>\n",
       "    </tr>\n",
       "    <tr>\n",
       "      <th>Pm.a03a</th>\n",
       "      <td>NaN</td>\n",
       "      <td>NaN</td>\n",
       "      <td>NaN</td>\n",
       "      <td>38.0</td>\n",
       "      <td>NaN</td>\n",
       "      <td>NaN</td>\n",
       "      <td>NaN</td>\n",
       "    </tr>\n",
       "    <tr>\n",
       "      <th rowspan=\"3\" valign=\"top\">2000-01-01 02:00:00</th>\n",
       "      <th>DsCzer02</th>\n",
       "      <td>NaN</td>\n",
       "      <td>NaN</td>\n",
       "      <td>6.0</td>\n",
       "      <td>35.0</td>\n",
       "      <td>NaN</td>\n",
       "      <td>NaN</td>\n",
       "      <td>NaN</td>\n",
       "    </tr>\n",
       "    <tr>\n",
       "      <th>DsJelw05</th>\n",
       "      <td>NaN</td>\n",
       "      <td>NaN</td>\n",
       "      <td>14.0</td>\n",
       "      <td>29.0</td>\n",
       "      <td>NaN</td>\n",
       "      <td>NaN</td>\n",
       "      <td>NaN</td>\n",
       "    </tr>\n",
       "    <tr>\n",
       "      <th>DsSniezka</th>\n",
       "      <td>NaN</td>\n",
       "      <td>NaN</td>\n",
       "      <td>NaN</td>\n",
       "      <td>61.0</td>\n",
       "      <td>NaN</td>\n",
       "      <td>NaN</td>\n",
       "      <td>NaN</td>\n",
       "    </tr>\n",
       "  </tbody>\n",
       "</table>\n",
       "</div>"
      ],
      "text/plain": [
       "                               C6H6  CO   NO2    O3  PM10  PM25  SO2\n",
       "Hour                Station                                         \n",
       "2000-01-01 01:00:00 Pm.a01a     NaN NaN  25.0   NaN   NaN   NaN  NaN\n",
       "                    Pm.a03a     NaN NaN   NaN  38.0   NaN   NaN  NaN\n",
       "2000-01-01 02:00:00 DsCzer02    NaN NaN   6.0  35.0   NaN   NaN  NaN\n",
       "                    DsJelw05    NaN NaN  14.0  29.0   NaN   NaN  NaN\n",
       "                    DsSniezka   NaN NaN   NaN  61.0   NaN   NaN  NaN"
      ]
     },
     "execution_count": 4,
     "metadata": {},
     "output_type": "execute_result"
    }
   ],
   "source": [
    "bigDataFrame.head()"
   ]
  },
  {
   "cell_type": "code",
   "execution_count": 5,
   "metadata": {
    "collapsed": false
   },
   "outputs": [
    {
     "name": "stdout",
     "output_type": "stream",
     "text": [
      "C6H6    (2015-10-28 06:00:00, OpKKozBSmial)\n",
      "CO      (2015-02-15 00:00:00, SlRybniBorki)\n",
      "NO2     (2015-11-07 10:00:00, PmStaGdaLubi)\n",
      "O3      (2015-07-04 12:00:00, LuZarySzyman)\n",
      "PM10    (2015-12-31 20:00:00, SlRybniBorki)\n",
      "PM25    (2015-03-22 23:00:00, MzLegZegrzyn)\n",
      "SO2     (2015-05-21 23:00:00, MzPlocKroJad)\n",
      "dtype: object\n"
     ]
    }
   ],
   "source": [
    "pollutedPlaces = bigDataFrame['2015-01-01 00:00:00':'2015-12-31 23:00:00'].idxmax()\n",
    "print(pollutedPlaces)\n",
    "pollutedPlaces = set([x[1] for x in pollutedPlaces])"
   ]
  },
  {
   "cell_type": "code",
   "execution_count": 6,
   "metadata": {
    "collapsed": false
   },
   "outputs": [
    {
     "data": {
      "text/plain": [
       "{u'LuZarySzyman',\n",
       " u'MzLegZegrzyn',\n",
       " u'MzPlocKroJad',\n",
       " u'OpKKozBSmial',\n",
       " u'PmStaGdaLubi',\n",
       " u'SlRybniBorki'}"
      ]
     },
     "execution_count": 6,
     "metadata": {},
     "output_type": "execute_result"
    }
   ],
   "source": [
    "pollutedPlaces"
   ]
  },
  {
   "cell_type": "code",
   "execution_count": 7,
   "metadata": {
    "collapsed": true
   },
   "outputs": [],
   "source": [
    "#reducedDataFrame = bigDataFrame['2015-01-01 00:00:00':'2015-12-31 23:00:00'].loc[(slice(None),pollutedPlaces), :]"
   ]
  },
  {
   "cell_type": "code",
   "execution_count": 8,
   "metadata": {
    "collapsed": true
   },
   "outputs": [],
   "source": [
    "reducedDataFrame = bigDataFrame['2015-01-01 00:00:00':'2015-12-31 23:00:00'].loc[(slice(None), slice(None)), :]"
   ]
  },
  {
   "cell_type": "code",
   "execution_count": 9,
   "metadata": {
    "collapsed": true
   },
   "outputs": [],
   "source": [
    "hours = len(reducedDataFrame.index.get_level_values(\"Hour\").unique())"
   ]
  },
  {
   "cell_type": "code",
   "execution_count": 10,
   "metadata": {
    "collapsed": true
   },
   "outputs": [],
   "source": [
    "def C6H6qual (value):\n",
    "    if (value < 0.0):\n",
    "        return np.NaN\n",
    "    elif (value >= 0.0 and value <= 5.0):\n",
    "        return \"1 Very good\"\n",
    "    elif (value > 5.0 and value <= 10.0):\n",
    "        return \"2 Good\"\n",
    "    elif (value > 10.0 and value <= 15.0):\n",
    "        return \"3 Moderate\"\n",
    "    elif (value > 15.0 and value <= 20.0):\n",
    "        return \"4 Sufficient\"\n",
    "    elif (value > 20.0 and value <= 50.0):\n",
    "        return \"5 Bad\"\n",
    "    elif (value > 50.0):\n",
    "        return \"6 Very bad\"\n",
    "    else:\n",
    "        return value\n",
    "\n",
    "def COqual (value):\n",
    "    if (value < 0.0):\n",
    "        return np.NaN\n",
    "    elif (value >= 0.0 and value <= 2.0):\n",
    "        return \"1 Very good\"\n",
    "    elif (value > 2.0 and value <= 6.0):\n",
    "        return \"2 Good\"\n",
    "    elif (value > 6.0 and value <= 10.0):\n",
    "        return \"3 Moderate\"\n",
    "    elif (value > 10.0 and value <= 14.0):\n",
    "        return \"4 Sufficient\"\n",
    "    elif (value > 14.0 and value <= 20.0):\n",
    "        return \"5 Bad\"\n",
    "    elif (value > 20.0):\n",
    "        return \"6 Very bad\"\n",
    "    else:\n",
    "        return value\n",
    "    \n",
    "def NO2qual (value):\n",
    "    if (value < 0.0):\n",
    "        return np.NaN\n",
    "    elif (value >= 0.0 and value <= 40.0):\n",
    "        return \"1 Very good\"\n",
    "    elif (value > 40.0 and value <= 100.0):\n",
    "        return \"2 Good\"\n",
    "    elif (value > 100.0 and value <= 150.0):\n",
    "        return \"3 Moderate\"\n",
    "    elif (value > 150.0 and value <= 200.0):\n",
    "        return \"4 Sufficient\"\n",
    "    elif (value > 200.0 and value <= 400.0):\n",
    "        return \"5 Bad\"\n",
    "    elif (value > 400.0):\n",
    "        return \"6 Very bad\"\n",
    "    else:\n",
    "        return value    \n",
    "\n",
    "def O3qual (value):\n",
    "    if (value < 0.0):\n",
    "        return np.NaN\n",
    "    elif (value >= 0.0 and value <= 30.0):\n",
    "        return \"1 Very good\"\n",
    "    elif (value > 30.0 and value <= 70.0):\n",
    "        return \"2 Good\"\n",
    "    elif (value > 70.0 and value <= 120.0):\n",
    "        return \"3 Moderate\"\n",
    "    elif (value > 120.0 and value <= 160.0):\n",
    "        return \"4 Sufficient\"\n",
    "    elif (value > 160.0 and value <= 240.0):\n",
    "        return \"5 Bad\"\n",
    "    elif (value > 240.0):\n",
    "        return \"6 Very bad\"\n",
    "    else:\n",
    "        return value\n",
    "    \n",
    "def PM10qual (value):\n",
    "    if (value < 0.0):\n",
    "        return np.NaN\n",
    "    elif (value >= 0.0 and value <= 20.0):\n",
    "        return \"1 Very good\"\n",
    "    elif (value > 20.0 and value <= 60.0):\n",
    "        return \"2 Good\"\n",
    "    elif (value > 60.0 and value <= 100.0):\n",
    "        return \"3 Moderate\"\n",
    "    elif (value > 100.0 and value <= 140.0):\n",
    "        return \"4 Sufficient\"\n",
    "    elif (value > 140.0 and value <= 200.0):\n",
    "        return \"5 Bad\"\n",
    "    elif (value > 200.0):\n",
    "        return \"6 Very bad\"\n",
    "    else:\n",
    "        return value\n",
    "    \n",
    "def PM25qual (value):\n",
    "    if (value < 0.0):\n",
    "        return np.NaN\n",
    "    elif (value >= 0.0 and value <= 12.0):\n",
    "        return \"1 Very good\"\n",
    "    elif (value > 12.0 and value <= 36.0):\n",
    "        return \"2 Good\"\n",
    "    elif (value > 36.0 and value <= 60.0):\n",
    "        return \"3 Moderate\"\n",
    "    elif (value > 60.0 and value <= 84.0):\n",
    "        return \"4 Sufficient\"\n",
    "    elif (value > 84.0 and value <= 120.0):\n",
    "        return \"5 Bad\"\n",
    "    elif (value > 120.0):\n",
    "        return \"6 Very bad\"\n",
    "    else:\n",
    "        return value\n",
    "    \n",
    "def SO2qual (value):\n",
    "    if (value < 0.0):\n",
    "        return np.NaN\n",
    "    elif (value >= 0.0 and value <= 50.0):\n",
    "        return \"1 Very good\"\n",
    "    elif (value > 50.0 and value <= 100.0):\n",
    "        return \"2 Good\"\n",
    "    elif (value > 100.0 and value <= 200.0):\n",
    "        return \"3 Moderate\"\n",
    "    elif (value > 200.0 and value <= 350.0):\n",
    "        return \"4 Sufficient\"\n",
    "    elif (value > 350.0 and value <= 500.0):\n",
    "        return \"5 Bad\"\n",
    "    elif (value > 500.0):\n",
    "        return \"6 Very bad\"\n",
    "    else:\n",
    "        return value"
   ]
  },
  {
   "cell_type": "code",
   "execution_count": 11,
   "metadata": {
    "collapsed": true
   },
   "outputs": [],
   "source": [
    "descriptiveFrame = pd.DataFrame()"
   ]
  },
  {
   "cell_type": "code",
   "execution_count": 12,
   "metadata": {
    "collapsed": false
   },
   "outputs": [],
   "source": [
    "for pollutant in bigDataFrame.columns:\n",
    "    reducedDataFrame[pollutant+\".desc\"] = reducedDataFrame[pollutant].apply(lambda x: globals()[pollutant+\"qual\"](x))\n",
    "    tmpseries = reducedDataFrame.groupby(level=\"Station\")[pollutant+\".desc\"].value_counts(dropna = False).apply(lambda x: (x/float(hours))*100)\n",
    "    descriptiveFrame = pd.concat([descriptiveFrame, tmpseries], axis=1)"
   ]
  },
  {
   "cell_type": "code",
   "execution_count": 13,
   "metadata": {
    "collapsed": false
   },
   "outputs": [],
   "source": [
    "qualities = sorted(descriptiveFrame.index.get_level_values(1).unique().tolist())"
   ]
  },
  {
   "cell_type": "code",
   "execution_count": 14,
   "metadata": {
    "collapsed": false
   },
   "outputs": [],
   "source": [
    "for quality in qualities:\n",
    "    reducedDataFrame.loc[(reducedDataFrame[[\"C6H6.desc\", \"CO.desc\", \"NO2.desc\", \"O3.desc\", \"PM10.desc\", \n",
    "                                        \"PM25.desc\", \"SO2.desc\"]] == quality).any(axis=1),\"overall\"] = quality"
   ]
  },
  {
   "cell_type": "code",
   "execution_count": 15,
   "metadata": {
    "collapsed": true
   },
   "outputs": [],
   "source": [
    "descriptiveFrame.columns = bigDataFrame.columns"
   ]
  },
  {
   "cell_type": "code",
   "execution_count": 16,
   "metadata": {
    "collapsed": false
   },
   "outputs": [],
   "source": [
    "overall = reducedDataFrame.groupby(level=\"Station\")[\"overall\"].value_counts(dropna = \n",
    "                                                                            False).apply(lambda x: (x/float(hours))*100)\n",
    "descriptiveFrame = pd.concat([descriptiveFrame, overall], axis=1)\n",
    "descriptiveFrame.rename(columns={0: \"overall\"}, inplace=True)"
   ]
  },
  {
   "cell_type": "code",
   "execution_count": 17,
   "metadata": {
    "collapsed": false,
    "scrolled": true
   },
   "outputs": [],
   "source": [
    "worstPlace = descriptiveFrame.xs('6 Very bad', level=1)[\"overall\"].idxmax()\n",
    "bestPlace = descriptiveFrame.xs('1 Very good', level=1)[\"overall\"].idxmax()"
   ]
  },
  {
   "cell_type": "code",
   "execution_count": 18,
   "metadata": {
    "collapsed": false
   },
   "outputs": [
    {
     "data": {
      "text/html": [
       "<div>\n",
       "<table border=\"1\" class=\"dataframe\">\n",
       "  <thead>\n",
       "    <tr style=\"text-align: right;\">\n",
       "      <th></th>\n",
       "      <th>C6H6</th>\n",
       "      <th>CO</th>\n",
       "      <th>NO2</th>\n",
       "      <th>O3</th>\n",
       "      <th>PM10</th>\n",
       "      <th>PM25</th>\n",
       "      <th>SO2</th>\n",
       "      <th>overall</th>\n",
       "    </tr>\n",
       "  </thead>\n",
       "  <tbody>\n",
       "    <tr>\n",
       "      <th>NaN</th>\n",
       "      <td>98.184932</td>\n",
       "      <td>0.844749</td>\n",
       "      <td>0.924658</td>\n",
       "      <td>98.184932</td>\n",
       "      <td>0.308219</td>\n",
       "      <td>0.319635</td>\n",
       "      <td>98.184932</td>\n",
       "      <td>NaN</td>\n",
       "    </tr>\n",
       "    <tr>\n",
       "      <th>1 Very good</th>\n",
       "      <td>NaN</td>\n",
       "      <td>91.997717</td>\n",
       "      <td>20.764840</td>\n",
       "      <td>NaN</td>\n",
       "      <td>7.066210</td>\n",
       "      <td>8.070776</td>\n",
       "      <td>NaN</td>\n",
       "      <td>2.100457</td>\n",
       "    </tr>\n",
       "    <tr>\n",
       "      <th>2 Good</th>\n",
       "      <td>NaN</td>\n",
       "      <td>5.342466</td>\n",
       "      <td>67.945205</td>\n",
       "      <td>NaN</td>\n",
       "      <td>50.091324</td>\n",
       "      <td>45.547945</td>\n",
       "      <td>NaN</td>\n",
       "      <td>43.778539</td>\n",
       "    </tr>\n",
       "    <tr>\n",
       "      <th>3 Moderate</th>\n",
       "      <td>NaN</td>\n",
       "      <td>NaN</td>\n",
       "      <td>8.162100</td>\n",
       "      <td>NaN</td>\n",
       "      <td>22.545662</td>\n",
       "      <td>23.687215</td>\n",
       "      <td>NaN</td>\n",
       "      <td>29.543379</td>\n",
       "    </tr>\n",
       "    <tr>\n",
       "      <th>4 Sufficient</th>\n",
       "      <td>NaN</td>\n",
       "      <td>NaN</td>\n",
       "      <td>0.376712</td>\n",
       "      <td>NaN</td>\n",
       "      <td>8.436073</td>\n",
       "      <td>9.315068</td>\n",
       "      <td>NaN</td>\n",
       "      <td>10.513699</td>\n",
       "    </tr>\n",
       "    <tr>\n",
       "      <th>5 Bad</th>\n",
       "      <td>NaN</td>\n",
       "      <td>NaN</td>\n",
       "      <td>0.011416</td>\n",
       "      <td>NaN</td>\n",
       "      <td>6.586758</td>\n",
       "      <td>6.118721</td>\n",
       "      <td>NaN</td>\n",
       "      <td>6.552511</td>\n",
       "    </tr>\n",
       "    <tr>\n",
       "      <th>6 Very bad</th>\n",
       "      <td>NaN</td>\n",
       "      <td>NaN</td>\n",
       "      <td>NaN</td>\n",
       "      <td>NaN</td>\n",
       "      <td>3.150685</td>\n",
       "      <td>5.125571</td>\n",
       "      <td>NaN</td>\n",
       "      <td>5.696347</td>\n",
       "    </tr>\n",
       "  </tbody>\n",
       "</table>\n",
       "</div>"
      ],
      "text/plain": [
       "                   C6H6         CO        NO2         O3       PM10  \\\n",
       "NaN           98.184932   0.844749   0.924658  98.184932   0.308219   \n",
       "1 Very good         NaN  91.997717  20.764840        NaN   7.066210   \n",
       "2 Good              NaN   5.342466  67.945205        NaN  50.091324   \n",
       "3 Moderate          NaN        NaN   8.162100        NaN  22.545662   \n",
       "4 Sufficient        NaN        NaN   0.376712        NaN   8.436073   \n",
       "5 Bad               NaN        NaN   0.011416        NaN   6.586758   \n",
       "6 Very bad          NaN        NaN        NaN        NaN   3.150685   \n",
       "\n",
       "                   PM25        SO2    overall  \n",
       "NaN            0.319635  98.184932        NaN  \n",
       "1 Very good    8.070776        NaN   2.100457  \n",
       "2 Good        45.547945        NaN  43.778539  \n",
       "3 Moderate    23.687215        NaN  29.543379  \n",
       "4 Sufficient   9.315068        NaN  10.513699  \n",
       "5 Bad          6.118721        NaN   6.552511  \n",
       "6 Very bad     5.125571        NaN   5.696347  "
      ]
     },
     "execution_count": 18,
     "metadata": {},
     "output_type": "execute_result"
    }
   ],
   "source": [
    "descriptiveFrame.xs(worstPlace, level=0)"
   ]
  },
  {
   "cell_type": "code",
   "execution_count": 19,
   "metadata": {
    "collapsed": false
   },
   "outputs": [
    {
     "data": {
      "text/html": [
       "<div>\n",
       "<table border=\"1\" class=\"dataframe\">\n",
       "  <thead>\n",
       "    <tr style=\"text-align: right;\">\n",
       "      <th></th>\n",
       "      <th>C6H6</th>\n",
       "      <th>CO</th>\n",
       "      <th>NO2</th>\n",
       "      <th>O3</th>\n",
       "      <th>PM10</th>\n",
       "      <th>PM25</th>\n",
       "      <th>SO2</th>\n",
       "      <th>overall</th>\n",
       "    </tr>\n",
       "  </thead>\n",
       "  <tbody>\n",
       "    <tr>\n",
       "      <th>NaN</th>\n",
       "      <td>99.623288</td>\n",
       "      <td>4.463470</td>\n",
       "      <td>99.623288</td>\n",
       "      <td>99.623288</td>\n",
       "      <td>99.623288</td>\n",
       "      <td>99.623288</td>\n",
       "      <td>4.828767</td>\n",
       "      <td>NaN</td>\n",
       "    </tr>\n",
       "    <tr>\n",
       "      <th>1 Very good</th>\n",
       "      <td>NaN</td>\n",
       "      <td>94.452055</td>\n",
       "      <td>NaN</td>\n",
       "      <td>NaN</td>\n",
       "      <td>NaN</td>\n",
       "      <td>NaN</td>\n",
       "      <td>93.835616</td>\n",
       "      <td>98.196347</td>\n",
       "    </tr>\n",
       "    <tr>\n",
       "      <th>2 Good</th>\n",
       "      <td>NaN</td>\n",
       "      <td>0.707763</td>\n",
       "      <td>NaN</td>\n",
       "      <td>NaN</td>\n",
       "      <td>NaN</td>\n",
       "      <td>NaN</td>\n",
       "      <td>0.958904</td>\n",
       "      <td>1.426941</td>\n",
       "    </tr>\n",
       "  </tbody>\n",
       "</table>\n",
       "</div>"
      ],
      "text/plain": [
       "                  C6H6         CO        NO2         O3       PM10       PM25  \\\n",
       "NaN          99.623288   4.463470  99.623288  99.623288  99.623288  99.623288   \n",
       "1 Very good        NaN  94.452055        NaN        NaN        NaN        NaN   \n",
       "2 Good             NaN   0.707763        NaN        NaN        NaN        NaN   \n",
       "\n",
       "                   SO2    overall  \n",
       "NaN           4.828767        NaN  \n",
       "1 Very good  93.835616  98.196347  \n",
       "2 Good        0.958904   1.426941  "
      ]
     },
     "execution_count": 19,
     "metadata": {},
     "output_type": "execute_result"
    }
   ],
   "source": [
    "descriptiveFrame.xs(bestPlace, level=0)"
   ]
  },
  {
   "cell_type": "code",
   "execution_count": 20,
   "metadata": {
    "collapsed": false
   },
   "outputs": [
    {
     "data": {
      "text/plain": [
       "(u'MpKrakAlKras', u'SlZorySikors')"
      ]
     },
     "execution_count": 20,
     "metadata": {},
     "output_type": "execute_result"
    }
   ],
   "source": [
    "worstPlace, bestPlace"
   ]
  },
  {
   "cell_type": "code",
   "execution_count": null,
   "metadata": {
    "collapsed": false
   },
   "outputs": [],
   "source": []
  },
  {
   "cell_type": "code",
   "execution_count": null,
   "metadata": {
    "collapsed": false
   },
   "outputs": [],
   "source": []
  },
  {
   "cell_type": "code",
   "execution_count": null,
   "metadata": {
    "collapsed": true
   },
   "outputs": [],
   "source": []
  }
 ],
 "metadata": {
  "kernelspec": {
   "display_name": "Python 2",
   "language": "python",
   "name": "python2"
  },
  "language_info": {
   "codemirror_mode": {
    "name": "ipython",
    "version": 2
   },
   "file_extension": ".py",
   "mimetype": "text/x-python",
   "name": "python",
   "nbconvert_exporter": "python",
   "pygments_lexer": "ipython2",
   "version": "2.7.3"
  }
 },
 "nbformat": 4,
 "nbformat_minor": 2
}
