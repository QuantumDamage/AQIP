{
 "cells": [
  {
   "cell_type": "code",
   "execution_count": 1,
   "metadata": {
    "collapsed": true
   },
   "outputs": [],
   "source": [
    "%matplotlib inline"
   ]
  },
  {
   "cell_type": "code",
   "execution_count": 2,
   "metadata": {
    "collapsed": true
   },
   "outputs": [],
   "source": [
    "import requests\n",
    "from pandas.io.json import json_normalize\n",
    "import pandas as pd\n",
    "import numpy as np"
   ]
  },
  {
   "cell_type": "code",
   "execution_count": 3,
   "metadata": {
    "collapsed": true
   },
   "outputs": [],
   "source": [
    "sensorId = 4727\n",
    "r = requests.get('http://api.gios.gov.pl/pjp-api/rest/data/getData/' + str(sensorId))"
   ]
  },
  {
   "cell_type": "code",
   "execution_count": 4,
   "metadata": {
    "collapsed": true
   },
   "outputs": [],
   "source": [
    "concentration = json_normalize(r.json())\n",
    "concentrationFrame = pd.DataFrame()\n",
    "concentrationFrame[\"dates\"] = [d[u'date'] for d in concentration[\"values\"].values.item()]\n",
    "concentrationFrame[\"values\"] = [d[u'value'] for d in concentration[\"values\"].values.item()]\n",
    "concentrationFrame = concentrationFrame.iloc[::-1]\n",
    "rng = pd.date_range(start = concentrationFrame[\"dates\"][:1].item(), periods=len(concentrationFrame), freq='H')\n",
    "concentrationFrame[\"dates\"] = rng\n",
    "concentrationFrame = concentrationFrame[:-1]  #removing last line\n",
    "firstDatetime = concentrationFrame[\"dates\"].iloc[0]\n",
    "concentrationFrame[\"relativeTime\"] = (concentrationFrame[\"dates\"] - firstDatetime) / np.timedelta64(1, 'h')"
   ]
  },
  {
   "cell_type": "code",
   "execution_count": 5,
   "metadata": {
    "collapsed": false
   },
   "outputs": [
    {
     "data": {
      "text/html": [
       "<div>\n",
       "<table border=\"1\" class=\"dataframe\">\n",
       "  <thead>\n",
       "    <tr style=\"text-align: right;\">\n",
       "      <th></th>\n",
       "      <th>dates</th>\n",
       "      <th>values</th>\n",
       "      <th>relativeTime</th>\n",
       "    </tr>\n",
       "  </thead>\n",
       "  <tbody>\n",
       "    <tr>\n",
       "      <th>60</th>\n",
       "      <td>2017-04-21 01:00:00</td>\n",
       "      <td>19.14730</td>\n",
       "      <td>0.0</td>\n",
       "    </tr>\n",
       "    <tr>\n",
       "      <th>59</th>\n",
       "      <td>2017-04-21 02:00:00</td>\n",
       "      <td>1.65206</td>\n",
       "      <td>1.0</td>\n",
       "    </tr>\n",
       "    <tr>\n",
       "      <th>58</th>\n",
       "      <td>2017-04-21 03:00:00</td>\n",
       "      <td>12.53800</td>\n",
       "      <td>2.0</td>\n",
       "    </tr>\n",
       "    <tr>\n",
       "      <th>57</th>\n",
       "      <td>2017-04-21 04:00:00</td>\n",
       "      <td>1.00000</td>\n",
       "      <td>3.0</td>\n",
       "    </tr>\n",
       "    <tr>\n",
       "      <th>56</th>\n",
       "      <td>2017-04-21 05:00:00</td>\n",
       "      <td>20.45770</td>\n",
       "      <td>4.0</td>\n",
       "    </tr>\n",
       "    <tr>\n",
       "      <th>55</th>\n",
       "      <td>2017-04-21 06:00:00</td>\n",
       "      <td>22.90880</td>\n",
       "      <td>5.0</td>\n",
       "    </tr>\n",
       "    <tr>\n",
       "      <th>54</th>\n",
       "      <td>2017-04-21 07:00:00</td>\n",
       "      <td>13.48710</td>\n",
       "      <td>6.0</td>\n",
       "    </tr>\n",
       "    <tr>\n",
       "      <th>53</th>\n",
       "      <td>2017-04-21 08:00:00</td>\n",
       "      <td>32.13200</td>\n",
       "      <td>7.0</td>\n",
       "    </tr>\n",
       "    <tr>\n",
       "      <th>52</th>\n",
       "      <td>2017-04-21 09:00:00</td>\n",
       "      <td>17.73870</td>\n",
       "      <td>8.0</td>\n",
       "    </tr>\n",
       "    <tr>\n",
       "      <th>51</th>\n",
       "      <td>2017-04-21 10:00:00</td>\n",
       "      <td>12.90010</td>\n",
       "      <td>9.0</td>\n",
       "    </tr>\n",
       "    <tr>\n",
       "      <th>50</th>\n",
       "      <td>2017-04-21 11:00:00</td>\n",
       "      <td>4.74283</td>\n",
       "      <td>10.0</td>\n",
       "    </tr>\n",
       "    <tr>\n",
       "      <th>49</th>\n",
       "      <td>2017-04-21 12:00:00</td>\n",
       "      <td>10.70450</td>\n",
       "      <td>11.0</td>\n",
       "    </tr>\n",
       "    <tr>\n",
       "      <th>48</th>\n",
       "      <td>2017-04-21 13:00:00</td>\n",
       "      <td>1.00000</td>\n",
       "      <td>12.0</td>\n",
       "    </tr>\n",
       "    <tr>\n",
       "      <th>47</th>\n",
       "      <td>2017-04-21 14:00:00</td>\n",
       "      <td>2.95744</td>\n",
       "      <td>13.0</td>\n",
       "    </tr>\n",
       "    <tr>\n",
       "      <th>46</th>\n",
       "      <td>2017-04-21 15:00:00</td>\n",
       "      <td>27.01130</td>\n",
       "      <td>14.0</td>\n",
       "    </tr>\n",
       "    <tr>\n",
       "      <th>45</th>\n",
       "      <td>2017-04-21 16:00:00</td>\n",
       "      <td>22.96910</td>\n",
       "      <td>15.0</td>\n",
       "    </tr>\n",
       "    <tr>\n",
       "      <th>44</th>\n",
       "      <td>2017-04-21 17:00:00</td>\n",
       "      <td>21.15800</td>\n",
       "      <td>16.0</td>\n",
       "    </tr>\n",
       "    <tr>\n",
       "      <th>43</th>\n",
       "      <td>2017-04-21 18:00:00</td>\n",
       "      <td>1.00000</td>\n",
       "      <td>17.0</td>\n",
       "    </tr>\n",
       "    <tr>\n",
       "      <th>42</th>\n",
       "      <td>2017-04-21 19:00:00</td>\n",
       "      <td>5.51700</td>\n",
       "      <td>18.0</td>\n",
       "    </tr>\n",
       "    <tr>\n",
       "      <th>41</th>\n",
       "      <td>2017-04-21 20:00:00</td>\n",
       "      <td>4.58017</td>\n",
       "      <td>19.0</td>\n",
       "    </tr>\n",
       "    <tr>\n",
       "      <th>40</th>\n",
       "      <td>2017-04-21 21:00:00</td>\n",
       "      <td>6.83833</td>\n",
       "      <td>20.0</td>\n",
       "    </tr>\n",
       "    <tr>\n",
       "      <th>39</th>\n",
       "      <td>2017-04-21 22:00:00</td>\n",
       "      <td>1.00000</td>\n",
       "      <td>21.0</td>\n",
       "    </tr>\n",
       "    <tr>\n",
       "      <th>38</th>\n",
       "      <td>2017-04-21 23:00:00</td>\n",
       "      <td>1.00000</td>\n",
       "      <td>22.0</td>\n",
       "    </tr>\n",
       "    <tr>\n",
       "      <th>37</th>\n",
       "      <td>2017-04-22 00:00:00</td>\n",
       "      <td>1.00000</td>\n",
       "      <td>23.0</td>\n",
       "    </tr>\n",
       "    <tr>\n",
       "      <th>36</th>\n",
       "      <td>2017-04-22 01:00:00</td>\n",
       "      <td>6.34769</td>\n",
       "      <td>24.0</td>\n",
       "    </tr>\n",
       "    <tr>\n",
       "      <th>35</th>\n",
       "      <td>2017-04-22 02:00:00</td>\n",
       "      <td>1.90883</td>\n",
       "      <td>25.0</td>\n",
       "    </tr>\n",
       "    <tr>\n",
       "      <th>34</th>\n",
       "      <td>2017-04-22 03:00:00</td>\n",
       "      <td>12.55590</td>\n",
       "      <td>26.0</td>\n",
       "    </tr>\n",
       "    <tr>\n",
       "      <th>33</th>\n",
       "      <td>2017-04-22 04:00:00</td>\n",
       "      <td>16.61140</td>\n",
       "      <td>27.0</td>\n",
       "    </tr>\n",
       "    <tr>\n",
       "      <th>32</th>\n",
       "      <td>2017-04-22 05:00:00</td>\n",
       "      <td>18.76860</td>\n",
       "      <td>28.0</td>\n",
       "    </tr>\n",
       "    <tr>\n",
       "      <th>31</th>\n",
       "      <td>2017-04-22 06:00:00</td>\n",
       "      <td>18.08410</td>\n",
       "      <td>29.0</td>\n",
       "    </tr>\n",
       "    <tr>\n",
       "      <th>30</th>\n",
       "      <td>2017-04-22 07:00:00</td>\n",
       "      <td>13.14770</td>\n",
       "      <td>30.0</td>\n",
       "    </tr>\n",
       "    <tr>\n",
       "      <th>29</th>\n",
       "      <td>2017-04-22 08:00:00</td>\n",
       "      <td>16.37040</td>\n",
       "      <td>31.0</td>\n",
       "    </tr>\n",
       "    <tr>\n",
       "      <th>28</th>\n",
       "      <td>2017-04-22 09:00:00</td>\n",
       "      <td>7.80183</td>\n",
       "      <td>32.0</td>\n",
       "    </tr>\n",
       "    <tr>\n",
       "      <th>27</th>\n",
       "      <td>2017-04-22 10:00:00</td>\n",
       "      <td>4.57194</td>\n",
       "      <td>33.0</td>\n",
       "    </tr>\n",
       "    <tr>\n",
       "      <th>26</th>\n",
       "      <td>2017-04-22 11:00:00</td>\n",
       "      <td>8.06875</td>\n",
       "      <td>34.0</td>\n",
       "    </tr>\n",
       "    <tr>\n",
       "      <th>25</th>\n",
       "      <td>2017-04-22 12:00:00</td>\n",
       "      <td>5.24153</td>\n",
       "      <td>35.0</td>\n",
       "    </tr>\n",
       "    <tr>\n",
       "      <th>24</th>\n",
       "      <td>2017-04-22 13:00:00</td>\n",
       "      <td>6.09681</td>\n",
       "      <td>36.0</td>\n",
       "    </tr>\n",
       "    <tr>\n",
       "      <th>23</th>\n",
       "      <td>2017-04-22 14:00:00</td>\n",
       "      <td>20.31990</td>\n",
       "      <td>37.0</td>\n",
       "    </tr>\n",
       "    <tr>\n",
       "      <th>22</th>\n",
       "      <td>2017-04-22 15:00:00</td>\n",
       "      <td>14.82320</td>\n",
       "      <td>38.0</td>\n",
       "    </tr>\n",
       "    <tr>\n",
       "      <th>21</th>\n",
       "      <td>2017-04-22 16:00:00</td>\n",
       "      <td>9.87542</td>\n",
       "      <td>39.0</td>\n",
       "    </tr>\n",
       "    <tr>\n",
       "      <th>20</th>\n",
       "      <td>2017-04-22 17:00:00</td>\n",
       "      <td>2.72983</td>\n",
       "      <td>40.0</td>\n",
       "    </tr>\n",
       "    <tr>\n",
       "      <th>19</th>\n",
       "      <td>2017-04-22 18:00:00</td>\n",
       "      <td>3.98144</td>\n",
       "      <td>41.0</td>\n",
       "    </tr>\n",
       "    <tr>\n",
       "      <th>18</th>\n",
       "      <td>2017-04-22 19:00:00</td>\n",
       "      <td>6.63619</td>\n",
       "      <td>42.0</td>\n",
       "    </tr>\n",
       "    <tr>\n",
       "      <th>17</th>\n",
       "      <td>2017-04-22 20:00:00</td>\n",
       "      <td>1.95631</td>\n",
       "      <td>43.0</td>\n",
       "    </tr>\n",
       "    <tr>\n",
       "      <th>16</th>\n",
       "      <td>2017-04-22 21:00:00</td>\n",
       "      <td>16.38690</td>\n",
       "      <td>44.0</td>\n",
       "    </tr>\n",
       "    <tr>\n",
       "      <th>15</th>\n",
       "      <td>2017-04-22 22:00:00</td>\n",
       "      <td>18.20030</td>\n",
       "      <td>45.0</td>\n",
       "    </tr>\n",
       "    <tr>\n",
       "      <th>14</th>\n",
       "      <td>2017-04-22 23:00:00</td>\n",
       "      <td>15.53640</td>\n",
       "      <td>46.0</td>\n",
       "    </tr>\n",
       "    <tr>\n",
       "      <th>13</th>\n",
       "      <td>2017-04-23 00:00:00</td>\n",
       "      <td>17.38690</td>\n",
       "      <td>47.0</td>\n",
       "    </tr>\n",
       "    <tr>\n",
       "      <th>12</th>\n",
       "      <td>2017-04-23 01:00:00</td>\n",
       "      <td>22.25380</td>\n",
       "      <td>48.0</td>\n",
       "    </tr>\n",
       "    <tr>\n",
       "      <th>11</th>\n",
       "      <td>2017-04-23 02:00:00</td>\n",
       "      <td>9.44294</td>\n",
       "      <td>49.0</td>\n",
       "    </tr>\n",
       "    <tr>\n",
       "      <th>10</th>\n",
       "      <td>2017-04-23 03:00:00</td>\n",
       "      <td>10.27420</td>\n",
       "      <td>50.0</td>\n",
       "    </tr>\n",
       "    <tr>\n",
       "      <th>9</th>\n",
       "      <td>2017-04-23 04:00:00</td>\n",
       "      <td>14.60180</td>\n",
       "      <td>51.0</td>\n",
       "    </tr>\n",
       "    <tr>\n",
       "      <th>8</th>\n",
       "      <td>2017-04-23 05:00:00</td>\n",
       "      <td>1.00000</td>\n",
       "      <td>52.0</td>\n",
       "    </tr>\n",
       "    <tr>\n",
       "      <th>7</th>\n",
       "      <td>2017-04-23 06:00:00</td>\n",
       "      <td>6.04558</td>\n",
       "      <td>53.0</td>\n",
       "    </tr>\n",
       "    <tr>\n",
       "      <th>6</th>\n",
       "      <td>2017-04-23 07:00:00</td>\n",
       "      <td>14.71620</td>\n",
       "      <td>54.0</td>\n",
       "    </tr>\n",
       "    <tr>\n",
       "      <th>5</th>\n",
       "      <td>2017-04-23 08:00:00</td>\n",
       "      <td>34.49780</td>\n",
       "      <td>55.0</td>\n",
       "    </tr>\n",
       "    <tr>\n",
       "      <th>4</th>\n",
       "      <td>2017-04-23 09:00:00</td>\n",
       "      <td>5.20961</td>\n",
       "      <td>56.0</td>\n",
       "    </tr>\n",
       "    <tr>\n",
       "      <th>3</th>\n",
       "      <td>2017-04-23 10:00:00</td>\n",
       "      <td>1.00000</td>\n",
       "      <td>57.0</td>\n",
       "    </tr>\n",
       "    <tr>\n",
       "      <th>2</th>\n",
       "      <td>2017-04-23 11:00:00</td>\n",
       "      <td>5.86842</td>\n",
       "      <td>58.0</td>\n",
       "    </tr>\n",
       "    <tr>\n",
       "      <th>1</th>\n",
       "      <td>2017-04-23 12:00:00</td>\n",
       "      <td>9.66539</td>\n",
       "      <td>59.0</td>\n",
       "    </tr>\n",
       "  </tbody>\n",
       "</table>\n",
       "</div>"
      ],
      "text/plain": [
       "                 dates    values  relativeTime\n",
       "60 2017-04-21 01:00:00  19.14730           0.0\n",
       "59 2017-04-21 02:00:00   1.65206           1.0\n",
       "58 2017-04-21 03:00:00  12.53800           2.0\n",
       "57 2017-04-21 04:00:00   1.00000           3.0\n",
       "56 2017-04-21 05:00:00  20.45770           4.0\n",
       "55 2017-04-21 06:00:00  22.90880           5.0\n",
       "54 2017-04-21 07:00:00  13.48710           6.0\n",
       "53 2017-04-21 08:00:00  32.13200           7.0\n",
       "52 2017-04-21 09:00:00  17.73870           8.0\n",
       "51 2017-04-21 10:00:00  12.90010           9.0\n",
       "50 2017-04-21 11:00:00   4.74283          10.0\n",
       "49 2017-04-21 12:00:00  10.70450          11.0\n",
       "48 2017-04-21 13:00:00   1.00000          12.0\n",
       "47 2017-04-21 14:00:00   2.95744          13.0\n",
       "46 2017-04-21 15:00:00  27.01130          14.0\n",
       "45 2017-04-21 16:00:00  22.96910          15.0\n",
       "44 2017-04-21 17:00:00  21.15800          16.0\n",
       "43 2017-04-21 18:00:00   1.00000          17.0\n",
       "42 2017-04-21 19:00:00   5.51700          18.0\n",
       "41 2017-04-21 20:00:00   4.58017          19.0\n",
       "40 2017-04-21 21:00:00   6.83833          20.0\n",
       "39 2017-04-21 22:00:00   1.00000          21.0\n",
       "38 2017-04-21 23:00:00   1.00000          22.0\n",
       "37 2017-04-22 00:00:00   1.00000          23.0\n",
       "36 2017-04-22 01:00:00   6.34769          24.0\n",
       "35 2017-04-22 02:00:00   1.90883          25.0\n",
       "34 2017-04-22 03:00:00  12.55590          26.0\n",
       "33 2017-04-22 04:00:00  16.61140          27.0\n",
       "32 2017-04-22 05:00:00  18.76860          28.0\n",
       "31 2017-04-22 06:00:00  18.08410          29.0\n",
       "30 2017-04-22 07:00:00  13.14770          30.0\n",
       "29 2017-04-22 08:00:00  16.37040          31.0\n",
       "28 2017-04-22 09:00:00   7.80183          32.0\n",
       "27 2017-04-22 10:00:00   4.57194          33.0\n",
       "26 2017-04-22 11:00:00   8.06875          34.0\n",
       "25 2017-04-22 12:00:00   5.24153          35.0\n",
       "24 2017-04-22 13:00:00   6.09681          36.0\n",
       "23 2017-04-22 14:00:00  20.31990          37.0\n",
       "22 2017-04-22 15:00:00  14.82320          38.0\n",
       "21 2017-04-22 16:00:00   9.87542          39.0\n",
       "20 2017-04-22 17:00:00   2.72983          40.0\n",
       "19 2017-04-22 18:00:00   3.98144          41.0\n",
       "18 2017-04-22 19:00:00   6.63619          42.0\n",
       "17 2017-04-22 20:00:00   1.95631          43.0\n",
       "16 2017-04-22 21:00:00  16.38690          44.0\n",
       "15 2017-04-22 22:00:00  18.20030          45.0\n",
       "14 2017-04-22 23:00:00  15.53640          46.0\n",
       "13 2017-04-23 00:00:00  17.38690          47.0\n",
       "12 2017-04-23 01:00:00  22.25380          48.0\n",
       "11 2017-04-23 02:00:00   9.44294          49.0\n",
       "10 2017-04-23 03:00:00  10.27420          50.0\n",
       "9  2017-04-23 04:00:00  14.60180          51.0\n",
       "8  2017-04-23 05:00:00   1.00000          52.0\n",
       "7  2017-04-23 06:00:00   6.04558          53.0\n",
       "6  2017-04-23 07:00:00  14.71620          54.0\n",
       "5  2017-04-23 08:00:00  34.49780          55.0\n",
       "4  2017-04-23 09:00:00   5.20961          56.0\n",
       "3  2017-04-23 10:00:00   1.00000          57.0\n",
       "2  2017-04-23 11:00:00   5.86842          58.0\n",
       "1  2017-04-23 12:00:00   9.66539          59.0"
      ]
     },
     "execution_count": 5,
     "metadata": {},
     "output_type": "execute_result"
    }
   ],
   "source": [
    "concentrationFrame"
   ]
  },
  {
   "cell_type": "code",
   "execution_count": 6,
   "metadata": {
    "collapsed": false
   },
   "outputs": [
    {
     "name": "stdout",
     "output_type": "stream",
     "text": [
      "Version 0.7.1 of tpot is outdated. Version 0.7.2 was released 2 days ago.\n"
     ]
    },
    {
     "name": "stderr",
     "output_type": "stream",
     "text": [
      "Optimization Progress:  33%|███▎      | 100/300 [02:35<02:49,  1.18pipeline/s]"
     ]
    },
    {
     "name": "stdout",
     "output_type": "stream",
     "text": [
      "Generation 1 - Current best internal CV score: 59.2572857379\n"
     ]
    },
    {
     "name": "stderr",
     "output_type": "stream",
     "text": [
      "Optimization Progress:  50%|█████     | 150/300 [03:49<03:28,  1.39s/pipeline]"
     ]
    },
    {
     "name": "stdout",
     "output_type": "stream",
     "text": [
      "Generation 2 - Current best internal CV score: 59.2178981236\n"
     ]
    },
    {
     "name": "stderr",
     "output_type": "stream",
     "text": [
      "Optimization Progress:  67%|██████▋   | 200/300 [05:49<01:54,  1.14s/pipeline]"
     ]
    },
    {
     "name": "stdout",
     "output_type": "stream",
     "text": [
      "Generation 3 - Current best internal CV score: 59.2178981236\n"
     ]
    },
    {
     "name": "stderr",
     "output_type": "stream",
     "text": [
      "Optimization Progress:  83%|████████▎ | 250/300 [08:42<01:29,  1.78s/pipeline]"
     ]
    },
    {
     "name": "stdout",
     "output_type": "stream",
     "text": [
      "Generation 4 - Current best internal CV score: 56.3100117396\n"
     ]
    },
    {
     "name": "stderr",
     "output_type": "stream",
     "text": []
    },
    {
     "name": "stdout",
     "output_type": "stream",
     "text": [
      "Generation 5 - Current best internal CV score: 56.3100117396\n",
      "\n",
      "Best pipeline: RandomForestRegressor(RBFSampler(input_matrix, RBFSampler__gamma=0.75), RandomForestRegressor__bootstrap=DEFAULT, RandomForestRegressor__max_features=0.05, RandomForestRegressor__min_samples_leaf=DEFAULT, RandomForestRegressor__min_samples_split=3, RandomForestRegressor__n_estimators=100)\n",
      "82.4052705079\n"
     ]
    }
   ],
   "source": [
    "from tpot import TPOTRegressor\n",
    "from sklearn.model_selection import train_test_split\n",
    "\n",
    "X_train, X_test, y_train, y_test = train_test_split(concentrationFrame[\"relativeTime\"].values.reshape((concentrationFrame.shape[0],1)), concentrationFrame[\"values\"].values,\n",
    "                                                    train_size=0.75, test_size=0.25)\n",
    "\n",
    "tpot = TPOTRegressor(generations=5, population_size=50, verbosity=2)\n",
    "tpot.fit(X_train, y_train)\n",
    "print(tpot.score(X_test, y_test))\n",
    "tpot.export('tpot_concentration_pipeline.py')"
   ]
  },
  {
   "cell_type": "code",
   "execution_count": 7,
   "metadata": {
    "collapsed": false
   },
   "outputs": [],
   "source": [
    "ftr = pd.date_range(start = concentrationFrame[\"dates\"][-1:].item(), periods=25, freq='H', closed='right')\n",
    "predctionFrame = pd.DataFrame( {\"dates\" : ftr})\n",
    "predctionFrame[\"relativeTime\"] = (predctionFrame[\"dates\"] - firstDatetime) / np.timedelta64(1, 'h')\n",
    "predctionFrame[\"predictedValues\"] = predctionFrame[\"relativeTime\"].apply(lambda x: tpot.predict(x).item())\n",
    "wholeFrame = pd.concat([concentrationFrame, predctionFrame])\n",
    "wholeFrame.set_index([\"dates\"], inplace=True)"
   ]
  },
  {
   "cell_type": "code",
   "execution_count": 8,
   "metadata": {
    "collapsed": false
   },
   "outputs": [
    {
     "data": {
      "text/plain": [
       "<matplotlib.axes._subplots.AxesSubplot at 0x53c1050>"
      ]
     },
     "execution_count": 8,
     "metadata": {},
     "output_type": "execute_result"
    },
    {
     "data": {
      "image/png": "[encoded data removed]",
      "text/plain": [
       "<matplotlib.figure.Figure at 0x53847d0>"
      ]
     },
     "metadata": {},
     "output_type": "display_data"
    }
   ],
   "source": [
    "wholeFrame[[\"predictedValues\", \"values\"]].plot(figsize=(15,5), grid=True)"
   ]
  },
  {
   "cell_type": "code",
   "execution_count": null,
   "metadata": {
    "collapsed": false
   },
   "outputs": [],
   "source": []
  },
  {
   "cell_type": "code",
   "execution_count": null,
   "metadata": {
    "collapsed": false
   },
   "outputs": [],
   "source": []
  },
  {
   "cell_type": "code",
   "execution_count": null,
   "metadata": {
    "collapsed": false
   },
   "outputs": [],
   "source": []
  },
  {
   "cell_type": "code",
   "execution_count": null,
   "metadata": {
    "collapsed": true
   },
   "outputs": [],
   "source": []
  },
  {
   "cell_type": "code",
   "execution_count": null,
   "metadata": {
    "collapsed": false
   },
   "outputs": [],
   "source": []
  },
  {
   "cell_type": "code",
   "execution_count": null,
   "metadata": {
    "collapsed": false
   },
   "outputs": [],
   "source": []
  },
  {
   "cell_type": "code",
   "execution_count": null,
   "metadata": {
    "collapsed": false
   },
   "outputs": [],
   "source": []
  },
  {
   "cell_type": "code",
   "execution_count": null,
   "metadata": {
    "collapsed": false
   },
   "outputs": [],
   "source": []
  },
  {
   "cell_type": "code",
   "execution_count": null,
   "metadata": {
    "collapsed": false
   },
   "outputs": [],
   "source": []
  },
  {
   "cell_type": "code",
   "execution_count": null,
   "metadata": {
    "collapsed": false
   },
   "outputs": [],
   "source": []
  },
  {
   "cell_type": "code",
   "execution_count": null,
   "metadata": {
    "collapsed": false
   },
   "outputs": [],
   "source": []
  },
  {
   "cell_type": "code",
   "execution_count": null,
   "metadata": {
    "collapsed": true
   },
   "outputs": [],
   "source": []
  }
 ],
 "metadata": {
  "kernelspec": {
   "display_name": "Python 2",
   "language": "python",
   "name": "python2"
  },
  "language_info": {
   "codemirror_mode": {
    "name": "ipython",
    "version": 2
   },
   "file_extension": ".py",
   "mimetype": "text/x-python",
   "name": "python",
   "nbconvert_exporter": "python",
   "pygments_lexer": "ipython2",
   "version": "2.7.3"
  }
 },
 "nbformat": 4,
 "nbformat_minor": 1
}
