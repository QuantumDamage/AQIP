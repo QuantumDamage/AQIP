{
 "cells": [
  {
   "cell_type": "markdown",
   "metadata": {},
   "source": [
    "First line if **magic** enabling matplotlib inline plots "
   ]
  },
  {
   "cell_type": "code",
   "execution_count": 1,
   "metadata": {
    "collapsed": true
   },
   "outputs": [],
   "source": [
    "%matplotlib inline"
   ]
  },
  {
   "cell_type": "markdown",
   "metadata": {},
   "source": [
    "Then we have round of inports:\n",
    "* **pandas** is our main data storage module\n",
    "* **glob** and **os** are used for filename manipulations"
   ]
  },
  {
   "cell_type": "code",
   "execution_count": 18,
   "metadata": {
    "collapsed": true
   },
   "outputs": [],
   "source": [
    "import pandas as pd\n",
    "import glob\n",
    "import os"
   ]
  },
  {
   "cell_type": "code",
   "execution_count": 20,
   "metadata": {
    "collapsed": false
   },
   "outputs": [],
   "source": [
    "filenames = [ os.path.splitext(wholeFilename)[0] for wholeFilename in \n",
    "             [ basename(wholePath) for wholePath in glob.glob(\"../input/2*.xlsx\") ] ]"
   ]
  },
  {
   "cell_type": "code",
   "execution_count": 78,
   "metadata": {
    "collapsed": false
   },
   "outputs": [],
   "source": [
    "dataFiles = pd.DataFrame({\"filename\": filenames})"
   ]
  },
  {
   "cell_type": "code",
   "execution_count": 87,
   "metadata": {
    "collapsed": false
   },
   "outputs": [],
   "source": [
    "dataFiles[\"year\"], dataFiles[\"pollutant\"], dataFiles[\"resolution\"] = dataFiles[\"filename\"].str.split('_', 2).str"
   ]
  },
  {
   "cell_type": "code",
   "execution_count": 97,
   "metadata": {
    "collapsed": false
   },
   "outputs": [
    {
     "data": {
      "text/plain": [
       "2012    35\n",
       "2011    35\n",
       "2014    35\n",
       "2013    34\n",
       "2015    29\n",
       "2010    25\n",
       "2009    24\n",
       "2008    24\n",
       "2007    18\n",
       "2006    18\n",
       "2005    17\n",
       "2004    17\n",
       "2003    17\n",
       "2002    14\n",
       "2001    11\n",
       "2000     6\n",
       "Name: year, dtype: int64"
      ]
     },
     "execution_count": 97,
     "metadata": {},
     "output_type": "execute_result"
    }
   ],
   "source": [
    "dataFiles[\"year\"].value_counts()"
   ]
  },
  {
   "cell_type": "code",
   "execution_count": 99,
   "metadata": {
    "collapsed": false
   },
   "outputs": [
    {
     "data": {
      "text/plain": [
       "NO2            32\n",
       "SO2            31\n",
       "PM10           29\n",
       "C6H6           28\n",
       "PM2.5          22\n",
       "O3             16\n",
       "NOx            16\n",
       "Cd(PM10)       15\n",
       "Ni(PM10)       15\n",
       "BaP(PM10)      15\n",
       "Pb(PM10)       14\n",
       "As(PM10)       14\n",
       "CO             13\n",
       "IP(PM10)        8\n",
       "BjF(PM10)       8\n",
       "BbF(PM10)       8\n",
       "BkF(PM10)       8\n",
       "BaA(PM10)       8\n",
       "DBahA(PM10)     7\n",
       "formaldehyd     5\n",
       "Na+(PM2.5)      4\n",
       "NH4+(PM2.5)     4\n",
       "NO3-(PM2.5)     4\n",
       "Ca2+(PM2.5)     4\n",
       "OC(PM2.5)       4\n",
       "Mg2+(PM2.5)     4\n",
       "Cl              4\n",
       "EC(PM2.5)       4\n",
       "SO42            4\n",
       "K+(PM2.5)       4\n",
       "PM25            2\n",
       "Hg(TGM)         2\n",
       "DBah(PM10)      1\n",
       "depozycja       1\n",
       "Jony            1\n",
       "Name: pollutant, dtype: int64"
      ]
     },
     "execution_count": 99,
     "metadata": {},
     "output_type": "execute_result"
    }
   ],
   "source": [
    "dataFiles[\"pollutant\"].value_counts()"
   ]
  },
  {
   "cell_type": "code",
   "execution_count": 101,
   "metadata": {
    "collapsed": false
   },
   "outputs": [
    {
     "data": {
      "text/plain": [
       "24g            236\n",
       "1g             113\n",
       "(PM2.5)-24g      4\n",
       "(PM2.5)_24g      4\n",
       "w_PM25_24g       1\n",
       "Name: resolution, dtype: int64"
      ]
     },
     "execution_count": 101,
     "metadata": {},
     "output_type": "execute_result"
    }
   ],
   "source": [
    "dataFiles[\"resolution\"].value_counts()"
   ]
  },
  {
   "cell_type": "code",
   "execution_count": 102,
   "metadata": {
    "collapsed": false
   },
   "outputs": [
    {
     "data": {
      "text/html": [
       "<div>\n",
       "<table border=\"1\" class=\"dataframe\">\n",
       "  <thead>\n",
       "    <tr style=\"text-align: right;\">\n",
       "      <th></th>\n",
       "      <th>filename</th>\n",
       "      <th>year</th>\n",
       "      <th>pollutant</th>\n",
       "      <th>resolution</th>\n",
       "    </tr>\n",
       "  </thead>\n",
       "  <tbody>\n",
       "    <tr>\n",
       "      <th>39</th>\n",
       "      <td>2014_SO42_(PM2.5)_24g</td>\n",
       "      <td>2014</td>\n",
       "      <td>SO42</td>\n",
       "      <td>(PM2.5)_24g</td>\n",
       "    </tr>\n",
       "    <tr>\n",
       "      <th>186</th>\n",
       "      <td>2013_SO42_(PM2.5)_24g</td>\n",
       "      <td>2013</td>\n",
       "      <td>SO42</td>\n",
       "      <td>(PM2.5)_24g</td>\n",
       "    </tr>\n",
       "    <tr>\n",
       "      <th>191</th>\n",
       "      <td>2011_SO42_(PM2.5)_24g</td>\n",
       "      <td>2011</td>\n",
       "      <td>SO42</td>\n",
       "      <td>(PM2.5)_24g</td>\n",
       "    </tr>\n",
       "    <tr>\n",
       "      <th>292</th>\n",
       "      <td>2012_SO42_(PM2.5)_24g</td>\n",
       "      <td>2012</td>\n",
       "      <td>SO42</td>\n",
       "      <td>(PM2.5)_24g</td>\n",
       "    </tr>\n",
       "  </tbody>\n",
       "</table>\n",
       "</div>"
      ],
      "text/plain": [
       "                  filename  year pollutant   resolution\n",
       "39   2014_SO42_(PM2.5)_24g  2014      SO42  (PM2.5)_24g\n",
       "186  2013_SO42_(PM2.5)_24g  2013      SO42  (PM2.5)_24g\n",
       "191  2011_SO42_(PM2.5)_24g  2011      SO42  (PM2.5)_24g\n",
       "292  2012_SO42_(PM2.5)_24g  2012      SO42  (PM2.5)_24g"
      ]
     },
     "execution_count": 102,
     "metadata": {},
     "output_type": "execute_result"
    }
   ],
   "source": [
    "dataFiles[dataFiles[\"resolution\"] == \"(PM2.5)_24g\"]"
   ]
  },
  {
   "cell_type": "code",
   "execution_count": 103,
   "metadata": {
    "collapsed": false
   },
   "outputs": [
    {
     "data": {
      "text/html": [
       "<div>\n",
       "<table border=\"1\" class=\"dataframe\">\n",
       "  <thead>\n",
       "    <tr style=\"text-align: right;\">\n",
       "      <th></th>\n",
       "      <th>filename</th>\n",
       "      <th>year</th>\n",
       "      <th>pollutant</th>\n",
       "      <th>resolution</th>\n",
       "    </tr>\n",
       "  </thead>\n",
       "  <tbody>\n",
       "    <tr>\n",
       "      <th>115</th>\n",
       "      <td>2013_Cl_(PM2.5)-24g</td>\n",
       "      <td>2013</td>\n",
       "      <td>Cl</td>\n",
       "      <td>(PM2.5)-24g</td>\n",
       "    </tr>\n",
       "    <tr>\n",
       "      <th>192</th>\n",
       "      <td>2014_Cl_(PM2.5)-24g</td>\n",
       "      <td>2014</td>\n",
       "      <td>Cl</td>\n",
       "      <td>(PM2.5)-24g</td>\n",
       "    </tr>\n",
       "    <tr>\n",
       "      <th>300</th>\n",
       "      <td>2011_Cl_(PM2.5)-24g</td>\n",
       "      <td>2011</td>\n",
       "      <td>Cl</td>\n",
       "      <td>(PM2.5)-24g</td>\n",
       "    </tr>\n",
       "    <tr>\n",
       "      <th>301</th>\n",
       "      <td>2012_Cl_(PM2.5)-24g</td>\n",
       "      <td>2012</td>\n",
       "      <td>Cl</td>\n",
       "      <td>(PM2.5)-24g</td>\n",
       "    </tr>\n",
       "  </tbody>\n",
       "</table>\n",
       "</div>"
      ],
      "text/plain": [
       "                filename  year pollutant   resolution\n",
       "115  2013_Cl_(PM2.5)-24g  2013        Cl  (PM2.5)-24g\n",
       "192  2014_Cl_(PM2.5)-24g  2014        Cl  (PM2.5)-24g\n",
       "300  2011_Cl_(PM2.5)-24g  2011        Cl  (PM2.5)-24g\n",
       "301  2012_Cl_(PM2.5)-24g  2012        Cl  (PM2.5)-24g"
      ]
     },
     "execution_count": 103,
     "metadata": {},
     "output_type": "execute_result"
    }
   ],
   "source": [
    "dataFiles[dataFiles[\"resolution\"] == \"(PM2.5)-24g\"]"
   ]
  },
  {
   "cell_type": "code",
   "execution_count": 19,
   "metadata": {
    "collapsed": false
   },
   "outputs": [],
   "source": [
    "dane = pd.read_excel(\"../input/2000_O3_1g.xlsx\", skiprows=[1,2])"
   ]
  },
  {
   "cell_type": "code",
   "execution_count": 20,
   "metadata": {
    "collapsed": true
   },
   "outputs": [],
   "source": [
    "stacje = pd.read_excel(\"../input/Metadane_wer20160914.xlsx\")"
   ]
  },
  {
   "cell_type": "code",
   "execution_count": 21,
   "metadata": {
    "collapsed": false
   },
   "outputs": [
    {
     "data": {
      "text/html": [
       "<div>\n",
       "<table border=\"1\" class=\"dataframe\">\n",
       "  <thead>\n",
       "    <tr style=\"text-align: right;\">\n",
       "      <th></th>\n",
       "      <th>Kod stacji</th>\n",
       "      <th>DsCzer02</th>\n",
       "      <th>DsJelw05</th>\n",
       "      <th>DsSniezka</th>\n",
       "      <th>LbJarczew</th>\n",
       "      <th>MzBelskIGFPAN</th>\n",
       "      <th>MzWarPodIMGW</th>\n",
       "      <th>MzWarszKrucza</th>\n",
       "      <th>Pm08LEBAiEMEPa</th>\n",
       "      <th>Pm.a03a</th>\n",
       "      <th>Pm.a04a</th>\n",
       "      <th>Pm.a09a</th>\n",
       "      <th>SlKatowKato_kossu</th>\n",
       "      <th>SlUstroCies_sanat</th>\n",
       "      <th>WmPuszcz_IOS_Borecka</th>\n",
       "      <th>WpKonin311009D009102</th>\n",
       "    </tr>\n",
       "  </thead>\n",
       "  <tbody>\n",
       "    <tr>\n",
       "      <th>0</th>\n",
       "      <td>2000-01-01 01:00:00</td>\n",
       "      <td>NaN</td>\n",
       "      <td>NaN</td>\n",
       "      <td>NaN</td>\n",
       "      <td>NaN</td>\n",
       "      <td>NaN</td>\n",
       "      <td>NaN</td>\n",
       "      <td>NaN</td>\n",
       "      <td>NaN</td>\n",
       "      <td>38.0</td>\n",
       "      <td>NaN</td>\n",
       "      <td>NaN</td>\n",
       "      <td>NaN</td>\n",
       "      <td>NaN</td>\n",
       "      <td>NaN</td>\n",
       "      <td>NaN</td>\n",
       "    </tr>\n",
       "    <tr>\n",
       "      <th>1</th>\n",
       "      <td>2000-01-01 02:00:00</td>\n",
       "      <td>35.0</td>\n",
       "      <td>29.0</td>\n",
       "      <td>61.0</td>\n",
       "      <td>25.0</td>\n",
       "      <td>NaN</td>\n",
       "      <td>9.0</td>\n",
       "      <td>12.0</td>\n",
       "      <td>33.0</td>\n",
       "      <td>39.0</td>\n",
       "      <td>NaN</td>\n",
       "      <td>39.0</td>\n",
       "      <td>11.0</td>\n",
       "      <td>19.0</td>\n",
       "      <td>40.0</td>\n",
       "      <td>NaN</td>\n",
       "    </tr>\n",
       "    <tr>\n",
       "      <th>2</th>\n",
       "      <td>2000-01-01 03:00:00</td>\n",
       "      <td>42.0</td>\n",
       "      <td>34.0</td>\n",
       "      <td>62.0</td>\n",
       "      <td>20.0</td>\n",
       "      <td>NaN</td>\n",
       "      <td>11.0</td>\n",
       "      <td>14.0</td>\n",
       "      <td>24.0</td>\n",
       "      <td>38.0</td>\n",
       "      <td>NaN</td>\n",
       "      <td>38.0</td>\n",
       "      <td>15.0</td>\n",
       "      <td>28.0</td>\n",
       "      <td>46.0</td>\n",
       "      <td>NaN</td>\n",
       "    </tr>\n",
       "    <tr>\n",
       "      <th>3</th>\n",
       "      <td>2000-01-01 04:00:00</td>\n",
       "      <td>39.0</td>\n",
       "      <td>37.0</td>\n",
       "      <td>70.0</td>\n",
       "      <td>25.0</td>\n",
       "      <td>NaN</td>\n",
       "      <td>12.0</td>\n",
       "      <td>13.0</td>\n",
       "      <td>17.0</td>\n",
       "      <td>NaN</td>\n",
       "      <td>NaN</td>\n",
       "      <td>35.0</td>\n",
       "      <td>14.0</td>\n",
       "      <td>36.0</td>\n",
       "      <td>44.0</td>\n",
       "      <td>NaN</td>\n",
       "    </tr>\n",
       "    <tr>\n",
       "      <th>4</th>\n",
       "      <td>2000-01-01 05:00:00</td>\n",
       "      <td>44.0</td>\n",
       "      <td>36.0</td>\n",
       "      <td>65.0</td>\n",
       "      <td>20.0</td>\n",
       "      <td>NaN</td>\n",
       "      <td>13.0</td>\n",
       "      <td>15.0</td>\n",
       "      <td>16.0</td>\n",
       "      <td>27.0</td>\n",
       "      <td>NaN</td>\n",
       "      <td>30.0</td>\n",
       "      <td>13.0</td>\n",
       "      <td>36.0</td>\n",
       "      <td>41.0</td>\n",
       "      <td>NaN</td>\n",
       "    </tr>\n",
       "  </tbody>\n",
       "</table>\n",
       "</div>"
      ],
      "text/plain": [
       "           Kod stacji  DsCzer02  DsJelw05  DsSniezka  LbJarczew  \\\n",
       "0 2000-01-01 01:00:00       NaN       NaN        NaN        NaN   \n",
       "1 2000-01-01 02:00:00      35.0      29.0       61.0       25.0   \n",
       "2 2000-01-01 03:00:00      42.0      34.0       62.0       20.0   \n",
       "3 2000-01-01 04:00:00      39.0      37.0       70.0       25.0   \n",
       "4 2000-01-01 05:00:00      44.0      36.0       65.0       20.0   \n",
       "\n",
       "   MzBelskIGFPAN  MzWarPodIMGW  MzWarszKrucza  Pm08LEBAiEMEPa  Pm.a03a  \\\n",
       "0            NaN           NaN            NaN             NaN     38.0   \n",
       "1            NaN           9.0           12.0            33.0     39.0   \n",
       "2            NaN          11.0           14.0            24.0     38.0   \n",
       "3            NaN          12.0           13.0            17.0      NaN   \n",
       "4            NaN          13.0           15.0            16.0     27.0   \n",
       "\n",
       "   Pm.a04a  Pm.a09a  SlKatowKato_kossu  SlUstroCies_sanat  \\\n",
       "0      NaN      NaN                NaN                NaN   \n",
       "1      NaN     39.0               11.0               19.0   \n",
       "2      NaN     38.0               15.0               28.0   \n",
       "3      NaN     35.0               14.0               36.0   \n",
       "4      NaN     30.0               13.0               36.0   \n",
       "\n",
       "   WmPuszcz_IOS_Borecka  WpKonin311009D009102  \n",
       "0                   NaN                   NaN  \n",
       "1                  40.0                   NaN  \n",
       "2                  46.0                   NaN  \n",
       "3                  44.0                   NaN  \n",
       "4                  41.0                   NaN  "
      ]
     },
     "execution_count": 21,
     "metadata": {},
     "output_type": "execute_result"
    }
   ],
   "source": [
    "dane.head()"
   ]
  },
  {
   "cell_type": "code",
   "execution_count": 22,
   "metadata": {
    "collapsed": false
   },
   "outputs": [],
   "source": [
    "dane = dane.rename(columns={\"Kod stacji\":\"Godzina\"})"
   ]
  },
  {
   "cell_type": "code",
   "execution_count": 23,
   "metadata": {
    "collapsed": false
   },
   "outputs": [],
   "source": [
    "dane = dane.set_index(\"Godzina\")"
   ]
  },
  {
   "cell_type": "code",
   "execution_count": 24,
   "metadata": {
    "collapsed": false
   },
   "outputs": [],
   "source": [
    "#dane.hist(figsize=(11, 8))"
   ]
  },
  {
   "cell_type": "code",
   "execution_count": 25,
   "metadata": {
    "collapsed": false
   },
   "outputs": [
    {
     "data": {
      "text/plain": [
       "(15,)"
      ]
     },
     "execution_count": 25,
     "metadata": {},
     "output_type": "execute_result"
    }
   ],
   "source": [
    "dane.columns.shape"
   ]
  },
  {
   "cell_type": "code",
   "execution_count": 26,
   "metadata": {
    "collapsed": false
   },
   "outputs": [],
   "source": [
    "nazywStacji = set(dane.columns.values)"
   ]
  },
  {
   "cell_type": "code",
   "execution_count": 27,
   "metadata": {
    "collapsed": false
   },
   "outputs": [],
   "source": [
    "stacje = stacje.set_index(\"Nr\")"
   ]
  },
  {
   "cell_type": "code",
   "execution_count": 28,
   "metadata": {
    "collapsed": false
   },
   "outputs": [
    {
     "data": {
      "text/html": [
       "<div>\n",
       "<table border=\"1\" class=\"dataframe\">\n",
       "  <thead>\n",
       "    <tr style=\"text-align: right;\">\n",
       "      <th></th>\n",
       "      <th>Kod stacji</th>\n",
       "      <th>Kod UE</th>\n",
       "      <th>Nazwa stacji</th>\n",
       "      <th>Stary Kod stacji</th>\n",
       "      <th>Data uruchomienia</th>\n",
       "      <th>Data zamknięcia</th>\n",
       "      <th>Status</th>\n",
       "      <th>Typ stacji</th>\n",
       "      <th>Typ obszaru</th>\n",
       "      <th>Rodzaj stacji</th>\n",
       "      <th>Województwo</th>\n",
       "      <th>Miejscowość</th>\n",
       "      <th>Ulica</th>\n",
       "      <th>WGS84 φ N</th>\n",
       "      <th>WGS84 λ E</th>\n",
       "    </tr>\n",
       "    <tr>\n",
       "      <th>Nr</th>\n",
       "      <th></th>\n",
       "      <th></th>\n",
       "      <th></th>\n",
       "      <th></th>\n",
       "      <th></th>\n",
       "      <th></th>\n",
       "      <th></th>\n",
       "      <th></th>\n",
       "      <th></th>\n",
       "      <th></th>\n",
       "      <th></th>\n",
       "      <th></th>\n",
       "      <th></th>\n",
       "      <th></th>\n",
       "      <th></th>\n",
       "    </tr>\n",
       "  </thead>\n",
       "  <tbody>\n",
       "    <tr>\n",
       "      <th>9</th>\n",
       "      <td>DsCzerStraza</td>\n",
       "      <td>PL0028A</td>\n",
       "      <td>Czerniawa</td>\n",
       "      <td>DsCzer02</td>\n",
       "      <td>1996-07-01</td>\n",
       "      <td>NaT</td>\n",
       "      <td>Aktywny</td>\n",
       "      <td>tło</td>\n",
       "      <td>pozamiejski</td>\n",
       "      <td>kontenerowa stacjonarna</td>\n",
       "      <td>DOLNOŚLĄSKIE</td>\n",
       "      <td>Czerniawa</td>\n",
       "      <td>ul. Strażacka 7</td>\n",
       "      <td>50.912475</td>\n",
       "      <td>15.312190</td>\n",
       "    </tr>\n",
       "    <tr>\n",
       "      <th>28</th>\n",
       "      <td>DsJelw05</td>\n",
       "      <td>PL0026A</td>\n",
       "      <td>Jeleniów</td>\n",
       "      <td>DsJelw05</td>\n",
       "      <td>1996-07-01</td>\n",
       "      <td>2009-12-31</td>\n",
       "      <td>Nieaktywny</td>\n",
       "      <td>tło</td>\n",
       "      <td>pozamiejski</td>\n",
       "      <td>kontenerowa stacjonarna</td>\n",
       "      <td>DOLNOŚLĄSKIE</td>\n",
       "      <td>Jeleniów</td>\n",
       "      <td>NaN</td>\n",
       "      <td>51.224843</td>\n",
       "      <td>15.232984</td>\n",
       "    </tr>\n",
       "    <tr>\n",
       "      <th>85</th>\n",
       "      <td>DsSniezkaObs</td>\n",
       "      <td>PL0003R</td>\n",
       "      <td>Śnieżka</td>\n",
       "      <td>DsSniezka</td>\n",
       "      <td>2006-01-01</td>\n",
       "      <td>NaT</td>\n",
       "      <td>Aktywny</td>\n",
       "      <td>tło</td>\n",
       "      <td>pozamiejski</td>\n",
       "      <td>kontenerowa stacjonarna</td>\n",
       "      <td>DOLNOŚLĄSKIE</td>\n",
       "      <td>Karpacz</td>\n",
       "      <td>Śnieżka</td>\n",
       "      <td>50.736389</td>\n",
       "      <td>15.739722</td>\n",
       "    </tr>\n",
       "    <tr>\n",
       "      <th>242</th>\n",
       "      <td>LbJarczWolaM</td>\n",
       "      <td>PL0002R</td>\n",
       "      <td>IMGW-Jarczew</td>\n",
       "      <td>LbJarczew</td>\n",
       "      <td>1985-10-01</td>\n",
       "      <td>NaT</td>\n",
       "      <td>Aktywny</td>\n",
       "      <td>tło</td>\n",
       "      <td>pozamiejski</td>\n",
       "      <td>kontenerowa stacjonarna</td>\n",
       "      <td>LUBELSKIE</td>\n",
       "      <td>Jarczew</td>\n",
       "      <td>NaN</td>\n",
       "      <td>51.814367</td>\n",
       "      <td>21.972375</td>\n",
       "    </tr>\n",
       "    <tr>\n",
       "      <th>452</th>\n",
       "      <td>MzBelsIGFPAN</td>\n",
       "      <td>PL0014A</td>\n",
       "      <td>Belsk-IGFPAN</td>\n",
       "      <td>MzBelskIGFPAN</td>\n",
       "      <td>1991-07-01</td>\n",
       "      <td>NaT</td>\n",
       "      <td>Aktywny</td>\n",
       "      <td>tło</td>\n",
       "      <td>pozamiejski</td>\n",
       "      <td>w budynku</td>\n",
       "      <td>MAZOWIECKIE</td>\n",
       "      <td>Belsk Duży</td>\n",
       "      <td>Osiedle PAN 1</td>\n",
       "      <td>51.835120</td>\n",
       "      <td>20.791556</td>\n",
       "    </tr>\n",
       "    <tr>\n",
       "      <th>518</th>\n",
       "      <td>MzWarPodlesn</td>\n",
       "      <td>PL0044A</td>\n",
       "      <td>Warszawa-Podleśna</td>\n",
       "      <td>MzWarPodIMGW</td>\n",
       "      <td>2003-09-30</td>\n",
       "      <td>NaT</td>\n",
       "      <td>Aktywny</td>\n",
       "      <td>tło</td>\n",
       "      <td>miejski</td>\n",
       "      <td>w budynku</td>\n",
       "      <td>MAZOWIECKIE</td>\n",
       "      <td>Warszawa</td>\n",
       "      <td>ul. Podleśna 61</td>\n",
       "      <td>52.280939</td>\n",
       "      <td>20.962156</td>\n",
       "    </tr>\n",
       "    <tr>\n",
       "      <th>529</th>\n",
       "      <td>MzWarszKrucza</td>\n",
       "      <td>PL0010A</td>\n",
       "      <td>Warszawa-Krucza</td>\n",
       "      <td>MzWarszKrucza</td>\n",
       "      <td>1990-01-01</td>\n",
       "      <td>2013-12-31</td>\n",
       "      <td>Nieaktywny</td>\n",
       "      <td>tło</td>\n",
       "      <td>miejski</td>\n",
       "      <td>w budynku</td>\n",
       "      <td>MAZOWIECKIE</td>\n",
       "      <td>Warszawa</td>\n",
       "      <td>ul. Krucza 5/11</td>\n",
       "      <td>52.224583</td>\n",
       "      <td>21.019039</td>\n",
       "    </tr>\n",
       "    <tr>\n",
       "      <th>687</th>\n",
       "      <td>Pm.a09a</td>\n",
       "      <td>PL0053A</td>\n",
       "      <td>AM9 Gdynia Redłowo</td>\n",
       "      <td>Pm.a09a</td>\n",
       "      <td>1999-09-01</td>\n",
       "      <td>2009-12-31</td>\n",
       "      <td>Nieaktywny</td>\n",
       "      <td>tło</td>\n",
       "      <td>miejski</td>\n",
       "      <td>kontenerowa stacjonarna</td>\n",
       "      <td>POMORSKIE</td>\n",
       "      <td>Gdynia</td>\n",
       "      <td>ul. Kopernika</td>\n",
       "      <td>54.483333</td>\n",
       "      <td>18.550000</td>\n",
       "    </tr>\n",
       "    <tr>\n",
       "      <th>697</th>\n",
       "      <td>PmGdaWyzwo03</td>\n",
       "      <td>PL0047A</td>\n",
       "      <td>AM3 Gdańsk Nowy Port</td>\n",
       "      <td>Pm.a03a</td>\n",
       "      <td>1998-09-01</td>\n",
       "      <td>NaT</td>\n",
       "      <td>Aktywny</td>\n",
       "      <td>tło</td>\n",
       "      <td>miejski</td>\n",
       "      <td>kontenerowa stacjonarna</td>\n",
       "      <td>POMORSKIE</td>\n",
       "      <td>Gdańsk</td>\n",
       "      <td>ul. Wyzwolenia</td>\n",
       "      <td>54.400833</td>\n",
       "      <td>18.657497</td>\n",
       "    </tr>\n",
       "    <tr>\n",
       "      <th>699</th>\n",
       "      <td>PmGdyPoreb04</td>\n",
       "      <td>PL0048A</td>\n",
       "      <td>AM4 Gdynia Pogórze</td>\n",
       "      <td>Pm.a04a</td>\n",
       "      <td>1997-03-01</td>\n",
       "      <td>NaT</td>\n",
       "      <td>Aktywny</td>\n",
       "      <td>tło</td>\n",
       "      <td>miejski</td>\n",
       "      <td>kontenerowa stacjonarna</td>\n",
       "      <td>POMORSKIE</td>\n",
       "      <td>Gdynia</td>\n",
       "      <td>ul. Porębskiego</td>\n",
       "      <td>54.560836</td>\n",
       "      <td>18.493331</td>\n",
       "    </tr>\n",
       "    <tr>\n",
       "      <th>705</th>\n",
       "      <td>PmLebaRabkaE</td>\n",
       "      <td>PL0004R</td>\n",
       "      <td>IMGW Łeba - Rąbka</td>\n",
       "      <td>Pm08LEBAiEMEPa</td>\n",
       "      <td>2004-03-31</td>\n",
       "      <td>NaT</td>\n",
       "      <td>Aktywny</td>\n",
       "      <td>tło</td>\n",
       "      <td>podmiejski</td>\n",
       "      <td>w budynku</td>\n",
       "      <td>POMORSKIE</td>\n",
       "      <td>Łeba</td>\n",
       "      <td>NaN</td>\n",
       "      <td>54.754139</td>\n",
       "      <td>17.534528</td>\n",
       "    </tr>\n",
       "    <tr>\n",
       "      <th>775</th>\n",
       "      <td>SlKatoKossut</td>\n",
       "      <td>PL0008A</td>\n",
       "      <td>Katowice, ul. Kossutha 6</td>\n",
       "      <td>SlKatowKato_kossu</td>\n",
       "      <td>1992-01-01</td>\n",
       "      <td>NaT</td>\n",
       "      <td>Aktywny</td>\n",
       "      <td>tło</td>\n",
       "      <td>miejski</td>\n",
       "      <td>kontenerowa stacjonarna</td>\n",
       "      <td>ŚLĄSKIE</td>\n",
       "      <td>Katowice</td>\n",
       "      <td>ul. Kossutha 6</td>\n",
       "      <td>50.264611</td>\n",
       "      <td>18.975028</td>\n",
       "    </tr>\n",
       "    <tr>\n",
       "      <th>803</th>\n",
       "      <td>SlUstroCies_sanat</td>\n",
       "      <td>PL0029A</td>\n",
       "      <td>Ustroń_sanat-WIOŚ</td>\n",
       "      <td>SlUstroCies_sanat</td>\n",
       "      <td>1996-03-01</td>\n",
       "      <td>2009-12-31</td>\n",
       "      <td>Nieaktywny</td>\n",
       "      <td>tło</td>\n",
       "      <td>miejski</td>\n",
       "      <td>w budynku</td>\n",
       "      <td>ŚLĄSKIE</td>\n",
       "      <td>Ustroń</td>\n",
       "      <td>ul. Sanatoryjna 1</td>\n",
       "      <td>49.724722</td>\n",
       "      <td>18.825000</td>\n",
       "    </tr>\n",
       "    <tr>\n",
       "      <th>843</th>\n",
       "      <td>WmPuszczaBor</td>\n",
       "      <td>PL0005R</td>\n",
       "      <td>KMŚ Puszcza Borecka</td>\n",
       "      <td>WmPuszcz_IOS_Borecka</td>\n",
       "      <td>2004-01-01</td>\n",
       "      <td>NaT</td>\n",
       "      <td>Aktywny</td>\n",
       "      <td>tło</td>\n",
       "      <td>pozamiejski</td>\n",
       "      <td>BRAK DANYCH</td>\n",
       "      <td>WARMIŃSKO-MAZURSKIE</td>\n",
       "      <td>Diabla Góra</td>\n",
       "      <td>Diabla Góra</td>\n",
       "      <td>54.124819</td>\n",
       "      <td>22.038056</td>\n",
       "    </tr>\n",
       "    <tr>\n",
       "      <th>862</th>\n",
       "      <td>WpKoniWyszyn</td>\n",
       "      <td>PL0031A</td>\n",
       "      <td>Konin, ul. Wyszyńskiego 3a</td>\n",
       "      <td>WpKonin311009D009102</td>\n",
       "      <td>2003-03-03</td>\n",
       "      <td>NaT</td>\n",
       "      <td>Aktywny</td>\n",
       "      <td>tło</td>\n",
       "      <td>miejski</td>\n",
       "      <td>kontenerowa stacjonarna</td>\n",
       "      <td>WIELKOPOLSKIE</td>\n",
       "      <td>Konin</td>\n",
       "      <td>ul. Wyszyńskiego 3</td>\n",
       "      <td>52.225633</td>\n",
       "      <td>18.269036</td>\n",
       "    </tr>\n",
       "  </tbody>\n",
       "</table>\n",
       "</div>"
      ],
      "text/plain": [
       "            Kod stacji   Kod UE                Nazwa stacji  \\\n",
       "Nr                                                            \n",
       "9         DsCzerStraza  PL0028A                   Czerniawa   \n",
       "28            DsJelw05  PL0026A                    Jeleniów   \n",
       "85        DsSniezkaObs  PL0003R                     Śnieżka   \n",
       "242       LbJarczWolaM  PL0002R                IMGW-Jarczew   \n",
       "452       MzBelsIGFPAN  PL0014A                Belsk-IGFPAN   \n",
       "518       MzWarPodlesn  PL0044A           Warszawa-Podleśna   \n",
       "529      MzWarszKrucza  PL0010A             Warszawa-Krucza   \n",
       "687            Pm.a09a  PL0053A          AM9 Gdynia Redłowo   \n",
       "697       PmGdaWyzwo03  PL0047A        AM3 Gdańsk Nowy Port   \n",
       "699       PmGdyPoreb04  PL0048A          AM4 Gdynia Pogórze   \n",
       "705       PmLebaRabkaE  PL0004R           IMGW Łeba - Rąbka   \n",
       "775       SlKatoKossut  PL0008A    Katowice, ul. Kossutha 6   \n",
       "803  SlUstroCies_sanat  PL0029A           Ustroń_sanat-WIOŚ   \n",
       "843       WmPuszczaBor  PL0005R         KMŚ Puszcza Borecka   \n",
       "862       WpKoniWyszyn  PL0031A  Konin, ul. Wyszyńskiego 3a   \n",
       "\n",
       "         Stary Kod stacji Data uruchomienia Data zamknięcia      Status  \\\n",
       "Nr                                                                        \n",
       "9                DsCzer02        1996-07-01             NaT     Aktywny   \n",
       "28               DsJelw05        1996-07-01      2009-12-31  Nieaktywny   \n",
       "85              DsSniezka        2006-01-01             NaT     Aktywny   \n",
       "242             LbJarczew        1985-10-01             NaT     Aktywny   \n",
       "452         MzBelskIGFPAN        1991-07-01             NaT     Aktywny   \n",
       "518          MzWarPodIMGW        2003-09-30             NaT     Aktywny   \n",
       "529         MzWarszKrucza        1990-01-01      2013-12-31  Nieaktywny   \n",
       "687               Pm.a09a        1999-09-01      2009-12-31  Nieaktywny   \n",
       "697               Pm.a03a        1998-09-01             NaT     Aktywny   \n",
       "699               Pm.a04a        1997-03-01             NaT     Aktywny   \n",
       "705        Pm08LEBAiEMEPa        2004-03-31             NaT     Aktywny   \n",
       "775     SlKatowKato_kossu        1992-01-01             NaT     Aktywny   \n",
       "803     SlUstroCies_sanat        1996-03-01      2009-12-31  Nieaktywny   \n",
       "843  WmPuszcz_IOS_Borecka        2004-01-01             NaT     Aktywny   \n",
       "862  WpKonin311009D009102        2003-03-03             NaT     Aktywny   \n",
       "\n",
       "    Typ stacji  Typ obszaru            Rodzaj stacji          Województwo  \\\n",
       "Nr                                                                          \n",
       "9          tło  pozamiejski  kontenerowa stacjonarna         DOLNOŚLĄSKIE   \n",
       "28         tło  pozamiejski  kontenerowa stacjonarna         DOLNOŚLĄSKIE   \n",
       "85         tło  pozamiejski  kontenerowa stacjonarna         DOLNOŚLĄSKIE   \n",
       "242        tło  pozamiejski  kontenerowa stacjonarna            LUBELSKIE   \n",
       "452        tło  pozamiejski                w budynku          MAZOWIECKIE   \n",
       "518        tło      miejski                w budynku          MAZOWIECKIE   \n",
       "529        tło      miejski                w budynku          MAZOWIECKIE   \n",
       "687        tło      miejski  kontenerowa stacjonarna            POMORSKIE   \n",
       "697        tło      miejski  kontenerowa stacjonarna            POMORSKIE   \n",
       "699        tło      miejski  kontenerowa stacjonarna            POMORSKIE   \n",
       "705        tło   podmiejski                w budynku            POMORSKIE   \n",
       "775        tło      miejski  kontenerowa stacjonarna              ŚLĄSKIE   \n",
       "803        tło      miejski                w budynku              ŚLĄSKIE   \n",
       "843        tło  pozamiejski              BRAK DANYCH  WARMIŃSKO-MAZURSKIE   \n",
       "862        tło      miejski  kontenerowa stacjonarna        WIELKOPOLSKIE   \n",
       "\n",
       "     Miejscowość               Ulica  WGS84 φ N  WGS84 λ E  \n",
       "Nr                                                          \n",
       "9      Czerniawa     ul. Strażacka 7  50.912475  15.312190  \n",
       "28      Jeleniów                 NaN  51.224843  15.232984  \n",
       "85       Karpacz             Śnieżka  50.736389  15.739722  \n",
       "242      Jarczew                 NaN  51.814367  21.972375  \n",
       "452   Belsk Duży       Osiedle PAN 1  51.835120  20.791556  \n",
       "518     Warszawa     ul. Podleśna 61  52.280939  20.962156  \n",
       "529     Warszawa     ul. Krucza 5/11  52.224583  21.019039  \n",
       "687       Gdynia       ul. Kopernika  54.483333  18.550000  \n",
       "697       Gdańsk      ul. Wyzwolenia  54.400833  18.657497  \n",
       "699       Gdynia     ul. Porębskiego  54.560836  18.493331  \n",
       "705         Łeba                 NaN  54.754139  17.534528  \n",
       "775     Katowice      ul. Kossutha 6  50.264611  18.975028  \n",
       "803       Ustroń   ul. Sanatoryjna 1  49.724722  18.825000  \n",
       "843  Diabla Góra         Diabla Góra  54.124819  22.038056  \n",
       "862        Konin  ul. Wyszyńskiego 3  52.225633  18.269036  "
      ]
     },
     "execution_count": 28,
     "metadata": {},
     "output_type": "execute_result"
    }
   ],
   "source": [
    "stacje[(stacje[\"Stary Kod stacji\"]).isin(nazywStacji) | (stacje[\"Kod stacji\"]).isin(nazywStacji)]"
   ]
  },
  {
   "cell_type": "code",
   "execution_count": 29,
   "metadata": {
    "collapsed": false
   },
   "outputs": [],
   "source": [
    "interesujaceStacje = stacje[(stacje[\"Stary Kod stacji\"]).isin(nazywStacji) | (stacje[\"Kod stacji\"]).isin(nazywStacji)]"
   ]
  },
  {
   "cell_type": "code",
   "execution_count": 30,
   "metadata": {
    "collapsed": false
   },
   "outputs": [
    {
     "data": {
      "text/html": [
       "<div>\n",
       "<table border=\"1\" class=\"dataframe\">\n",
       "  <thead>\n",
       "    <tr style=\"text-align: right;\">\n",
       "      <th></th>\n",
       "      <th>Kod stacji</th>\n",
       "      <th>Kod UE</th>\n",
       "      <th>Nazwa stacji</th>\n",
       "      <th>Stary Kod stacji</th>\n",
       "      <th>Data uruchomienia</th>\n",
       "      <th>Data zamknięcia</th>\n",
       "      <th>Status</th>\n",
       "      <th>Typ stacji</th>\n",
       "      <th>Typ obszaru</th>\n",
       "      <th>Rodzaj stacji</th>\n",
       "      <th>Województwo</th>\n",
       "      <th>Miejscowość</th>\n",
       "      <th>Ulica</th>\n",
       "      <th>WGS84 φ N</th>\n",
       "      <th>WGS84 λ E</th>\n",
       "    </tr>\n",
       "    <tr>\n",
       "      <th>Nr</th>\n",
       "      <th></th>\n",
       "      <th></th>\n",
       "      <th></th>\n",
       "      <th></th>\n",
       "      <th></th>\n",
       "      <th></th>\n",
       "      <th></th>\n",
       "      <th></th>\n",
       "      <th></th>\n",
       "      <th></th>\n",
       "      <th></th>\n",
       "      <th></th>\n",
       "      <th></th>\n",
       "      <th></th>\n",
       "      <th></th>\n",
       "    </tr>\n",
       "  </thead>\n",
       "  <tbody>\n",
       "    <tr>\n",
       "      <th>9</th>\n",
       "      <td>DsCzerStraza</td>\n",
       "      <td>PL0028A</td>\n",
       "      <td>Czerniawa</td>\n",
       "      <td>DsCzer02</td>\n",
       "      <td>1996-07-01</td>\n",
       "      <td>NaT</td>\n",
       "      <td>Aktywny</td>\n",
       "      <td>tło</td>\n",
       "      <td>pozamiejski</td>\n",
       "      <td>kontenerowa stacjonarna</td>\n",
       "      <td>DOLNOŚLĄSKIE</td>\n",
       "      <td>Czerniawa</td>\n",
       "      <td>ul. Strażacka 7</td>\n",
       "      <td>50.912475</td>\n",
       "      <td>15.312190</td>\n",
       "    </tr>\n",
       "    <tr>\n",
       "      <th>28</th>\n",
       "      <td>DsJelw05</td>\n",
       "      <td>PL0026A</td>\n",
       "      <td>Jeleniów</td>\n",
       "      <td>DsJelw05</td>\n",
       "      <td>1996-07-01</td>\n",
       "      <td>2009-12-31</td>\n",
       "      <td>Nieaktywny</td>\n",
       "      <td>tło</td>\n",
       "      <td>pozamiejski</td>\n",
       "      <td>kontenerowa stacjonarna</td>\n",
       "      <td>DOLNOŚLĄSKIE</td>\n",
       "      <td>Jeleniów</td>\n",
       "      <td>NaN</td>\n",
       "      <td>51.224843</td>\n",
       "      <td>15.232984</td>\n",
       "    </tr>\n",
       "    <tr>\n",
       "      <th>85</th>\n",
       "      <td>DsSniezkaObs</td>\n",
       "      <td>PL0003R</td>\n",
       "      <td>Śnieżka</td>\n",
       "      <td>DsSniezka</td>\n",
       "      <td>2006-01-01</td>\n",
       "      <td>NaT</td>\n",
       "      <td>Aktywny</td>\n",
       "      <td>tło</td>\n",
       "      <td>pozamiejski</td>\n",
       "      <td>kontenerowa stacjonarna</td>\n",
       "      <td>DOLNOŚLĄSKIE</td>\n",
       "      <td>Karpacz</td>\n",
       "      <td>Śnieżka</td>\n",
       "      <td>50.736389</td>\n",
       "      <td>15.739722</td>\n",
       "    </tr>\n",
       "    <tr>\n",
       "      <th>242</th>\n",
       "      <td>LbJarczWolaM</td>\n",
       "      <td>PL0002R</td>\n",
       "      <td>IMGW-Jarczew</td>\n",
       "      <td>LbJarczew</td>\n",
       "      <td>1985-10-01</td>\n",
       "      <td>NaT</td>\n",
       "      <td>Aktywny</td>\n",
       "      <td>tło</td>\n",
       "      <td>pozamiejski</td>\n",
       "      <td>kontenerowa stacjonarna</td>\n",
       "      <td>LUBELSKIE</td>\n",
       "      <td>Jarczew</td>\n",
       "      <td>NaN</td>\n",
       "      <td>51.814367</td>\n",
       "      <td>21.972375</td>\n",
       "    </tr>\n",
       "    <tr>\n",
       "      <th>452</th>\n",
       "      <td>MzBelsIGFPAN</td>\n",
       "      <td>PL0014A</td>\n",
       "      <td>Belsk-IGFPAN</td>\n",
       "      <td>MzBelskIGFPAN</td>\n",
       "      <td>1991-07-01</td>\n",
       "      <td>NaT</td>\n",
       "      <td>Aktywny</td>\n",
       "      <td>tło</td>\n",
       "      <td>pozamiejski</td>\n",
       "      <td>w budynku</td>\n",
       "      <td>MAZOWIECKIE</td>\n",
       "      <td>Belsk Duży</td>\n",
       "      <td>Osiedle PAN 1</td>\n",
       "      <td>51.835120</td>\n",
       "      <td>20.791556</td>\n",
       "    </tr>\n",
       "    <tr>\n",
       "      <th>518</th>\n",
       "      <td>MzWarPodlesn</td>\n",
       "      <td>PL0044A</td>\n",
       "      <td>Warszawa-Podleśna</td>\n",
       "      <td>MzWarPodIMGW</td>\n",
       "      <td>2003-09-30</td>\n",
       "      <td>NaT</td>\n",
       "      <td>Aktywny</td>\n",
       "      <td>tło</td>\n",
       "      <td>miejski</td>\n",
       "      <td>w budynku</td>\n",
       "      <td>MAZOWIECKIE</td>\n",
       "      <td>Warszawa</td>\n",
       "      <td>ul. Podleśna 61</td>\n",
       "      <td>52.280939</td>\n",
       "      <td>20.962156</td>\n",
       "    </tr>\n",
       "    <tr>\n",
       "      <th>529</th>\n",
       "      <td>MzWarszKrucza</td>\n",
       "      <td>PL0010A</td>\n",
       "      <td>Warszawa-Krucza</td>\n",
       "      <td>MzWarszKrucza</td>\n",
       "      <td>1990-01-01</td>\n",
       "      <td>2013-12-31</td>\n",
       "      <td>Nieaktywny</td>\n",
       "      <td>tło</td>\n",
       "      <td>miejski</td>\n",
       "      <td>w budynku</td>\n",
       "      <td>MAZOWIECKIE</td>\n",
       "      <td>Warszawa</td>\n",
       "      <td>ul. Krucza 5/11</td>\n",
       "      <td>52.224583</td>\n",
       "      <td>21.019039</td>\n",
       "    </tr>\n",
       "    <tr>\n",
       "      <th>687</th>\n",
       "      <td>Pm.a09a</td>\n",
       "      <td>PL0053A</td>\n",
       "      <td>AM9 Gdynia Redłowo</td>\n",
       "      <td>Pm.a09a</td>\n",
       "      <td>1999-09-01</td>\n",
       "      <td>2009-12-31</td>\n",
       "      <td>Nieaktywny</td>\n",
       "      <td>tło</td>\n",
       "      <td>miejski</td>\n",
       "      <td>kontenerowa stacjonarna</td>\n",
       "      <td>POMORSKIE</td>\n",
       "      <td>Gdynia</td>\n",
       "      <td>ul. Kopernika</td>\n",
       "      <td>54.483333</td>\n",
       "      <td>18.550000</td>\n",
       "    </tr>\n",
       "    <tr>\n",
       "      <th>697</th>\n",
       "      <td>PmGdaWyzwo03</td>\n",
       "      <td>PL0047A</td>\n",
       "      <td>AM3 Gdańsk Nowy Port</td>\n",
       "      <td>Pm.a03a</td>\n",
       "      <td>1998-09-01</td>\n",
       "      <td>NaT</td>\n",
       "      <td>Aktywny</td>\n",
       "      <td>tło</td>\n",
       "      <td>miejski</td>\n",
       "      <td>kontenerowa stacjonarna</td>\n",
       "      <td>POMORSKIE</td>\n",
       "      <td>Gdańsk</td>\n",
       "      <td>ul. Wyzwolenia</td>\n",
       "      <td>54.400833</td>\n",
       "      <td>18.657497</td>\n",
       "    </tr>\n",
       "    <tr>\n",
       "      <th>699</th>\n",
       "      <td>PmGdyPoreb04</td>\n",
       "      <td>PL0048A</td>\n",
       "      <td>AM4 Gdynia Pogórze</td>\n",
       "      <td>Pm.a04a</td>\n",
       "      <td>1997-03-01</td>\n",
       "      <td>NaT</td>\n",
       "      <td>Aktywny</td>\n",
       "      <td>tło</td>\n",
       "      <td>miejski</td>\n",
       "      <td>kontenerowa stacjonarna</td>\n",
       "      <td>POMORSKIE</td>\n",
       "      <td>Gdynia</td>\n",
       "      <td>ul. Porębskiego</td>\n",
       "      <td>54.560836</td>\n",
       "      <td>18.493331</td>\n",
       "    </tr>\n",
       "    <tr>\n",
       "      <th>705</th>\n",
       "      <td>PmLebaRabkaE</td>\n",
       "      <td>PL0004R</td>\n",
       "      <td>IMGW Łeba - Rąbka</td>\n",
       "      <td>Pm08LEBAiEMEPa</td>\n",
       "      <td>2004-03-31</td>\n",
       "      <td>NaT</td>\n",
       "      <td>Aktywny</td>\n",
       "      <td>tło</td>\n",
       "      <td>podmiejski</td>\n",
       "      <td>w budynku</td>\n",
       "      <td>POMORSKIE</td>\n",
       "      <td>Łeba</td>\n",
       "      <td>NaN</td>\n",
       "      <td>54.754139</td>\n",
       "      <td>17.534528</td>\n",
       "    </tr>\n",
       "    <tr>\n",
       "      <th>775</th>\n",
       "      <td>SlKatoKossut</td>\n",
       "      <td>PL0008A</td>\n",
       "      <td>Katowice, ul. Kossutha 6</td>\n",
       "      <td>SlKatowKato_kossu</td>\n",
       "      <td>1992-01-01</td>\n",
       "      <td>NaT</td>\n",
       "      <td>Aktywny</td>\n",
       "      <td>tło</td>\n",
       "      <td>miejski</td>\n",
       "      <td>kontenerowa stacjonarna</td>\n",
       "      <td>ŚLĄSKIE</td>\n",
       "      <td>Katowice</td>\n",
       "      <td>ul. Kossutha 6</td>\n",
       "      <td>50.264611</td>\n",
       "      <td>18.975028</td>\n",
       "    </tr>\n",
       "    <tr>\n",
       "      <th>803</th>\n",
       "      <td>SlUstroCies_sanat</td>\n",
       "      <td>PL0029A</td>\n",
       "      <td>Ustroń_sanat-WIOŚ</td>\n",
       "      <td>SlUstroCies_sanat</td>\n",
       "      <td>1996-03-01</td>\n",
       "      <td>2009-12-31</td>\n",
       "      <td>Nieaktywny</td>\n",
       "      <td>tło</td>\n",
       "      <td>miejski</td>\n",
       "      <td>w budynku</td>\n",
       "      <td>ŚLĄSKIE</td>\n",
       "      <td>Ustroń</td>\n",
       "      <td>ul. Sanatoryjna 1</td>\n",
       "      <td>49.724722</td>\n",
       "      <td>18.825000</td>\n",
       "    </tr>\n",
       "    <tr>\n",
       "      <th>843</th>\n",
       "      <td>WmPuszczaBor</td>\n",
       "      <td>PL0005R</td>\n",
       "      <td>KMŚ Puszcza Borecka</td>\n",
       "      <td>WmPuszcz_IOS_Borecka</td>\n",
       "      <td>2004-01-01</td>\n",
       "      <td>NaT</td>\n",
       "      <td>Aktywny</td>\n",
       "      <td>tło</td>\n",
       "      <td>pozamiejski</td>\n",
       "      <td>BRAK DANYCH</td>\n",
       "      <td>WARMIŃSKO-MAZURSKIE</td>\n",
       "      <td>Diabla Góra</td>\n",
       "      <td>Diabla Góra</td>\n",
       "      <td>54.124819</td>\n",
       "      <td>22.038056</td>\n",
       "    </tr>\n",
       "    <tr>\n",
       "      <th>862</th>\n",
       "      <td>WpKoniWyszyn</td>\n",
       "      <td>PL0031A</td>\n",
       "      <td>Konin, ul. Wyszyńskiego 3a</td>\n",
       "      <td>WpKonin311009D009102</td>\n",
       "      <td>2003-03-03</td>\n",
       "      <td>NaT</td>\n",
       "      <td>Aktywny</td>\n",
       "      <td>tło</td>\n",
       "      <td>miejski</td>\n",
       "      <td>kontenerowa stacjonarna</td>\n",
       "      <td>WIELKOPOLSKIE</td>\n",
       "      <td>Konin</td>\n",
       "      <td>ul. Wyszyńskiego 3</td>\n",
       "      <td>52.225633</td>\n",
       "      <td>18.269036</td>\n",
       "    </tr>\n",
       "  </tbody>\n",
       "</table>\n",
       "</div>"
      ],
      "text/plain": [
       "            Kod stacji   Kod UE                Nazwa stacji  \\\n",
       "Nr                                                            \n",
       "9         DsCzerStraza  PL0028A                   Czerniawa   \n",
       "28            DsJelw05  PL0026A                    Jeleniów   \n",
       "85        DsSniezkaObs  PL0003R                     Śnieżka   \n",
       "242       LbJarczWolaM  PL0002R                IMGW-Jarczew   \n",
       "452       MzBelsIGFPAN  PL0014A                Belsk-IGFPAN   \n",
       "518       MzWarPodlesn  PL0044A           Warszawa-Podleśna   \n",
       "529      MzWarszKrucza  PL0010A             Warszawa-Krucza   \n",
       "687            Pm.a09a  PL0053A          AM9 Gdynia Redłowo   \n",
       "697       PmGdaWyzwo03  PL0047A        AM3 Gdańsk Nowy Port   \n",
       "699       PmGdyPoreb04  PL0048A          AM4 Gdynia Pogórze   \n",
       "705       PmLebaRabkaE  PL0004R           IMGW Łeba - Rąbka   \n",
       "775       SlKatoKossut  PL0008A    Katowice, ul. Kossutha 6   \n",
       "803  SlUstroCies_sanat  PL0029A           Ustroń_sanat-WIOŚ   \n",
       "843       WmPuszczaBor  PL0005R         KMŚ Puszcza Borecka   \n",
       "862       WpKoniWyszyn  PL0031A  Konin, ul. Wyszyńskiego 3a   \n",
       "\n",
       "         Stary Kod stacji Data uruchomienia Data zamknięcia      Status  \\\n",
       "Nr                                                                        \n",
       "9                DsCzer02        1996-07-01             NaT     Aktywny   \n",
       "28               DsJelw05        1996-07-01      2009-12-31  Nieaktywny   \n",
       "85              DsSniezka        2006-01-01             NaT     Aktywny   \n",
       "242             LbJarczew        1985-10-01             NaT     Aktywny   \n",
       "452         MzBelskIGFPAN        1991-07-01             NaT     Aktywny   \n",
       "518          MzWarPodIMGW        2003-09-30             NaT     Aktywny   \n",
       "529         MzWarszKrucza        1990-01-01      2013-12-31  Nieaktywny   \n",
       "687               Pm.a09a        1999-09-01      2009-12-31  Nieaktywny   \n",
       "697               Pm.a03a        1998-09-01             NaT     Aktywny   \n",
       "699               Pm.a04a        1997-03-01             NaT     Aktywny   \n",
       "705        Pm08LEBAiEMEPa        2004-03-31             NaT     Aktywny   \n",
       "775     SlKatowKato_kossu        1992-01-01             NaT     Aktywny   \n",
       "803     SlUstroCies_sanat        1996-03-01      2009-12-31  Nieaktywny   \n",
       "843  WmPuszcz_IOS_Borecka        2004-01-01             NaT     Aktywny   \n",
       "862  WpKonin311009D009102        2003-03-03             NaT     Aktywny   \n",
       "\n",
       "    Typ stacji  Typ obszaru            Rodzaj stacji          Województwo  \\\n",
       "Nr                                                                          \n",
       "9          tło  pozamiejski  kontenerowa stacjonarna         DOLNOŚLĄSKIE   \n",
       "28         tło  pozamiejski  kontenerowa stacjonarna         DOLNOŚLĄSKIE   \n",
       "85         tło  pozamiejski  kontenerowa stacjonarna         DOLNOŚLĄSKIE   \n",
       "242        tło  pozamiejski  kontenerowa stacjonarna            LUBELSKIE   \n",
       "452        tło  pozamiejski                w budynku          MAZOWIECKIE   \n",
       "518        tło      miejski                w budynku          MAZOWIECKIE   \n",
       "529        tło      miejski                w budynku          MAZOWIECKIE   \n",
       "687        tło      miejski  kontenerowa stacjonarna            POMORSKIE   \n",
       "697        tło      miejski  kontenerowa stacjonarna            POMORSKIE   \n",
       "699        tło      miejski  kontenerowa stacjonarna            POMORSKIE   \n",
       "705        tło   podmiejski                w budynku            POMORSKIE   \n",
       "775        tło      miejski  kontenerowa stacjonarna              ŚLĄSKIE   \n",
       "803        tło      miejski                w budynku              ŚLĄSKIE   \n",
       "843        tło  pozamiejski              BRAK DANYCH  WARMIŃSKO-MAZURSKIE   \n",
       "862        tło      miejski  kontenerowa stacjonarna        WIELKOPOLSKIE   \n",
       "\n",
       "     Miejscowość               Ulica  WGS84 φ N  WGS84 λ E  \n",
       "Nr                                                          \n",
       "9      Czerniawa     ul. Strażacka 7  50.912475  15.312190  \n",
       "28      Jeleniów                 NaN  51.224843  15.232984  \n",
       "85       Karpacz             Śnieżka  50.736389  15.739722  \n",
       "242      Jarczew                 NaN  51.814367  21.972375  \n",
       "452   Belsk Duży       Osiedle PAN 1  51.835120  20.791556  \n",
       "518     Warszawa     ul. Podleśna 61  52.280939  20.962156  \n",
       "529     Warszawa     ul. Krucza 5/11  52.224583  21.019039  \n",
       "687       Gdynia       ul. Kopernika  54.483333  18.550000  \n",
       "697       Gdańsk      ul. Wyzwolenia  54.400833  18.657497  \n",
       "699       Gdynia     ul. Porębskiego  54.560836  18.493331  \n",
       "705         Łeba                 NaN  54.754139  17.534528  \n",
       "775     Katowice      ul. Kossutha 6  50.264611  18.975028  \n",
       "803       Ustroń   ul. Sanatoryjna 1  49.724722  18.825000  \n",
       "843  Diabla Góra         Diabla Góra  54.124819  22.038056  \n",
       "862        Konin  ul. Wyszyńskiego 3  52.225633  18.269036  "
      ]
     },
     "execution_count": 30,
     "metadata": {},
     "output_type": "execute_result"
    }
   ],
   "source": [
    "interesujaceStacje"
   ]
  },
  {
   "cell_type": "code",
   "execution_count": 31,
   "metadata": {
    "collapsed": false
   },
   "outputs": [
    {
     "data": {
      "text/plain": [
       "(15, 15)"
      ]
     },
     "execution_count": 31,
     "metadata": {},
     "output_type": "execute_result"
    }
   ],
   "source": [
    "interesujaceStacje.shape"
   ]
  },
  {
   "cell_type": "code",
   "execution_count": 32,
   "metadata": {
    "collapsed": false
   },
   "outputs": [
    {
     "data": {
      "text/html": [
       "<div>\n",
       "<table border=\"1\" class=\"dataframe\">\n",
       "  <thead>\n",
       "    <tr style=\"text-align: right;\">\n",
       "      <th></th>\n",
       "      <th>WGS84 λ E</th>\n",
       "      <th>WGS84 φ N</th>\n",
       "    </tr>\n",
       "    <tr>\n",
       "      <th>Nr</th>\n",
       "      <th></th>\n",
       "      <th></th>\n",
       "    </tr>\n",
       "  </thead>\n",
       "  <tbody>\n",
       "    <tr>\n",
       "      <th>9</th>\n",
       "      <td>15.312190</td>\n",
       "      <td>50.912475</td>\n",
       "    </tr>\n",
       "    <tr>\n",
       "      <th>28</th>\n",
       "      <td>15.232984</td>\n",
       "      <td>51.224843</td>\n",
       "    </tr>\n",
       "    <tr>\n",
       "      <th>85</th>\n",
       "      <td>15.739722</td>\n",
       "      <td>50.736389</td>\n",
       "    </tr>\n",
       "    <tr>\n",
       "      <th>242</th>\n",
       "      <td>21.972375</td>\n",
       "      <td>51.814367</td>\n",
       "    </tr>\n",
       "    <tr>\n",
       "      <th>452</th>\n",
       "      <td>20.791556</td>\n",
       "      <td>51.835120</td>\n",
       "    </tr>\n",
       "    <tr>\n",
       "      <th>518</th>\n",
       "      <td>20.962156</td>\n",
       "      <td>52.280939</td>\n",
       "    </tr>\n",
       "    <tr>\n",
       "      <th>529</th>\n",
       "      <td>21.019039</td>\n",
       "      <td>52.224583</td>\n",
       "    </tr>\n",
       "    <tr>\n",
       "      <th>687</th>\n",
       "      <td>18.550000</td>\n",
       "      <td>54.483333</td>\n",
       "    </tr>\n",
       "    <tr>\n",
       "      <th>697</th>\n",
       "      <td>18.657497</td>\n",
       "      <td>54.400833</td>\n",
       "    </tr>\n",
       "    <tr>\n",
       "      <th>699</th>\n",
       "      <td>18.493331</td>\n",
       "      <td>54.560836</td>\n",
       "    </tr>\n",
       "    <tr>\n",
       "      <th>705</th>\n",
       "      <td>17.534528</td>\n",
       "      <td>54.754139</td>\n",
       "    </tr>\n",
       "    <tr>\n",
       "      <th>775</th>\n",
       "      <td>18.975028</td>\n",
       "      <td>50.264611</td>\n",
       "    </tr>\n",
       "    <tr>\n",
       "      <th>803</th>\n",
       "      <td>18.825000</td>\n",
       "      <td>49.724722</td>\n",
       "    </tr>\n",
       "    <tr>\n",
       "      <th>843</th>\n",
       "      <td>22.038056</td>\n",
       "      <td>54.124819</td>\n",
       "    </tr>\n",
       "    <tr>\n",
       "      <th>862</th>\n",
       "      <td>18.269036</td>\n",
       "      <td>52.225633</td>\n",
       "    </tr>\n",
       "  </tbody>\n",
       "</table>\n",
       "</div>"
      ],
      "text/plain": [
       "     WGS84 λ E  WGS84 φ N\n",
       "Nr                       \n",
       "9    15.312190  50.912475\n",
       "28   15.232984  51.224843\n",
       "85   15.739722  50.736389\n",
       "242  21.972375  51.814367\n",
       "452  20.791556  51.835120\n",
       "518  20.962156  52.280939\n",
       "529  21.019039  52.224583\n",
       "687  18.550000  54.483333\n",
       "697  18.657497  54.400833\n",
       "699  18.493331  54.560836\n",
       "705  17.534528  54.754139\n",
       "775  18.975028  50.264611\n",
       "803  18.825000  49.724722\n",
       "843  22.038056  54.124819\n",
       "862  18.269036  52.225633"
      ]
     },
     "execution_count": 32,
     "metadata": {},
     "output_type": "execute_result"
    }
   ],
   "source": [
    "interesujaceStacje[[u'WGS84 \\u03bb E',u'WGS84 \\u03c6 N']]"
   ]
  },
  {
   "cell_type": "code",
   "execution_count": null,
   "metadata": {
    "collapsed": false
   },
   "outputs": [],
   "source": [
    "wspolrzedne = interesujaceStacje[[u'WGS84 \\u03bb E',u'WGS84 \\u03c6 N']].values"
   ]
  },
  {
   "cell_type": "code",
   "execution_count": null,
   "metadata": {
    "collapsed": false
   },
   "outputs": [],
   "source": [
    "wspolrzedne[:,1]"
   ]
  },
  {
   "cell_type": "code",
   "execution_count": null,
   "metadata": {
    "collapsed": true
   },
   "outputs": [],
   "source": [
    "import matplotlib.pyplot as plt"
   ]
  },
  {
   "cell_type": "code",
   "execution_count": null,
   "metadata": {
    "collapsed": false
   },
   "outputs": [],
   "source": [
    "plt.scatter(wspolrzedne[:,0], wspolrzedne[:,1])"
   ]
  },
  {
   "cell_type": "code",
   "execution_count": null,
   "metadata": {
    "collapsed": false
   },
   "outputs": [],
   "source": [
    "import folium\n",
    "map_osm = folium.Map(location=[52.069167, 19.480556], zoom_start=6)"
   ]
  },
  {
   "cell_type": "code",
   "execution_count": null,
   "metadata": {
    "collapsed": false
   },
   "outputs": [],
   "source": [
    "map_osm"
   ]
  },
  {
   "cell_type": "code",
   "execution_count": null,
   "metadata": {
    "collapsed": false
   },
   "outputs": [],
   "source": [
    "interesujaceStacje.index"
   ]
  },
  {
   "cell_type": "code",
   "execution_count": null,
   "metadata": {
    "collapsed": false
   },
   "outputs": [],
   "source": [
    "for index, row in interesujaceStacje.iterrows():\n",
    "    print row['Nazwa stacji']\n",
    "    folium.Marker([row[u'WGS84 \\u03c6 N'], row[u'WGS84 \\u03bb E']], popup=row['Nazwa stacji']).add_to(map_osm)"
   ]
  },
  {
   "cell_type": "code",
   "execution_count": null,
   "metadata": {
    "collapsed": false
   },
   "outputs": [],
   "source": [
    "map_osm"
   ]
  },
  {
   "cell_type": "code",
   "execution_count": null,
   "metadata": {
    "collapsed": false
   },
   "outputs": [],
   "source": [
    "jeden_dzien = dane[dane.index == \"2000-06-12 08:00:00\"]"
   ]
  },
  {
   "cell_type": "code",
   "execution_count": null,
   "metadata": {
    "collapsed": false
   },
   "outputs": [],
   "source": [
    "do_interpolacji = pd.melt(jeden_dzien)"
   ]
  },
  {
   "cell_type": "code",
   "execution_count": null,
   "metadata": {
    "collapsed": false
   },
   "outputs": [],
   "source": [
    "do_interpolacji.rename(columns={\"variable\":\"Stary Kod stacji\"}, inplace=True)"
   ]
  },
  {
   "cell_type": "code",
   "execution_count": null,
   "metadata": {
    "collapsed": false
   },
   "outputs": [],
   "source": [
    "final = do_interpolacji.merge(interesujaceStacje[[u'WGS84 \\u03bb E',u'WGS84 \\u03c6 N', \"Stary Kod stacji\"]])"
   ]
  },
  {
   "cell_type": "code",
   "execution_count": null,
   "metadata": {
    "collapsed": false
   },
   "outputs": [],
   "source": [
    "x = final[u'WGS84 \\u03bb E'].values\n",
    "y = final[u'WGS84 \\u03c6 N'].values\n",
    "z = final[u'value'].values"
   ]
  },
  {
   "cell_type": "code",
   "execution_count": null,
   "metadata": {
    "collapsed": false
   },
   "outputs": [],
   "source": [
    "x"
   ]
  },
  {
   "cell_type": "code",
   "execution_count": null,
   "metadata": {
    "collapsed": true
   },
   "outputs": [],
   "source": [
    "import numpy as np\n",
    "from scipy.interpolate import griddata"
   ]
  },
  {
   "cell_type": "code",
   "execution_count": null,
   "metadata": {
    "collapsed": false
   },
   "outputs": [],
   "source": [
    "xi = np.linspace(x.min(),x.max(),100)\n",
    "yi = np.linspace(y.min(),y.max(),200)\n",
    "\n",
    "xi = np.append(xi,x)\n",
    "xi.sort()\n",
    "yi = np.append(yi,y)\n",
    "yi.sort()\n",
    "\n",
    "zi = griddata((x, y), z, (xi[None,:], yi[:,None]), method='linear')"
   ]
  },
  {
   "cell_type": "code",
   "execution_count": null,
   "metadata": {
    "collapsed": false
   },
   "outputs": [],
   "source": [
    "(x,y), z"
   ]
  },
  {
   "cell_type": "code",
   "execution_count": null,
   "metadata": {
    "collapsed": false
   },
   "outputs": [],
   "source": [
    "zi"
   ]
  },
  {
   "cell_type": "code",
   "execution_count": null,
   "metadata": {
    "collapsed": false
   },
   "outputs": [],
   "source": [
    "# contour the gridded data, plotting dots at the randomly spaced data points.\n",
    "CS = plt.contour(xi,yi,zi)\n",
    "CS = plt.contourf(xi,yi,zi)\n",
    "plt.colorbar() # draw colorbar\n",
    "# plot data points.\n",
    "plt.scatter(x,y,marker='o',c='b',s=5)\n",
    "plt.show()"
   ]
  },
  {
   "cell_type": "code",
   "execution_count": null,
   "metadata": {
    "collapsed": false
   },
   "outputs": [],
   "source": []
  },
  {
   "cell_type": "code",
   "execution_count": null,
   "metadata": {
    "collapsed": true
   },
   "outputs": [],
   "source": [
    "from folium import plugins"
   ]
  },
  {
   "cell_type": "code",
   "execution_count": null,
   "metadata": {
    "collapsed": false
   },
   "outputs": [],
   "source": [
    "nxpoints = (x.max() - x.min()) / .001\n",
    "nypoints = (y.max() - y.min()) / .001"
   ]
  },
  {
   "cell_type": "code",
   "execution_count": null,
   "metadata": {
    "collapsed": false
   },
   "outputs": [],
   "source": [
    "xi = np.linspace(x.min(),x.max(),int(nxpoints))\n",
    "yi = np.linspace(y.min(),y.max(),int(nypoints))"
   ]
  },
  {
   "cell_type": "code",
   "execution_count": null,
   "metadata": {
    "collapsed": false
   },
   "outputs": [],
   "source": [
    "zi = griddata((x, y), z, (xi[None,:], yi[:,None]), method='linear')"
   ]
  },
  {
   "cell_type": "code",
   "execution_count": null,
   "metadata": {
    "collapsed": false
   },
   "outputs": [],
   "source": [
    "print(xi.shape)\n",
    "print(yi.shape)\n",
    "np.isnan(zi[4502,5000])"
   ]
  },
  {
   "cell_type": "code",
   "execution_count": null,
   "metadata": {
    "collapsed": true
   },
   "outputs": [],
   "source": [
    "from tqdm import tqdm"
   ]
  },
  {
   "cell_type": "code",
   "execution_count": null,
   "metadata": {
    "collapsed": false
   },
   "outputs": [],
   "source": [
    "xlist = []\n",
    "ylist = []\n",
    "zlist = []"
   ]
  },
  {
   "cell_type": "code",
   "execution_count": null,
   "metadata": {
    "collapsed": false
   },
   "outputs": [],
   "source": [
    "for xelement in tqdm(range(xi.shape[0])):\n",
    "    for yelement in range(yi.shape[0]):\n",
    "        if np.isnan(zi[yelement,xelement]):\n",
    "            pass\n",
    "        else:\n",
    "            #tmpData = pd.DataFrame()\n",
    "            #tmpData[\"x\"] = xi[xelement]\n",
    "            xlist.append(xi[xelement])\n",
    "            ylist.append(yi[yelement])\n",
    "            zlist.append(zi[yelement,xelement])\n",
    "            #tmpData[\"y\"] = yi[yelement]\n",
    "            #tmpData[\"z\"] = zi[yelement,xelement]\n",
    "            #dataForHeatmap.append(tmpData, ignore_index=True)"
   ]
  },
  {
   "cell_type": "code",
   "execution_count": null,
   "metadata": {
    "collapsed": false
   },
   "outputs": [],
   "source": [
    "dataForHeatmap = pd.DataFrame({\"x\":xlist, \"y\":ylist, \"z\":zlist})"
   ]
  },
  {
   "cell_type": "code",
   "execution_count": null,
   "metadata": {
    "collapsed": false
   },
   "outputs": [],
   "source": [
    "dataForHeatmap"
   ]
  },
  {
   "cell_type": "code",
   "execution_count": null,
   "metadata": {
    "collapsed": false
   },
   "outputs": [],
   "source": [
    "#plugins.HeatMap(zip(ylist, xlist, zlist)).add_to(map_osm)"
   ]
  },
  {
   "cell_type": "code",
   "execution_count": null,
   "metadata": {
    "collapsed": false
   },
   "outputs": [],
   "source": [
    "#map_osm"
   ]
  },
  {
   "cell_type": "code",
   "execution_count": 61,
   "metadata": {
    "collapsed": false
   },
   "outputs": [
    {
     "data": {
      "text/plain": [
       "file"
      ]
     },
     "execution_count": 61,
     "metadata": {},
     "output_type": "execute_result"
    }
   ],
   "source": [
    "file"
   ]
  },
  {
   "cell_type": "code",
   "execution_count": 62,
   "metadata": {
    "collapsed": false
   },
   "outputs": [
    {
     "data": {
      "text/plain": [
       "['2010_Pb(PM10)_24g.xlsx',\n",
       " '2007_As(PM10)_24g.xlsx',\n",
       " '2005_PM2.5_24g.xlsx',\n",
       " '2009_PM2.5_1g.xlsx',\n",
       " '2011_NH4+(PM2.5)_24g.xlsx',\n",
       " '2005_PM10_1g.xlsx',\n",
       " '2006_PM10_24g.xlsx',\n",
       " '2014_NH4+(PM2.5)_24g.xlsx',\n",
       " '2008_PM10_1g.xlsx',\n",
       " '2002_Ni(PM10)_24g.xlsx',\n",
       " '2008_NO2_1g.xlsx',\n",
       " '2011_IP(PM10)_24g.xlsx',\n",
       " '2007_O3_1g.xlsx',\n",
       " '2015_formaldehyd_24g.xlsx',\n",
       " '2015_NO2_1g.xlsx',\n",
       " '2004_NO2_1g.xlsx',\n",
       " '2009_As(PM10)_24g.xlsx',\n",
       " '2008_NO2_24g.xlsx',\n",
       " '2014_BaA(PM10)_24g.xlsx',\n",
       " '2011_EC(PM2.5)_24g.xlsx',\n",
       " '2012_BkF(PM10)_24g.xlsx',\n",
       " '2015_NO2_24g.xlsx',\n",
       " '2011_NO2_24g.xlsx',\n",
       " '2015_Hg(TGM)_1g.xlsx',\n",
       " '2009_NO2_1g.xlsx',\n",
       " '2013_NOx_1g.xlsx',\n",
       " '2014_SO2_24g.xlsx',\n",
       " '2014_Mg2+(PM2.5)_24g.xlsx',\n",
       " '2007_C6H6_24g.xlsx',\n",
       " '2010_Ni(PM10)_24g.xlsx',\n",
       " '2011_Cd(PM10)_24g.xlsx',\n",
       " '2005_C6H6_1g.xlsx',\n",
       " '2005_Ni(PM10)_24g.xlsx',\n",
       " '2009_CO_1g.xlsx',\n",
       " '2011_SO2_24g.xlsx',\n",
       " '2012_OC(PM2.5)_24g.xlsx',\n",
       " '2012_NH4+(PM2.5)_24g.xlsx',\n",
       " '2004_PM10_24g.xlsx',\n",
       " '2013_SO2_1g.xlsx',\n",
       " '2014_SO42_(PM2.5)_24g.xlsx',\n",
       " '2005_As(PM10)_24g.xlsx',\n",
       " '2002_PM10_24g.xlsx',\n",
       " '2014_CO_1g.xlsx',\n",
       " '2013_Cd(PM10)_24g.xlsx',\n",
       " '2011_BjF(PM10)_24g.xlsx',\n",
       " '2012_CO_1g.xlsx',\n",
       " '2012_Ca2+(PM2.5)_24g.xlsx',\n",
       " '2004_O3_1g.xlsx',\n",
       " '2013_NH4+(PM2.5)_24g.xlsx',\n",
       " '2014_BkF(PM10)_24g.xlsx',\n",
       " '2010_BaA(PM10)_24g.xlsx',\n",
       " '2012_Na+(PM2.5)_24g.xlsx',\n",
       " '2008_BaP(PM10)_24g.xlsx',\n",
       " '2013_Pb(PM10)_24g.xlsx',\n",
       " '2013_PM10_1g.xlsx',\n",
       " '2002_SO2_24g.xlsx',\n",
       " '2010_CO_1g.xlsx',\n",
       " '2011_BkF(PM10)_24g.xlsx',\n",
       " '2006_BaP(PM10)_24g.xlsx',\n",
       " '2013_SO2_24g.xlsx',\n",
       " '2009_O3_1g.xlsx',\n",
       " '2004_PM2.5_24g.xlsx',\n",
       " '2014_PM10_1g.xlsx',\n",
       " '2005_NOx_1g.xlsx',\n",
       " '2014_NO2_1g.xlsx',\n",
       " '2004_SO2_1g.xlsx',\n",
       " '2013_PM10_24g.xlsx',\n",
       " '2010_BbF(PM10)_24g.xlsx',\n",
       " '2011_PM2.5_24g.xlsx',\n",
       " '2011_Mg2+(PM2.5)_24g.xlsx',\n",
       " '2012_Mg2+(PM2.5)_24g.xlsx',\n",
       " '2008_BkF(PM10)_24g.xlsx',\n",
       " '2003_NOx_1g.xlsx',\n",
       " '2007_Cd(PM10)_24g.xlsx',\n",
       " '2013_PM2.5_1g.xlsx',\n",
       " '2012_formaldehyd_24g.xlsx',\n",
       " '2012_C6H6_1g.xlsx',\n",
       " '2011_PM10_24g.xlsx',\n",
       " '2006_NO2_24g.xlsx',\n",
       " '2000_SO2_24g.xlsx',\n",
       " '2001_NO2_1g.xlsx',\n",
       " '2013_BjF(PM10)_24g.xlsx',\n",
       " '2008_Ni(PM10)_24g.xlsx',\n",
       " '2011_NO3-(PM2.5)_24g.xlsx',\n",
       " '2011_DBahA(PM10)_24g.xlsx',\n",
       " '2014_BjF(PM10)_24g.xlsx',\n",
       " '2010_As(PM10)_24g.xlsx',\n",
       " '2003_PM10_24g.xlsx',\n",
       " '2004_SO2_24g.xlsx',\n",
       " '2014_Ni(PM10)_24g.xlsx',\n",
       " '2012_BjF(PM10)_24g.xlsx',\n",
       " '2006_Pb(PM10)_24g.xlsx',\n",
       " '2012_DBahA(PM10)_24g.xlsx',\n",
       " '2006_PM2.5_1g.xlsx',\n",
       " '2005_SO2_24g.xlsx',\n",
       " '2014_Na+(PM2.5)_24g.xlsx',\n",
       " '2003_C6H6_24g.xlsx',\n",
       " '2001_SO2_24g.xlsx',\n",
       " '2010_PM2.5_1g.xlsx',\n",
       " '2014_PM10_24g.xlsx',\n",
       " '2013_EC(PM2.5)_24g.xlsx',\n",
       " '2007_PM2.5_24g.xlsx',\n",
       " '2002_NOx_1g.xlsx',\n",
       " '2012_As(PM10)_24g.xlsx',\n",
       " '2013_Ca2+(PM2.5)_24g.xlsx',\n",
       " '2003_SO2_1g.xlsx',\n",
       " '2015_CO_1g.xlsx',\n",
       " '2000_NO2_24g.xlsx',\n",
       " '2012_NOx_1g.xlsx',\n",
       " '2011_OC(PM2.5)_24g.xlsx',\n",
       " '2009_Pb(PM10)_24g.xlsx',\n",
       " '2013_IP(PM10)_24g.xlsx',\n",
       " '2007_C6H6_1g.xlsx',\n",
       " '2007_NO2_1g.xlsx',\n",
       " '2003_SO2_24g.xlsx',\n",
       " '2013_Cl_(PM2.5)-24g.xlsx',\n",
       " '2007_Pb(PM10)_24g.xlsx',\n",
       " '2012_BbF(PM10)_24g.xlsx',\n",
       " '2009_BkF(PM10)_24g.xlsx',\n",
       " '2014_formaldehyd_24g.xlsx',\n",
       " '2014_Ca2+(PM2.5)_24g.xlsx',\n",
       " '2001_NO2_24g.xlsx',\n",
       " '2004_Pb(PM10)_24g.xlsx',\n",
       " '2010_SO2_1g.xlsx',\n",
       " '2005_Pb(PM10)_24g.xlsx',\n",
       " '2014_BbF(PM10)_24g.xlsx',\n",
       " '2009_Ni(PM10)_24g.xlsx',\n",
       " '2004_Ni(PM10)_24g.xlsx',\n",
       " '2006_As(PM10)_24g.xlsx',\n",
       " '2015_Jony_w_PM25_24g.xlsx',\n",
       " '2011_O3_1g.xlsx',\n",
       " '2015_BkF(PM10)_24g.xlsx',\n",
       " '2003_C6H6_1g.xlsx',\n",
       " '2008_SO2_1g.xlsx',\n",
       " '2006_O3_1g.xlsx',\n",
       " '2010_O3_1g.xlsx',\n",
       " '2015_BjF(PM10)_24g.xlsx',\n",
       " '2013_K+(PM2.5)_24g.xlsx',\n",
       " '2015_SO2_1g.xlsx',\n",
       " '2008_NOx_1g.xlsx',\n",
       " '2012_NO2_1g.xlsx',\n",
       " '2015_O3_1g.xlsx',\n",
       " '2000_O3_1g.xlsx',\n",
       " '2010_SO2_24g.xlsx',\n",
       " '2008_BjF(PM10)_24g.xlsx',\n",
       " '2006_SO2_24g.xlsx',\n",
       " '2000_NO2_1g.xlsx',\n",
       " '2008_PM2.5_24g.xlsx',\n",
       " '2012_EC(PM2.5)_24g.xlsx',\n",
       " '2015_DBah(PM10)_24g.xlsx',\n",
       " '2008_PM2.5_1g.xlsx',\n",
       " '2014_IP(PM10)_24g.xlsx',\n",
       " '2009_C6H6_1g.xlsx',\n",
       " '2009_BjF(PM10)_24g.xlsx',\n",
       " '2015_Cd(PM10)_24g.xlsx',\n",
       " '2005_C6H6_24g.xlsx',\n",
       " '2012_Cd(PM10)_24g.xlsx',\n",
       " '2003_As(PM10)_24g.xlsx',\n",
       " '2008_PM10_24g.xlsx',\n",
       " '2010_C6H6_24g.xlsx',\n",
       " '2012_BaP(PM10)_24g.xlsx',\n",
       " '2011_formaldehyd_24g.xlsx',\n",
       " '2011_PM2.5_1g.xlsx',\n",
       " '2002_PM2.5_24g.xlsx',\n",
       " '2010_PM10_24g.xlsx',\n",
       " '2008_O3_1g.xlsx',\n",
       " '2007_NOx_1g.xlsx',\n",
       " '2006_NO2_1g.xlsx',\n",
       " '2008_SO2_24g.xlsx',\n",
       " '2007_Ni(PM10)_24g.xlsx',\n",
       " '2003_NO2_24g.xlsx',\n",
       " '2014_PM2.5_24g.xlsx',\n",
       " '2004_C6H6_1g.xlsx',\n",
       " '2010_NO2_1g.xlsx',\n",
       " '2002_NO2_24g.xlsx',\n",
       " '2012_NO2_24g.xlsx',\n",
       " '2001_PM10_24g.xlsx',\n",
       " '2003_CO_1g.xlsx',\n",
       " '2003_Ni(PM10)_24g.xlsx',\n",
       " '2008_BaA(PM10)_24g.xlsx',\n",
       " '2007_SO2_24g.xlsx',\n",
       " '2009_IP(PM10)_24g.xlsx',\n",
       " '2003_O3_1g.xlsx',\n",
       " '2003_Pb(PM10)_24g.xlsx',\n",
       " '2002_NO2_1g.xlsx',\n",
       " '2011_Ni(PM10)_24g.xlsx',\n",
       " '2013_SO42_(PM2.5)_24g.xlsx',\n",
       " '2009_BaA(PM10)_24g.xlsx',\n",
       " '2014_PM2.5_1g.xlsx',\n",
       " '2014_SO2_1g.xlsx',\n",
       " '2014_OC(PM2.5)_24g.xlsx',\n",
       " '2011_SO42_(PM2.5)_24g.xlsx',\n",
       " '2014_Cl_(PM2.5)-24g.xlsx',\n",
       " '2015_Pb(PM10)_24g.xlsx',\n",
       " '2015_Hg(TGM)_24g.xlsx',\n",
       " '2011_Ca2+(PM2.5)_24g.xlsx',\n",
       " '2014_NO3-(PM2.5)_24g.xlsx',\n",
       " '2013_As(PM10)_24g.xlsx',\n",
       " '2014_C6H6_24g.xlsx',\n",
       " '2009_NO2_24g.xlsx',\n",
       " '2012_NO3-(PM2.5)_24g.xlsx',\n",
       " '2010_PM10_1g.xlsx',\n",
       " '2009_SO2_24g.xlsx',\n",
       " '2011_SO2_1g.xlsx',\n",
       " '2005_SO2_1g.xlsx',\n",
       " '2011_BaA(PM10)_24g.xlsx',\n",
       " '2001_Ni(PM10)_24g.xlsx',\n",
       " '2015_C6H6_1g.xlsx',\n",
       " '2004_PM10_1g.xlsx',\n",
       " '2014_DBahA(PM10)_24g.xlsx',\n",
       " '2011_K+(PM2.5)_24g.xlsx',\n",
       " '2013_Ni(PM10)_24g.xlsx',\n",
       " '2001_Cd(PM10)_24g.xlsx',\n",
       " '2013_O3_1g.xlsx',\n",
       " '2006_Ni(PM10)_24g.xlsx',\n",
       " '2012_PM10_1g.xlsx',\n",
       " '2013_DBahA(PM10)_24g.xlsx',\n",
       " '2001_BaP(PM10)_24g.xlsx',\n",
       " '2013_BbF(PM10)_24g.xlsx',\n",
       " '2003_BaP(PM10)_24g.xlsx',\n",
       " '2013_PM2.5_24g.xlsx',\n",
       " '2014_BaP(PM10)_24g.xlsx',\n",
       " '2005_O3_1g.xlsx',\n",
       " '2008_CO_1g.xlsx',\n",
       " '2003_NO2_1g.xlsx',\n",
       " '2006_NOx_1g.xlsx',\n",
       " '2013_BaP(PM10)_24g.xlsx',\n",
       " '2002_Cd(PM10)_24g.xlsx',\n",
       " '2013_C6H6_1g.xlsx',\n",
       " '2013_CO_1g.xlsx',\n",
       " '2013_OC(PM2.5)_24g.xlsx',\n",
       " '2005_CO_1g.xlsx',\n",
       " '2015_C6H6_24g.xlsx',\n",
       " '2006_SO2_1g.xlsx',\n",
       " '2008_Cd(PM10)_24g.xlsx',\n",
       " '2006_CO_1g.xlsx',\n",
       " '2012_PM10_24g.xlsx',\n",
       " '2003_Cd(PM10)_24g.xlsx',\n",
       " '2011_C6H6_24g.xlsx',\n",
       " '2011_BbF(PM10)_24g.xlsx',\n",
       " '2001_SO2_1g.xlsx',\n",
       " '2008_Pb(PM10)_24g.xlsx',\n",
       " '2010_IP(PM10)_24g.xlsx',\n",
       " '2005_BaP(PM10)_24g.xlsx',\n",
       " '2000_PM10_24g.xlsx',\n",
       " '2012_C6H6_24g.xlsx',\n",
       " '2012_PM2.5_24g.xlsx',\n",
       " '2009_PM10_1g.xlsx',\n",
       " '2003_PM10_1g.xlsx',\n",
       " '2012_K+(PM2.5)_24g.xlsx',\n",
       " '2004_CO_1g.xlsx',\n",
       " '2012_IP(PM10)_24g.xlsx',\n",
       " '2002_SO2_1g.xlsx',\n",
       " '2014_Cd(PM10)_24g.xlsx',\n",
       " '2012_PM2.5_1g.xlsx',\n",
       " '2010_C6H6_1g.xlsx',\n",
       " '2002_C6H6_24g.xlsx',\n",
       " '2009_SO2_1g.xlsx',\n",
       " '2014_NOx_1g.xlsx',\n",
       " '2005_NO2_24g.xlsx',\n",
       " '2009_BaP(PM10)_24g.xlsx',\n",
       " '2010_Cd(PM10)_24g.xlsx',\n",
       " '2004_Cd(PM10)_24g.xlsx',\n",
       " '2007_BaP(PM10)_24g.xlsx',\n",
       " '2006_PM2.5_24g.xlsx',\n",
       " '2009_PM2.5_24g.xlsx',\n",
       " '2011_NOx_1g.xlsx',\n",
       " '2001_NOx_1g.xlsx',\n",
       " '2014_K+(PM2.5)_24g.xlsx',\n",
       " '2015_BbF(PM10)_24g.xlsx',\n",
       " '2004_NOx_1g.xlsx',\n",
       " '2012_Pb(PM10)_24g.xlsx',\n",
       " '2011_Pb(PM10)_24g.xlsx',\n",
       " '2012_BaA(PM10)_24g.xlsx',\n",
       " '2009_BbF(PM10)_24g.xlsx',\n",
       " '2015_PM25_24g.xlsx',\n",
       " '2010_BjF(PM10)_24g.xlsx',\n",
       " '2012_SO2_1g.xlsx',\n",
       " '2012_O3_1g.xlsx',\n",
       " '2009_PM10_24g.xlsx',\n",
       " '2007_PM10_1g.xlsx',\n",
       " '2014_NO2_24g.xlsx',\n",
       " '2005_Cd(PM10)_24g.xlsx',\n",
       " '2001_O3_1g.xlsx',\n",
       " '2015_NOx_1g.xlsx',\n",
       " '2010_NO2_24g.xlsx',\n",
       " '2013_NO2_1g.xlsx',\n",
       " '2011_As(PM10)_24g.xlsx',\n",
       " '2009_DBahA(PM10)_24g.xlsx',\n",
       " '2004_BaP(PM10)_24g.xlsx',\n",
       " '2011_BaP(PM10)_24g.xlsx',\n",
       " '2014_EC(PM2.5)_24g.xlsx',\n",
       " '2012_SO42_(PM2.5)_24g.xlsx',\n",
       " '2011_NO2_1g.xlsx',\n",
       " '2009_Cd(PM10)_24g.xlsx',\n",
       " '2010_formaldehyd_24g.xlsx',\n",
       " '2013_BaA(PM10)_24g.xlsx',\n",
       " '2005_NO2_1g.xlsx',\n",
       " '2006_C6H6_24g.xlsx',\n",
       " '2010_BaP(PM10)_24g.xlsx',\n",
       " '2011_Cl_(PM2.5)-24g.xlsx',\n",
       " '2012_Cl_(PM2.5)-24g.xlsx',\n",
       " '2008_As(PM10)_24g.xlsx',\n",
       " '2013_NO3-(PM2.5)_24g.xlsx',\n",
       " '2009_C6H6_24g.xlsx',\n",
       " '2014_As(PM10)_24g.xlsx',\n",
       " '2007_PM2.5_1g.xlsx',\n",
       " '2009_NOx_1g.xlsx',\n",
       " '2015_BaP(PM10)_24g.xlsx',\n",
       " '2014_C6H6_1g.xlsx',\n",
       " '2015_PM10_1g.xlsx',\n",
       " '2011_CO_1g.xlsx',\n",
       " '2015_depozycja.xlsx',\n",
       " '2013_BkF(PM10)_24g.xlsx',\n",
       " '2008_DBahA(PM10)_24g.xlsx',\n",
       " '2013_Na+(PM2.5)_24g.xlsx',\n",
       " '2006_Cd(PM10)_24g.xlsx',\n",
       " '2013_C6H6_24g.xlsx',\n",
       " '2002_Pb(PM10)_24g.xlsx',\n",
       " '2010_BkF(PM10)_24g.xlsx',\n",
       " '2006_PM10_1g.xlsx',\n",
       " '2004_C6H6_24g.xlsx',\n",
       " '2015_IP(PM10)_24g.xlsx',\n",
       " '2002_As(PM10)_24g.xlsx',\n",
       " '2004_NO2_24g.xlsx',\n",
       " '2002_BaP(PM10)_24g.xlsx',\n",
       " '2015_PM25_1g.xlsx',\n",
       " '2004_As(PM10)_24g.xlsx',\n",
       " '2007_SO2_1g.xlsx',\n",
       " '2015_Ni(PM10)_24g.xlsx',\n",
       " '2007_PM10_24g.xlsx',\n",
       " '2006_C6H6_1g.xlsx',\n",
       " '2011_C6H6_1g.xlsx',\n",
       " '2010_DBahA(PM10)_24g.xlsx',\n",
       " '2007_NO2_24g.xlsx',\n",
       " '2002_O3_1g.xlsx',\n",
       " '2000_NOx_1g.xlsx',\n",
       " '2015_As(PM10)_24g.xlsx',\n",
       " '2008_C6H6_24g.xlsx',\n",
       " '2008_BbF(PM10)_24g.xlsx',\n",
       " '2011_Na+(PM2.5)_24g.xlsx',\n",
       " '2007_CO_1g.xlsx',\n",
       " '2015_SO2_24g.xlsx',\n",
       " '2015_BaA(PM10)_24g.xlsx',\n",
       " '2014_Pb(PM10)_24g.xlsx',\n",
       " '2013_Mg2+(PM2.5)_24g.xlsx',\n",
       " '2010_NOx_1g.xlsx',\n",
       " '2011_PM10_1g.xlsx',\n",
       " '2003_PM2.5_24g.xlsx',\n",
       " '2008_IP(PM10)_24g.xlsx',\n",
       " '2001_C6H6_24g.xlsx',\n",
       " '2013_NO2_24g.xlsx',\n",
       " '2010_PM2.5_24g.xlsx',\n",
       " '2015_PM10_24g.xlsx',\n",
       " '2008_C6H6_1g.xlsx',\n",
       " '2012_SO2_24g.xlsx',\n",
       " '2005_PM10_24g.xlsx',\n",
       " '2014_O3_1g.xlsx',\n",
       " '2012_Ni(PM10)_24g.xlsx']"
      ]
     },
     "execution_count": 62,
     "metadata": {},
     "output_type": "execute_result"
    }
   ],
   "source": [
    "[ basename(wholeFilename) for wholeFilename in glob.glob(\"../input/2*.xlsx\") ]\n"
   ]
  },
  {
   "cell_type": "code",
   "execution_count": 55,
   "metadata": {
    "collapsed": false
   },
   "outputs": [
    {
     "ename": "AttributeError",
     "evalue": "'list' object has no attribute 'split'",
     "output_type": "error",
     "traceback": [
      "\u001b[0;31m---------------------------------------------------------------------------\u001b[0m",
      "\u001b[0;31mAttributeError\u001b[0m                            Traceback (most recent call last)",
      "\u001b[0;32m<ipython-input-55-d8da3f47fc98>\u001b[0m in \u001b[0;36m<module>\u001b[0;34m()\u001b[0m\n\u001b[0;32m----> 1\u001b[0;31m \u001b[0;34m[\u001b[0m\u001b[0;34m\"asdfasdf\"\u001b[0m\u001b[0;34m,\u001b[0m \u001b[0;34m\"asdfa\"\u001b[0m\u001b[0;34m,\u001b[0m \u001b[0;34m\"asdf\"\u001b[0m\u001b[0;34m]\u001b[0m\u001b[0;34m.\u001b[0m\u001b[0msplit\u001b[0m\u001b[0;34m(\u001b[0m\u001b[0;34m)\u001b[0m\u001b[0;34m\u001b[0m\u001b[0m\n\u001b[0m",
      "\u001b[0;31mAttributeError\u001b[0m: 'list' object has no attribute 'split'"
     ]
    }
   ],
   "source": [
    "[\"asdfasdf\", \"asdfa\", \"asdf\"]"
   ]
  },
  {
   "cell_type": "code",
   "execution_count": null,
   "metadata": {
    "collapsed": true
   },
   "outputs": [],
   "source": [
    "list."
   ]
  }
 ],
 "metadata": {
  "kernelspec": {
   "display_name": "Python 2",
   "language": "python",
   "name": "python2"
  },
  "language_info": {
   "codemirror_mode": {
    "name": "ipython",
    "version": 2
   },
   "file_extension": ".py",
   "mimetype": "text/x-python",
   "name": "python",
   "nbconvert_exporter": "python",
   "pygments_lexer": "ipython2",
   "version": "2.7.3"
  }
 },
 "nbformat": 4,
 "nbformat_minor": 1
}
