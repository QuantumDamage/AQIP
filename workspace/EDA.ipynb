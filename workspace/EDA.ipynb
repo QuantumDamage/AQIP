{
 "cells": [
  {
   "cell_type": "markdown",
   "metadata": {},
   "source": [
    "## Envinroment preparation"
   ]
  },
  {
   "cell_type": "markdown",
   "metadata": {
    "collapsed": true
   },
   "source": [
    "First line if **magic** enabling matplotlib inline plots "
   ]
  },
  {
   "cell_type": "code",
   "execution_count": 1,
   "metadata": {
    "collapsed": true
   },
   "outputs": [],
   "source": [
    "%matplotlib inline"
   ]
  },
  {
   "cell_type": "markdown",
   "metadata": {},
   "source": [
    "Then we have round of inports:\n",
    "* **pandas** is our main data storage module\n",
    "* **glob** and **os** are used for filename manipulations"
   ]
  },
  {
   "cell_type": "code",
   "execution_count": 2,
   "metadata": {
    "collapsed": true
   },
   "outputs": [],
   "source": [
    "import pandas as pd\n",
    "import glob\n",
    "import os"
   ]
  },
  {
   "cell_type": "markdown",
   "metadata": {},
   "source": [
    "## Files index and identification"
   ]
  },
  {
   "cell_type": "code",
   "execution_count": 3,
   "metadata": {
    "collapsed": false
   },
   "outputs": [],
   "source": [
    "filenames = [ os.path.splitext(wholeFilename)[0] for wholeFilename in \n",
    "             [ os.path.basename(wholePath) for wholePath in glob.glob(\"../input/2*.xlsx\") ] ]"
   ]
  },
  {
   "cell_type": "code",
   "execution_count": 4,
   "metadata": {
    "collapsed": false
   },
   "outputs": [],
   "source": [
    "dataFiles = pd.DataFrame({\"filename\": filenames})\n",
    "dataFiles[\"year\"], dataFiles[\"pollutant\"], dataFiles[\"resolution\"] = dataFiles[\"filename\"].str.split('_', 2).str"
   ]
  },
  {
   "cell_type": "code",
   "execution_count": 5,
   "metadata": {
    "collapsed": false
   },
   "outputs": [
    {
     "data": {
      "text/html": [
       "<div>\n",
       "<table border=\"1\" class=\"dataframe\">\n",
       "  <thead>\n",
       "    <tr style=\"text-align: right;\">\n",
       "      <th></th>\n",
       "      <th>filename</th>\n",
       "      <th>year</th>\n",
       "      <th>pollutant</th>\n",
       "      <th>resolution</th>\n",
       "    </tr>\n",
       "  </thead>\n",
       "  <tbody>\n",
       "    <tr>\n",
       "      <th>0</th>\n",
       "      <td>2010_Pb(PM10)_24g</td>\n",
       "      <td>2010</td>\n",
       "      <td>Pb(PM10)</td>\n",
       "      <td>24g</td>\n",
       "    </tr>\n",
       "    <tr>\n",
       "      <th>1</th>\n",
       "      <td>2007_As(PM10)_24g</td>\n",
       "      <td>2007</td>\n",
       "      <td>As(PM10)</td>\n",
       "      <td>24g</td>\n",
       "    </tr>\n",
       "    <tr>\n",
       "      <th>2</th>\n",
       "      <td>2005_PM2.5_24g</td>\n",
       "      <td>2005</td>\n",
       "      <td>PM2.5</td>\n",
       "      <td>24g</td>\n",
       "    </tr>\n",
       "    <tr>\n",
       "      <th>3</th>\n",
       "      <td>2009_PM2.5_1g</td>\n",
       "      <td>2009</td>\n",
       "      <td>PM2.5</td>\n",
       "      <td>1g</td>\n",
       "    </tr>\n",
       "    <tr>\n",
       "      <th>4</th>\n",
       "      <td>2011_NH4+(PM2.5)_24g</td>\n",
       "      <td>2011</td>\n",
       "      <td>NH4+(PM2.5)</td>\n",
       "      <td>24g</td>\n",
       "    </tr>\n",
       "  </tbody>\n",
       "</table>\n",
       "</div>"
      ],
      "text/plain": [
       "               filename  year    pollutant resolution\n",
       "0     2010_Pb(PM10)_24g  2010     Pb(PM10)        24g\n",
       "1     2007_As(PM10)_24g  2007     As(PM10)        24g\n",
       "2        2005_PM2.5_24g  2005        PM2.5        24g\n",
       "3         2009_PM2.5_1g  2009        PM2.5         1g\n",
       "4  2011_NH4+(PM2.5)_24g  2011  NH4+(PM2.5)        24g"
      ]
     },
     "execution_count": 5,
     "metadata": {},
     "output_type": "execute_result"
    }
   ],
   "source": [
    "dataFiles.head()"
   ]
  },
  {
   "cell_type": "code",
   "execution_count": 6,
   "metadata": {
    "collapsed": false
   },
   "outputs": [
    {
     "data": {
      "text/plain": [
       "2012    35\n",
       "2011    35\n",
       "2014    35\n",
       "2013    34\n",
       "2015    29\n",
       "2010    25\n",
       "2009    24\n",
       "2008    24\n",
       "2007    18\n",
       "2006    18\n",
       "2005    17\n",
       "2004    17\n",
       "2003    17\n",
       "2002    14\n",
       "2001    11\n",
       "2000     6\n",
       "Name: year, dtype: int64"
      ]
     },
     "execution_count": 6,
     "metadata": {},
     "output_type": "execute_result"
    }
   ],
   "source": [
    "dataFiles[\"year\"].value_counts()"
   ]
  },
  {
   "cell_type": "code",
   "execution_count": 7,
   "metadata": {
    "collapsed": false
   },
   "outputs": [
    {
     "data": {
      "text/plain": [
       "NO2            32\n",
       "SO2            31\n",
       "PM10           29\n",
       "C6H6           28\n",
       "PM2.5          22\n",
       "O3             16\n",
       "NOx            16\n",
       "Cd(PM10)       15\n",
       "Ni(PM10)       15\n",
       "BaP(PM10)      15\n",
       "Pb(PM10)       14\n",
       "As(PM10)       14\n",
       "CO             13\n",
       "IP(PM10)        8\n",
       "BjF(PM10)       8\n",
       "BbF(PM10)       8\n",
       "BkF(PM10)       8\n",
       "BaA(PM10)       8\n",
       "DBahA(PM10)     7\n",
       "formaldehyd     5\n",
       "Na+(PM2.5)      4\n",
       "NH4+(PM2.5)     4\n",
       "NO3-(PM2.5)     4\n",
       "Ca2+(PM2.5)     4\n",
       "OC(PM2.5)       4\n",
       "Mg2+(PM2.5)     4\n",
       "Cl              4\n",
       "EC(PM2.5)       4\n",
       "SO42            4\n",
       "K+(PM2.5)       4\n",
       "PM25            2\n",
       "Hg(TGM)         2\n",
       "DBah(PM10)      1\n",
       "depozycja       1\n",
       "Jony            1\n",
       "Name: pollutant, dtype: int64"
      ]
     },
     "execution_count": 7,
     "metadata": {},
     "output_type": "execute_result"
    }
   ],
   "source": [
    "dataFiles[\"pollutant\"].value_counts()"
   ]
  },
  {
   "cell_type": "code",
   "execution_count": 8,
   "metadata": {
    "collapsed": false
   },
   "outputs": [
    {
     "data": {
      "text/plain": [
       "24g            236\n",
       "1g             113\n",
       "(PM2.5)-24g      4\n",
       "(PM2.5)_24g      4\n",
       "w_PM25_24g       1\n",
       "Name: resolution, dtype: int64"
      ]
     },
     "execution_count": 8,
     "metadata": {},
     "output_type": "execute_result"
    }
   ],
   "source": [
    "dataFiles[\"resolution\"].value_counts()"
   ]
  },
  {
   "cell_type": "markdown",
   "metadata": {},
   "source": [
    "## Fixing data files identification"
   ]
  },
  {
   "cell_type": "code",
   "execution_count": 9,
   "metadata": {
    "collapsed": false
   },
   "outputs": [
    {
     "data": {
      "text/html": [
       "<div>\n",
       "<table border=\"1\" class=\"dataframe\">\n",
       "  <thead>\n",
       "    <tr style=\"text-align: right;\">\n",
       "      <th></th>\n",
       "      <th>filename</th>\n",
       "      <th>year</th>\n",
       "      <th>pollutant</th>\n",
       "      <th>resolution</th>\n",
       "    </tr>\n",
       "  </thead>\n",
       "  <tbody>\n",
       "    <tr>\n",
       "      <th>115</th>\n",
       "      <td>2013_Cl_(PM2.5)-24g</td>\n",
       "      <td>2013</td>\n",
       "      <td>Cl</td>\n",
       "      <td>(PM2.5)-24g</td>\n",
       "    </tr>\n",
       "    <tr>\n",
       "      <th>192</th>\n",
       "      <td>2014_Cl_(PM2.5)-24g</td>\n",
       "      <td>2014</td>\n",
       "      <td>Cl</td>\n",
       "      <td>(PM2.5)-24g</td>\n",
       "    </tr>\n",
       "    <tr>\n",
       "      <th>300</th>\n",
       "      <td>2011_Cl_(PM2.5)-24g</td>\n",
       "      <td>2011</td>\n",
       "      <td>Cl</td>\n",
       "      <td>(PM2.5)-24g</td>\n",
       "    </tr>\n",
       "    <tr>\n",
       "      <th>301</th>\n",
       "      <td>2012_Cl_(PM2.5)-24g</td>\n",
       "      <td>2012</td>\n",
       "      <td>Cl</td>\n",
       "      <td>(PM2.5)-24g</td>\n",
       "    </tr>\n",
       "  </tbody>\n",
       "</table>\n",
       "</div>"
      ],
      "text/plain": [
       "                filename  year pollutant   resolution\n",
       "115  2013_Cl_(PM2.5)-24g  2013        Cl  (PM2.5)-24g\n",
       "192  2014_Cl_(PM2.5)-24g  2014        Cl  (PM2.5)-24g\n",
       "300  2011_Cl_(PM2.5)-24g  2011        Cl  (PM2.5)-24g\n",
       "301  2012_Cl_(PM2.5)-24g  2012        Cl  (PM2.5)-24g"
      ]
     },
     "execution_count": 9,
     "metadata": {},
     "output_type": "execute_result"
    }
   ],
   "source": [
    "dataFiles[dataFiles[\"resolution\"] == \"(PM2.5)-24g\"]"
   ]
  },
  {
   "cell_type": "code",
   "execution_count": 10,
   "metadata": {
    "collapsed": false
   },
   "outputs": [],
   "source": [
    "dataFiles.ix[dataFiles[\"resolution\"] == \"(PM2.5)-24g\", 'pollutant'] = \"Cl_(PM2.5)\"\n",
    "dataFiles.ix[dataFiles[\"resolution\"] == \"(PM2.5)-24g\", 'resolution'] = \"24g\""
   ]
  },
  {
   "cell_type": "code",
   "execution_count": 11,
   "metadata": {
    "collapsed": false
   },
   "outputs": [
    {
     "data": {
      "text/html": [
       "<div>\n",
       "<table border=\"1\" class=\"dataframe\">\n",
       "  <thead>\n",
       "    <tr style=\"text-align: right;\">\n",
       "      <th></th>\n",
       "      <th>filename</th>\n",
       "      <th>year</th>\n",
       "      <th>pollutant</th>\n",
       "      <th>resolution</th>\n",
       "    </tr>\n",
       "  </thead>\n",
       "  <tbody>\n",
       "    <tr>\n",
       "      <th>115</th>\n",
       "      <td>2013_Cl_(PM2.5)-24g</td>\n",
       "      <td>2013</td>\n",
       "      <td>Cl_(PM2.5)</td>\n",
       "      <td>24g</td>\n",
       "    </tr>\n",
       "    <tr>\n",
       "      <th>192</th>\n",
       "      <td>2014_Cl_(PM2.5)-24g</td>\n",
       "      <td>2014</td>\n",
       "      <td>Cl_(PM2.5)</td>\n",
       "      <td>24g</td>\n",
       "    </tr>\n",
       "    <tr>\n",
       "      <th>300</th>\n",
       "      <td>2011_Cl_(PM2.5)-24g</td>\n",
       "      <td>2011</td>\n",
       "      <td>Cl_(PM2.5)</td>\n",
       "      <td>24g</td>\n",
       "    </tr>\n",
       "    <tr>\n",
       "      <th>301</th>\n",
       "      <td>2012_Cl_(PM2.5)-24g</td>\n",
       "      <td>2012</td>\n",
       "      <td>Cl_(PM2.5)</td>\n",
       "      <td>24g</td>\n",
       "    </tr>\n",
       "  </tbody>\n",
       "</table>\n",
       "</div>"
      ],
      "text/plain": [
       "                filename  year   pollutant resolution\n",
       "115  2013_Cl_(PM2.5)-24g  2013  Cl_(PM2.5)        24g\n",
       "192  2014_Cl_(PM2.5)-24g  2014  Cl_(PM2.5)        24g\n",
       "300  2011_Cl_(PM2.5)-24g  2011  Cl_(PM2.5)        24g\n",
       "301  2012_Cl_(PM2.5)-24g  2012  Cl_(PM2.5)        24g"
      ]
     },
     "execution_count": 11,
     "metadata": {},
     "output_type": "execute_result"
    }
   ],
   "source": [
    "dataFiles[dataFiles[\"pollutant\"] == \"Cl_(PM2.5)\"]"
   ]
  },
  {
   "cell_type": "code",
   "execution_count": 12,
   "metadata": {
    "collapsed": false
   },
   "outputs": [
    {
     "data": {
      "text/html": [
       "<div>\n",
       "<table border=\"1\" class=\"dataframe\">\n",
       "  <thead>\n",
       "    <tr style=\"text-align: right;\">\n",
       "      <th></th>\n",
       "      <th>filename</th>\n",
       "      <th>year</th>\n",
       "      <th>pollutant</th>\n",
       "      <th>resolution</th>\n",
       "    </tr>\n",
       "  </thead>\n",
       "  <tbody>\n",
       "    <tr>\n",
       "      <th>39</th>\n",
       "      <td>2014_SO42_(PM2.5)_24g</td>\n",
       "      <td>2014</td>\n",
       "      <td>SO42</td>\n",
       "      <td>(PM2.5)_24g</td>\n",
       "    </tr>\n",
       "    <tr>\n",
       "      <th>186</th>\n",
       "      <td>2013_SO42_(PM2.5)_24g</td>\n",
       "      <td>2013</td>\n",
       "      <td>SO42</td>\n",
       "      <td>(PM2.5)_24g</td>\n",
       "    </tr>\n",
       "    <tr>\n",
       "      <th>191</th>\n",
       "      <td>2011_SO42_(PM2.5)_24g</td>\n",
       "      <td>2011</td>\n",
       "      <td>SO42</td>\n",
       "      <td>(PM2.5)_24g</td>\n",
       "    </tr>\n",
       "    <tr>\n",
       "      <th>292</th>\n",
       "      <td>2012_SO42_(PM2.5)_24g</td>\n",
       "      <td>2012</td>\n",
       "      <td>SO42</td>\n",
       "      <td>(PM2.5)_24g</td>\n",
       "    </tr>\n",
       "  </tbody>\n",
       "</table>\n",
       "</div>"
      ],
      "text/plain": [
       "                  filename  year pollutant   resolution\n",
       "39   2014_SO42_(PM2.5)_24g  2014      SO42  (PM2.5)_24g\n",
       "186  2013_SO42_(PM2.5)_24g  2013      SO42  (PM2.5)_24g\n",
       "191  2011_SO42_(PM2.5)_24g  2011      SO42  (PM2.5)_24g\n",
       "292  2012_SO42_(PM2.5)_24g  2012      SO42  (PM2.5)_24g"
      ]
     },
     "execution_count": 12,
     "metadata": {},
     "output_type": "execute_result"
    }
   ],
   "source": [
    "dataFiles[dataFiles[\"resolution\"] == \"(PM2.5)_24g\"]"
   ]
  },
  {
   "cell_type": "code",
   "execution_count": 13,
   "metadata": {
    "collapsed": true
   },
   "outputs": [],
   "source": [
    "dataFiles.ix[dataFiles[\"resolution\"] == \"(PM2.5)_24g\", 'pollutant'] = \"SO42_(PM2.5)\"\n",
    "dataFiles.ix[dataFiles[\"resolution\"] == \"(PM2.5)_24g\", 'resolution'] = \"24g\""
   ]
  },
  {
   "cell_type": "code",
   "execution_count": 14,
   "metadata": {
    "collapsed": false
   },
   "outputs": [
    {
     "data": {
      "text/html": [
       "<div>\n",
       "<table border=\"1\" class=\"dataframe\">\n",
       "  <thead>\n",
       "    <tr style=\"text-align: right;\">\n",
       "      <th></th>\n",
       "      <th>filename</th>\n",
       "      <th>year</th>\n",
       "      <th>pollutant</th>\n",
       "      <th>resolution</th>\n",
       "    </tr>\n",
       "  </thead>\n",
       "  <tbody>\n",
       "    <tr>\n",
       "      <th>39</th>\n",
       "      <td>2014_SO42_(PM2.5)_24g</td>\n",
       "      <td>2014</td>\n",
       "      <td>SO42_(PM2.5)</td>\n",
       "      <td>24g</td>\n",
       "    </tr>\n",
       "    <tr>\n",
       "      <th>186</th>\n",
       "      <td>2013_SO42_(PM2.5)_24g</td>\n",
       "      <td>2013</td>\n",
       "      <td>SO42_(PM2.5)</td>\n",
       "      <td>24g</td>\n",
       "    </tr>\n",
       "    <tr>\n",
       "      <th>191</th>\n",
       "      <td>2011_SO42_(PM2.5)_24g</td>\n",
       "      <td>2011</td>\n",
       "      <td>SO42_(PM2.5)</td>\n",
       "      <td>24g</td>\n",
       "    </tr>\n",
       "    <tr>\n",
       "      <th>292</th>\n",
       "      <td>2012_SO42_(PM2.5)_24g</td>\n",
       "      <td>2012</td>\n",
       "      <td>SO42_(PM2.5)</td>\n",
       "      <td>24g</td>\n",
       "    </tr>\n",
       "  </tbody>\n",
       "</table>\n",
       "</div>"
      ],
      "text/plain": [
       "                  filename  year     pollutant resolution\n",
       "39   2014_SO42_(PM2.5)_24g  2014  SO42_(PM2.5)        24g\n",
       "186  2013_SO42_(PM2.5)_24g  2013  SO42_(PM2.5)        24g\n",
       "191  2011_SO42_(PM2.5)_24g  2011  SO42_(PM2.5)        24g\n",
       "292  2012_SO42_(PM2.5)_24g  2012  SO42_(PM2.5)        24g"
      ]
     },
     "execution_count": 14,
     "metadata": {},
     "output_type": "execute_result"
    }
   ],
   "source": [
    "dataFiles[dataFiles[\"pollutant\"] == \"SO42_(PM2.5)\"]"
   ]
  },
  {
   "cell_type": "code",
   "execution_count": 15,
   "metadata": {
    "collapsed": false
   },
   "outputs": [
    {
     "data": {
      "text/html": [
       "<div>\n",
       "<table border=\"1\" class=\"dataframe\">\n",
       "  <thead>\n",
       "    <tr style=\"text-align: right;\">\n",
       "      <th></th>\n",
       "      <th>filename</th>\n",
       "      <th>year</th>\n",
       "      <th>pollutant</th>\n",
       "      <th>resolution</th>\n",
       "    </tr>\n",
       "  </thead>\n",
       "  <tbody>\n",
       "    <tr>\n",
       "      <th>129</th>\n",
       "      <td>2015_Jony_w_PM25_24g</td>\n",
       "      <td>2015</td>\n",
       "      <td>Jony</td>\n",
       "      <td>w_PM25_24g</td>\n",
       "    </tr>\n",
       "  </tbody>\n",
       "</table>\n",
       "</div>"
      ],
      "text/plain": [
       "                 filename  year pollutant  resolution\n",
       "129  2015_Jony_w_PM25_24g  2015      Jony  w_PM25_24g"
      ]
     },
     "execution_count": 15,
     "metadata": {},
     "output_type": "execute_result"
    }
   ],
   "source": [
    "dataFiles[dataFiles[\"resolution\"] == \"w_PM25_24g\"]"
   ]
  },
  {
   "cell_type": "code",
   "execution_count": 16,
   "metadata": {
    "collapsed": true
   },
   "outputs": [],
   "source": [
    "dataFiles.ix[dataFiles[\"resolution\"] == \"w_PM25_24g\", 'pollutant'] = \"Jony_w_PM25\"\n",
    "dataFiles.ix[dataFiles[\"resolution\"] == \"w_PM25_24g\", 'resolution'] = \"24g\""
   ]
  },
  {
   "cell_type": "code",
   "execution_count": 17,
   "metadata": {
    "collapsed": false
   },
   "outputs": [
    {
     "data": {
      "text/html": [
       "<div>\n",
       "<table border=\"1\" class=\"dataframe\">\n",
       "  <thead>\n",
       "    <tr style=\"text-align: right;\">\n",
       "      <th></th>\n",
       "      <th>filename</th>\n",
       "      <th>year</th>\n",
       "      <th>pollutant</th>\n",
       "      <th>resolution</th>\n",
       "    </tr>\n",
       "  </thead>\n",
       "  <tbody>\n",
       "    <tr>\n",
       "      <th>129</th>\n",
       "      <td>2015_Jony_w_PM25_24g</td>\n",
       "      <td>2015</td>\n",
       "      <td>Jony_w_PM25</td>\n",
       "      <td>24g</td>\n",
       "    </tr>\n",
       "  </tbody>\n",
       "</table>\n",
       "</div>"
      ],
      "text/plain": [
       "                 filename  year    pollutant resolution\n",
       "129  2015_Jony_w_PM25_24g  2015  Jony_w_PM25        24g"
      ]
     },
     "execution_count": 17,
     "metadata": {},
     "output_type": "execute_result"
    }
   ],
   "source": [
    "dataFiles[dataFiles[\"pollutant\"] == \"Jony_w_PM25\"]"
   ]
  },
  {
   "cell_type": "markdown",
   "metadata": {},
   "source": [
    "Now **resolution** column should be correct:"
   ]
  },
  {
   "cell_type": "code",
   "execution_count": 18,
   "metadata": {
    "collapsed": false
   },
   "outputs": [
    {
     "data": {
      "text/plain": [
       "24g    245\n",
       "1g     113\n",
       "Name: resolution, dtype: int64"
      ]
     },
     "execution_count": 18,
     "metadata": {},
     "output_type": "execute_result"
    }
   ],
   "source": [
    "dataFiles[\"resolution\"].value_counts()"
   ]
  },
  {
   "cell_type": "code",
   "execution_count": 19,
   "metadata": {
    "collapsed": false
   },
   "outputs": [
    {
     "data": {
      "text/html": [
       "<div>\n",
       "<table border=\"1\" class=\"dataframe\">\n",
       "  <thead>\n",
       "    <tr style=\"text-align: right;\">\n",
       "      <th></th>\n",
       "      <th>filename</th>\n",
       "      <th>year</th>\n",
       "      <th>pollutant</th>\n",
       "      <th>resolution</th>\n",
       "    </tr>\n",
       "  </thead>\n",
       "  <tbody>\n",
       "    <tr>\n",
       "      <th>count</th>\n",
       "      <td>359</td>\n",
       "      <td>359</td>\n",
       "      <td>359</td>\n",
       "      <td>358</td>\n",
       "    </tr>\n",
       "    <tr>\n",
       "      <th>unique</th>\n",
       "      <td>359</td>\n",
       "      <td>16</td>\n",
       "      <td>35</td>\n",
       "      <td>2</td>\n",
       "    </tr>\n",
       "    <tr>\n",
       "      <th>top</th>\n",
       "      <td>2012_NO2_24g</td>\n",
       "      <td>2012</td>\n",
       "      <td>NO2</td>\n",
       "      <td>24g</td>\n",
       "    </tr>\n",
       "    <tr>\n",
       "      <th>freq</th>\n",
       "      <td>1</td>\n",
       "      <td>35</td>\n",
       "      <td>32</td>\n",
       "      <td>245</td>\n",
       "    </tr>\n",
       "  </tbody>\n",
       "</table>\n",
       "</div>"
      ],
      "text/plain": [
       "            filename  year pollutant resolution\n",
       "count            359   359       359        358\n",
       "unique           359    16        35          2\n",
       "top     2012_NO2_24g  2012       NO2        24g\n",
       "freq               1    35        32        245"
      ]
     },
     "execution_count": 19,
     "metadata": {},
     "output_type": "execute_result"
    }
   ],
   "source": [
    "dataFiles.describe()"
   ]
  },
  {
   "cell_type": "markdown",
   "metadata": {},
   "source": [
    "There is still one empty cell in **resolution** column. Lets identify it:"
   ]
  },
  {
   "cell_type": "code",
   "execution_count": 20,
   "metadata": {
    "collapsed": false
   },
   "outputs": [
    {
     "data": {
      "text/html": [
       "<div>\n",
       "<table border=\"1\" class=\"dataframe\">\n",
       "  <thead>\n",
       "    <tr style=\"text-align: right;\">\n",
       "      <th></th>\n",
       "      <th>filename</th>\n",
       "      <th>year</th>\n",
       "      <th>pollutant</th>\n",
       "      <th>resolution</th>\n",
       "    </tr>\n",
       "  </thead>\n",
       "  <tbody>\n",
       "    <tr>\n",
       "      <th>312</th>\n",
       "      <td>2015_depozycja</td>\n",
       "      <td>2015</td>\n",
       "      <td>depozycja</td>\n",
       "      <td>NaN</td>\n",
       "    </tr>\n",
       "  </tbody>\n",
       "</table>\n",
       "</div>"
      ],
      "text/plain": [
       "           filename  year  pollutant resolution\n",
       "312  2015_depozycja  2015  depozycja        NaN"
      ]
     },
     "execution_count": 20,
     "metadata": {},
     "output_type": "execute_result"
    }
   ],
   "source": [
    "dataFiles[dataFiles[\"resolution\"].isnull()]"
   ]
  },
  {
   "cell_type": "markdown",
   "metadata": {},
   "source": [
    "After manually examinign **2015_depozycja** file I found that it cointains new type of data, which will be useless in planned analysis. I decided to remove it from working memory. "
   ]
  },
  {
   "cell_type": "code",
   "execution_count": 21,
   "metadata": {
    "collapsed": false
   },
   "outputs": [],
   "source": [
    "dataFiles.drop(dataFiles[dataFiles[\"filename\"] == \"2015_depozycja\"].index, inplace=True)"
   ]
  },
  {
   "cell_type": "code",
   "execution_count": 22,
   "metadata": {
    "collapsed": false
   },
   "outputs": [
    {
     "data": {
      "text/html": [
       "<div>\n",
       "<table border=\"1\" class=\"dataframe\">\n",
       "  <thead>\n",
       "    <tr style=\"text-align: right;\">\n",
       "      <th></th>\n",
       "      <th>filename</th>\n",
       "      <th>year</th>\n",
       "      <th>pollutant</th>\n",
       "      <th>resolution</th>\n",
       "    </tr>\n",
       "  </thead>\n",
       "  <tbody>\n",
       "    <tr>\n",
       "      <th>count</th>\n",
       "      <td>358</td>\n",
       "      <td>358</td>\n",
       "      <td>358</td>\n",
       "      <td>358</td>\n",
       "    </tr>\n",
       "    <tr>\n",
       "      <th>unique</th>\n",
       "      <td>358</td>\n",
       "      <td>16</td>\n",
       "      <td>34</td>\n",
       "      <td>2</td>\n",
       "    </tr>\n",
       "    <tr>\n",
       "      <th>top</th>\n",
       "      <td>2012_NO2_24g</td>\n",
       "      <td>2012</td>\n",
       "      <td>NO2</td>\n",
       "      <td>24g</td>\n",
       "    </tr>\n",
       "    <tr>\n",
       "      <th>freq</th>\n",
       "      <td>1</td>\n",
       "      <td>35</td>\n",
       "      <td>32</td>\n",
       "      <td>245</td>\n",
       "    </tr>\n",
       "  </tbody>\n",
       "</table>\n",
       "</div>"
      ],
      "text/plain": [
       "            filename  year pollutant resolution\n",
       "count            358   358       358        358\n",
       "unique           358    16        34          2\n",
       "top     2012_NO2_24g  2012       NO2        24g\n",
       "freq               1    35        32        245"
      ]
     },
     "execution_count": 22,
     "metadata": {},
     "output_type": "execute_result"
    }
   ],
   "source": [
    "dataFiles.describe()"
   ]
  },
  {
   "cell_type": "markdown",
   "metadata": {},
   "source": [
    "## Looking for worst measuring station for each pollutant in 2015"
   ]
  },
  {
   "cell_type": "code",
   "execution_count": 23,
   "metadata": {
    "collapsed": false
   },
   "outputs": [],
   "source": [
    "importantPollutants = [\"PM10\", \"PM25\", \"O3\", \"NO2\", \"SO2\", \"C6H6\", \"CO\"]\n",
    "pollutants2015 = dataFiles[(dataFiles[\"year\"] == \"2015\") & (dataFiles[\"resolution\"] == \"1g\") & \n",
    "                           (dataFiles[\"pollutant\"].isin(importantPollutants))]"
   ]
  },
  {
   "cell_type": "code",
   "execution_count": 24,
   "metadata": {
    "collapsed": false
   },
   "outputs": [
    {
     "data": {
      "text/html": [
       "<div>\n",
       "<table border=\"1\" class=\"dataframe\">\n",
       "  <thead>\n",
       "    <tr style=\"text-align: right;\">\n",
       "      <th></th>\n",
       "      <th>filename</th>\n",
       "      <th>year</th>\n",
       "      <th>pollutant</th>\n",
       "      <th>resolution</th>\n",
       "    </tr>\n",
       "  </thead>\n",
       "  <tbody>\n",
       "    <tr>\n",
       "      <th>14</th>\n",
       "      <td>2015_NO2_1g</td>\n",
       "      <td>2015</td>\n",
       "      <td>NO2</td>\n",
       "      <td>1g</td>\n",
       "    </tr>\n",
       "    <tr>\n",
       "      <th>106</th>\n",
       "      <td>2015_CO_1g</td>\n",
       "      <td>2015</td>\n",
       "      <td>CO</td>\n",
       "      <td>1g</td>\n",
       "    </tr>\n",
       "    <tr>\n",
       "      <th>138</th>\n",
       "      <td>2015_SO2_1g</td>\n",
       "      <td>2015</td>\n",
       "      <td>SO2</td>\n",
       "      <td>1g</td>\n",
       "    </tr>\n",
       "    <tr>\n",
       "      <th>141</th>\n",
       "      <td>2015_O3_1g</td>\n",
       "      <td>2015</td>\n",
       "      <td>O3</td>\n",
       "      <td>1g</td>\n",
       "    </tr>\n",
       "    <tr>\n",
       "      <th>207</th>\n",
       "      <td>2015_C6H6_1g</td>\n",
       "      <td>2015</td>\n",
       "      <td>C6H6</td>\n",
       "      <td>1g</td>\n",
       "    </tr>\n",
       "    <tr>\n",
       "      <th>310</th>\n",
       "      <td>2015_PM10_1g</td>\n",
       "      <td>2015</td>\n",
       "      <td>PM10</td>\n",
       "      <td>1g</td>\n",
       "    </tr>\n",
       "    <tr>\n",
       "      <th>326</th>\n",
       "      <td>2015_PM25_1g</td>\n",
       "      <td>2015</td>\n",
       "      <td>PM25</td>\n",
       "      <td>1g</td>\n",
       "    </tr>\n",
       "  </tbody>\n",
       "</table>\n",
       "</div>"
      ],
      "text/plain": [
       "         filename  year pollutant resolution\n",
       "14    2015_NO2_1g  2015       NO2         1g\n",
       "106    2015_CO_1g  2015        CO         1g\n",
       "138   2015_SO2_1g  2015       SO2         1g\n",
       "141    2015_O3_1g  2015        O3         1g\n",
       "207  2015_C6H6_1g  2015      C6H6         1g\n",
       "310  2015_PM10_1g  2015      PM10         1g\n",
       "326  2015_PM25_1g  2015      PM25         1g"
      ]
     },
     "execution_count": 24,
     "metadata": {},
     "output_type": "execute_result"
    }
   ],
   "source": [
    "pollutants2015"
   ]
  },
  {
   "cell_type": "code",
   "execution_count": 25,
   "metadata": {
    "collapsed": true
   },
   "outputs": [],
   "source": [
    "from tqdm import tqdm"
   ]
  },
  {
   "cell_type": "code",
   "execution_count": 26,
   "metadata": {
    "collapsed": true
   },
   "outputs": [],
   "source": [
    "from collections import Counter"
   ]
  },
  {
   "cell_type": "code",
   "execution_count": 27,
   "metadata": {
    "collapsed": false
   },
   "outputs": [
    {
     "name": "stderr",
     "output_type": "stream",
     "text": [
      "100%|██████████| 7/7 [02:38<00:00, 19.66s/it]\n"
     ]
    }
   ],
   "source": [
    "worstStation = {}\n",
    "for index, dataRow in tqdm(pollutants2015.iterrows(), total=len(pollutants2015.index)):\n",
    "    dataFromFile = pd.read_excel(\"../input/\" + dataRow[\"filename\"] + \".xlsx\", skiprows=[1,2])\n",
    "    dataFromFile = dataFromFile.rename(columns={\"Kod stacji\":\"Godzina\"})\n",
    "    dataFromFile = dataFromFile.set_index(\"Godzina\")\n",
    "    worstStation[dataRow[\"pollutant\"]] = dataFromFile.max().sort_values(ascending = False).index[0]"
   ]
  },
  {
   "cell_type": "code",
   "execution_count": 28,
   "metadata": {
    "collapsed": false
   },
   "outputs": [
    {
     "data": {
      "text/plain": [
       "Counter({u'LuZarySzyman': 1,\n",
       "         u'MzLegZegrzyn': 1,\n",
       "         u'MzPlocKroJad': 1,\n",
       "         u'OpKKozBSmial': 1,\n",
       "         u'PmStaGdaLubi': 1,\n",
       "         u'SlRybniBorki': 2})"
      ]
     },
     "execution_count": 28,
     "metadata": {},
     "output_type": "execute_result"
    }
   ],
   "source": [
    "Counter(worstStation.values())"
   ]
  },
  {
   "cell_type": "code",
   "execution_count": null,
   "metadata": {
    "collapsed": false
   },
   "outputs": [],
   "source": [
    "dane = pd.read_excel(\"../input/2000_O3_1g.xlsx\", skiprows=[1,2])"
   ]
  },
  {
   "cell_type": "code",
   "execution_count": null,
   "metadata": {
    "collapsed": true
   },
   "outputs": [],
   "source": [
    "stacje = pd.read_excel(\"../input/Metadane_wer20160914.xlsx\")"
   ]
  },
  {
   "cell_type": "code",
   "execution_count": null,
   "metadata": {
    "collapsed": false
   },
   "outputs": [],
   "source": [
    "dane.head()"
   ]
  },
  {
   "cell_type": "code",
   "execution_count": null,
   "metadata": {
    "collapsed": false
   },
   "outputs": [],
   "source": [
    "dane = dane.rename(columns={\"Kod stacji\":\"Godzina\"})"
   ]
  },
  {
   "cell_type": "code",
   "execution_count": null,
   "metadata": {
    "collapsed": false
   },
   "outputs": [],
   "source": [
    "dane = dane.set_index(\"Godzina\")"
   ]
  },
  {
   "cell_type": "code",
   "execution_count": null,
   "metadata": {
    "collapsed": false
   },
   "outputs": [],
   "source": [
    "#dane.hist(figsize=(11, 8))"
   ]
  },
  {
   "cell_type": "code",
   "execution_count": null,
   "metadata": {
    "collapsed": false
   },
   "outputs": [],
   "source": [
    "dane.columns.shape"
   ]
  },
  {
   "cell_type": "code",
   "execution_count": null,
   "metadata": {
    "collapsed": false
   },
   "outputs": [],
   "source": [
    "nazywStacji = set(dane.columns.values)"
   ]
  },
  {
   "cell_type": "code",
   "execution_count": null,
   "metadata": {
    "collapsed": false
   },
   "outputs": [],
   "source": [
    "stacje = stacje.set_index(\"Nr\")"
   ]
  },
  {
   "cell_type": "code",
   "execution_count": null,
   "metadata": {
    "collapsed": false
   },
   "outputs": [],
   "source": [
    "stacje[(stacje[\"Stary Kod stacji\"]).isin(nazywStacji) | (stacje[\"Kod stacji\"]).isin(nazywStacji)]"
   ]
  },
  {
   "cell_type": "code",
   "execution_count": null,
   "metadata": {
    "collapsed": false
   },
   "outputs": [],
   "source": [
    "interesujaceStacje = stacje[(stacje[\"Stary Kod stacji\"]).isin(nazywStacji) | (stacje[\"Kod stacji\"]).isin(nazywStacji)]"
   ]
  },
  {
   "cell_type": "code",
   "execution_count": null,
   "metadata": {
    "collapsed": false
   },
   "outputs": [],
   "source": [
    "interesujaceStacje"
   ]
  },
  {
   "cell_type": "code",
   "execution_count": null,
   "metadata": {
    "collapsed": false
   },
   "outputs": [],
   "source": [
    "interesujaceStacje.shape"
   ]
  },
  {
   "cell_type": "code",
   "execution_count": null,
   "metadata": {
    "collapsed": false
   },
   "outputs": [],
   "source": [
    "interesujaceStacje[[u'WGS84 \\u03bb E',u'WGS84 \\u03c6 N']]"
   ]
  },
  {
   "cell_type": "code",
   "execution_count": null,
   "metadata": {
    "collapsed": false
   },
   "outputs": [],
   "source": [
    "wspolrzedne = interesujaceStacje[[u'WGS84 \\u03bb E',u'WGS84 \\u03c6 N']].values"
   ]
  },
  {
   "cell_type": "code",
   "execution_count": null,
   "metadata": {
    "collapsed": false
   },
   "outputs": [],
   "source": [
    "wspolrzedne[:,1]"
   ]
  },
  {
   "cell_type": "code",
   "execution_count": null,
   "metadata": {
    "collapsed": true
   },
   "outputs": [],
   "source": [
    "import matplotlib.pyplot as plt"
   ]
  },
  {
   "cell_type": "code",
   "execution_count": null,
   "metadata": {
    "collapsed": false
   },
   "outputs": [],
   "source": [
    "plt.scatter(wspolrzedne[:,0], wspolrzedne[:,1])"
   ]
  },
  {
   "cell_type": "code",
   "execution_count": null,
   "metadata": {
    "collapsed": false
   },
   "outputs": [],
   "source": [
    "import folium\n",
    "map_osm = folium.Map(location=[52.069167, 19.480556], zoom_start=6)"
   ]
  },
  {
   "cell_type": "code",
   "execution_count": null,
   "metadata": {
    "collapsed": false
   },
   "outputs": [],
   "source": [
    "map_osm"
   ]
  },
  {
   "cell_type": "code",
   "execution_count": null,
   "metadata": {
    "collapsed": false
   },
   "outputs": [],
   "source": [
    "interesujaceStacje.index"
   ]
  },
  {
   "cell_type": "code",
   "execution_count": null,
   "metadata": {
    "collapsed": false
   },
   "outputs": [],
   "source": [
    "for index, row in interesujaceStacje.iterrows():\n",
    "    print row['Nazwa stacji']\n",
    "    folium.Marker([row[u'WGS84 \\u03c6 N'], row[u'WGS84 \\u03bb E']], popup=row['Nazwa stacji']).add_to(map_osm)"
   ]
  },
  {
   "cell_type": "code",
   "execution_count": null,
   "metadata": {
    "collapsed": false
   },
   "outputs": [],
   "source": [
    "map_osm"
   ]
  },
  {
   "cell_type": "code",
   "execution_count": null,
   "metadata": {
    "collapsed": false
   },
   "outputs": [],
   "source": [
    "jeden_dzien = dane[dane.index == \"2000-06-12 08:00:00\"]"
   ]
  },
  {
   "cell_type": "code",
   "execution_count": null,
   "metadata": {
    "collapsed": false
   },
   "outputs": [],
   "source": [
    "do_interpolacji = pd.melt(jeden_dzien)"
   ]
  },
  {
   "cell_type": "code",
   "execution_count": null,
   "metadata": {
    "collapsed": false
   },
   "outputs": [],
   "source": [
    "do_interpolacji.rename(columns={\"variable\":\"Stary Kod stacji\"}, inplace=True)"
   ]
  },
  {
   "cell_type": "code",
   "execution_count": null,
   "metadata": {
    "collapsed": false
   },
   "outputs": [],
   "source": [
    "final = do_interpolacji.merge(interesujaceStacje[[u'WGS84 \\u03bb E',u'WGS84 \\u03c6 N', \"Stary Kod stacji\"]])"
   ]
  },
  {
   "cell_type": "code",
   "execution_count": null,
   "metadata": {
    "collapsed": false
   },
   "outputs": [],
   "source": [
    "x = final[u'WGS84 \\u03bb E'].values\n",
    "y = final[u'WGS84 \\u03c6 N'].values\n",
    "z = final[u'value'].values"
   ]
  },
  {
   "cell_type": "code",
   "execution_count": null,
   "metadata": {
    "collapsed": false
   },
   "outputs": [],
   "source": [
    "x"
   ]
  },
  {
   "cell_type": "code",
   "execution_count": null,
   "metadata": {
    "collapsed": true
   },
   "outputs": [],
   "source": [
    "import numpy as np\n",
    "from scipy.interpolate import griddata"
   ]
  },
  {
   "cell_type": "code",
   "execution_count": null,
   "metadata": {
    "collapsed": false
   },
   "outputs": [],
   "source": [
    "xi = np.linspace(x.min(),x.max(),100)\n",
    "yi = np.linspace(y.min(),y.max(),200)\n",
    "\n",
    "xi = np.append(xi,x)\n",
    "xi.sort()\n",
    "yi = np.append(yi,y)\n",
    "yi.sort()\n",
    "\n",
    "zi = griddata((x, y), z, (xi[None,:], yi[:,None]), method='linear')"
   ]
  },
  {
   "cell_type": "code",
   "execution_count": null,
   "metadata": {
    "collapsed": false
   },
   "outputs": [],
   "source": [
    "(x,y), z"
   ]
  },
  {
   "cell_type": "code",
   "execution_count": null,
   "metadata": {
    "collapsed": false
   },
   "outputs": [],
   "source": [
    "zi"
   ]
  },
  {
   "cell_type": "code",
   "execution_count": null,
   "metadata": {
    "collapsed": false
   },
   "outputs": [],
   "source": [
    "# contour the gridded data, plotting dots at the randomly spaced data points.\n",
    "CS = plt.contour(xi,yi,zi)\n",
    "CS = plt.contourf(xi,yi,zi)\n",
    "plt.colorbar() # draw colorbar\n",
    "# plot data points.\n",
    "plt.scatter(x,y,marker='o',c='b',s=5)\n",
    "plt.show()"
   ]
  },
  {
   "cell_type": "code",
   "execution_count": null,
   "metadata": {
    "collapsed": false
   },
   "outputs": [],
   "source": []
  },
  {
   "cell_type": "code",
   "execution_count": null,
   "metadata": {
    "collapsed": true
   },
   "outputs": [],
   "source": [
    "from folium import plugins"
   ]
  },
  {
   "cell_type": "code",
   "execution_count": null,
   "metadata": {
    "collapsed": false
   },
   "outputs": [],
   "source": [
    "nxpoints = (x.max() - x.min()) / .001\n",
    "nypoints = (y.max() - y.min()) / .001"
   ]
  },
  {
   "cell_type": "code",
   "execution_count": null,
   "metadata": {
    "collapsed": false
   },
   "outputs": [],
   "source": [
    "xi = np.linspace(x.min(),x.max(),int(nxpoints))\n",
    "yi = np.linspace(y.min(),y.max(),int(nypoints))"
   ]
  },
  {
   "cell_type": "code",
   "execution_count": null,
   "metadata": {
    "collapsed": false
   },
   "outputs": [],
   "source": [
    "zi = griddata((x, y), z, (xi[None,:], yi[:,None]), method='linear')"
   ]
  },
  {
   "cell_type": "code",
   "execution_count": null,
   "metadata": {
    "collapsed": false
   },
   "outputs": [],
   "source": [
    "print(xi.shape)\n",
    "print(yi.shape)\n",
    "np.isnan(zi[4502,5000])"
   ]
  },
  {
   "cell_type": "code",
   "execution_count": null,
   "metadata": {
    "collapsed": true
   },
   "outputs": [],
   "source": [
    "from tqdm import tqdm"
   ]
  },
  {
   "cell_type": "code",
   "execution_count": null,
   "metadata": {
    "collapsed": false
   },
   "outputs": [],
   "source": [
    "xlist = []\n",
    "ylist = []\n",
    "zlist = []"
   ]
  },
  {
   "cell_type": "code",
   "execution_count": null,
   "metadata": {
    "collapsed": false
   },
   "outputs": [],
   "source": [
    "for xelement in tqdm(range(xi.shape[0])):\n",
    "    for yelement in range(yi.shape[0]):\n",
    "        if np.isnan(zi[yelement,xelement]):\n",
    "            pass\n",
    "        else:\n",
    "            #tmpData = pd.DataFrame()\n",
    "            #tmpData[\"x\"] = xi[xelement]\n",
    "            xlist.append(xi[xelement])\n",
    "            ylist.append(yi[yelement])\n",
    "            zlist.append(zi[yelement,xelement])\n",
    "            #tmpData[\"y\"] = yi[yelement]\n",
    "            #tmpData[\"z\"] = zi[yelement,xelement]\n",
    "            #dataForHeatmap.append(tmpData, ignore_index=True)"
   ]
  },
  {
   "cell_type": "code",
   "execution_count": null,
   "metadata": {
    "collapsed": false
   },
   "outputs": [],
   "source": [
    "dataForHeatmap = pd.DataFrame({\"x\":xlist, \"y\":ylist, \"z\":zlist})"
   ]
  },
  {
   "cell_type": "code",
   "execution_count": null,
   "metadata": {
    "collapsed": false
   },
   "outputs": [],
   "source": [
    "dataForHeatmap"
   ]
  },
  {
   "cell_type": "code",
   "execution_count": null,
   "metadata": {
    "collapsed": false
   },
   "outputs": [],
   "source": [
    "#plugins.HeatMap(zip(ylist, xlist, zlist)).add_to(map_osm)"
   ]
  },
  {
   "cell_type": "code",
   "execution_count": null,
   "metadata": {
    "collapsed": false
   },
   "outputs": [],
   "source": [
    "#map_osm"
   ]
  },
  {
   "cell_type": "code",
   "execution_count": null,
   "metadata": {
    "collapsed": false
   },
   "outputs": [],
   "source": [
    "file"
   ]
  },
  {
   "cell_type": "code",
   "execution_count": null,
   "metadata": {
    "collapsed": false
   },
   "outputs": [],
   "source": [
    "[ basename(wholeFilename) for wholeFilename in glob.glob(\"../input/2*.xlsx\") ]\n"
   ]
  },
  {
   "cell_type": "code",
   "execution_count": null,
   "metadata": {
    "collapsed": false
   },
   "outputs": [],
   "source": [
    "[\"asdfasdf\", \"asdfa\", \"asdf\"]"
   ]
  },
  {
   "cell_type": "code",
   "execution_count": null,
   "metadata": {
    "collapsed": true
   },
   "outputs": [],
   "source": [
    "list."
   ]
  }
 ],
 "metadata": {
  "kernelspec": {
   "display_name": "Python 2",
   "language": "python",
   "name": "python2"
  },
  "language_info": {
   "codemirror_mode": {
    "name": "ipython",
    "version": 2
   },
   "file_extension": ".py",
   "mimetype": "text/x-python",
   "name": "python",
   "nbconvert_exporter": "python",
   "pygments_lexer": "ipython2",
   "version": "2.7.3"
  }
 },
 "nbformat": 4,
 "nbformat_minor": 1
}
