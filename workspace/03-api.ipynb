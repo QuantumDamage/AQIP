{
 "cells": [
  {
   "cell_type": "markdown",
   "metadata": {},
   "source": [
    "Official documentation:\n",
    "http://powietrze.gios.gov.pl/pjp/content/api#"
   ]
  },
  {
   "cell_type": "code",
   "execution_count": 1,
   "metadata": {
    "collapsed": true
   },
   "outputs": [],
   "source": [
    "%matplotlib inline"
   ]
  },
  {
   "cell_type": "code",
   "execution_count": 2,
   "metadata": {
    "collapsed": false
   },
   "outputs": [],
   "source": [
    "import requests\n",
    "from pandas.io.json import json_normalize\n",
    "import pandas as pd"
   ]
  },
  {
   "cell_type": "markdown",
   "metadata": {},
   "source": [
    "Getting all stations:"
   ]
  },
  {
   "cell_type": "code",
   "execution_count": 3,
   "metadata": {
    "collapsed": false
   },
   "outputs": [],
   "source": [
    "r = requests.get('http://api.gios.gov.pl/pjp-api/rest/station/findAll')"
   ]
  },
  {
   "cell_type": "code",
   "execution_count": 4,
   "metadata": {
    "collapsed": false
   },
   "outputs": [],
   "source": [
    "allStations = json_normalize(r.json())"
   ]
  },
  {
   "cell_type": "code",
   "execution_count": 5,
   "metadata": {
    "collapsed": false
   },
   "outputs": [
    {
     "data": {
      "text/html": [
       "<div>\n",
       "<table border=\"1\" class=\"dataframe\">\n",
       "  <thead>\n",
       "    <tr style=\"text-align: right;\">\n",
       "      <th></th>\n",
       "      <th>addressStreet</th>\n",
       "      <th>city</th>\n",
       "      <th>city.commune.communeName</th>\n",
       "      <th>city.commune.districtName</th>\n",
       "      <th>city.commune.provinceName</th>\n",
       "      <th>city.id</th>\n",
       "      <th>city.name</th>\n",
       "      <th>dateEnd</th>\n",
       "      <th>dateStart</th>\n",
       "      <th>gegrLat</th>\n",
       "      <th>gegrLon</th>\n",
       "      <th>id</th>\n",
       "      <th>stationName</th>\n",
       "    </tr>\n",
       "  </thead>\n",
       "  <tbody>\n",
       "    <tr>\n",
       "      <th>2</th>\n",
       "      <td>ul. Powstańców Warszawskich</td>\n",
       "      <td>NaN</td>\n",
       "      <td>Gdańsk</td>\n",
       "      <td>Gdańsk</td>\n",
       "      <td>POMORSKIE</td>\n",
       "      <td>218.0</td>\n",
       "      <td>Gdańsk</td>\n",
       "      <td>None</td>\n",
       "      <td>1996-10-01 12:00:00</td>\n",
       "      <td>54.353336</td>\n",
       "      <td>18.635283</td>\n",
       "      <td>729</td>\n",
       "      <td>AM1 Gdańsk Śródmieście</td>\n",
       "    </tr>\n",
       "    <tr>\n",
       "      <th>14</th>\n",
       "      <td>ul. Kaczeńce</td>\n",
       "      <td>NaN</td>\n",
       "      <td>Gdańsk</td>\n",
       "      <td>Gdańsk</td>\n",
       "      <td>POMORSKIE</td>\n",
       "      <td>218.0</td>\n",
       "      <td>Gdańsk</td>\n",
       "      <td>None</td>\n",
       "      <td>1996-10-01 12:00:00</td>\n",
       "      <td>54.367778</td>\n",
       "      <td>18.701111</td>\n",
       "      <td>730</td>\n",
       "      <td>AM2 Gdańsk Stogi</td>\n",
       "    </tr>\n",
       "    <tr>\n",
       "      <th>26</th>\n",
       "      <td>ul. Wyzwolenia</td>\n",
       "      <td>NaN</td>\n",
       "      <td>Gdańsk</td>\n",
       "      <td>Gdańsk</td>\n",
       "      <td>POMORSKIE</td>\n",
       "      <td>218.0</td>\n",
       "      <td>Gdańsk</td>\n",
       "      <td>None</td>\n",
       "      <td>1998-09-01 12:00:00</td>\n",
       "      <td>54.400833</td>\n",
       "      <td>18.657497</td>\n",
       "      <td>731</td>\n",
       "      <td>AM3 Gdańsk Nowy Port</td>\n",
       "    </tr>\n",
       "    <tr>\n",
       "      <th>67</th>\n",
       "      <td>ul. Leczkowa</td>\n",
       "      <td>NaN</td>\n",
       "      <td>Gdańsk</td>\n",
       "      <td>Gdańsk</td>\n",
       "      <td>POMORSKIE</td>\n",
       "      <td>218.0</td>\n",
       "      <td>Gdańsk</td>\n",
       "      <td>None</td>\n",
       "      <td>1998-10-01 12:00:00</td>\n",
       "      <td>54.380279</td>\n",
       "      <td>18.620274</td>\n",
       "      <td>736</td>\n",
       "      <td>AM8 Gdańsk Wrzeszcz</td>\n",
       "    </tr>\n",
       "    <tr>\n",
       "      <th>75</th>\n",
       "      <td>ul. Ostrzycka</td>\n",
       "      <td>NaN</td>\n",
       "      <td>Gdańsk</td>\n",
       "      <td>Gdańsk</td>\n",
       "      <td>POMORSKIE</td>\n",
       "      <td>218.0</td>\n",
       "      <td>Gdańsk</td>\n",
       "      <td>None</td>\n",
       "      <td>1998-05-01 12:00:00</td>\n",
       "      <td>54.328336</td>\n",
       "      <td>18.557781</td>\n",
       "      <td>733</td>\n",
       "      <td>AM5 Gdańsk Szadółki</td>\n",
       "    </tr>\n",
       "  </tbody>\n",
       "</table>\n",
       "</div>"
      ],
      "text/plain": [
       "                  addressStreet  city city.commune.communeName  \\\n",
       "2   ul. Powstańców Warszawskich   NaN                   Gdańsk   \n",
       "14                 ul. Kaczeńce   NaN                   Gdańsk   \n",
       "26               ul. Wyzwolenia   NaN                   Gdańsk   \n",
       "67                 ul. Leczkowa   NaN                   Gdańsk   \n",
       "75                ul. Ostrzycka   NaN                   Gdańsk   \n",
       "\n",
       "   city.commune.districtName city.commune.provinceName  city.id city.name  \\\n",
       "2                     Gdańsk                 POMORSKIE    218.0    Gdańsk   \n",
       "14                    Gdańsk                 POMORSKIE    218.0    Gdańsk   \n",
       "26                    Gdańsk                 POMORSKIE    218.0    Gdańsk   \n",
       "67                    Gdańsk                 POMORSKIE    218.0    Gdańsk   \n",
       "75                    Gdańsk                 POMORSKIE    218.0    Gdańsk   \n",
       "\n",
       "   dateEnd            dateStart    gegrLat    gegrLon   id  \\\n",
       "2     None  1996-10-01 12:00:00  54.353336  18.635283  729   \n",
       "14    None  1996-10-01 12:00:00  54.367778  18.701111  730   \n",
       "26    None  1998-09-01 12:00:00  54.400833  18.657497  731   \n",
       "67    None  1998-10-01 12:00:00  54.380279  18.620274  736   \n",
       "75    None  1998-05-01 12:00:00  54.328336  18.557781  733   \n",
       "\n",
       "               stationName  \n",
       "2   AM1 Gdańsk Śródmieście  \n",
       "14        AM2 Gdańsk Stogi  \n",
       "26    AM3 Gdańsk Nowy Port  \n",
       "67     AM8 Gdańsk Wrzeszcz  \n",
       "75     AM5 Gdańsk Szadółki  "
      ]
     },
     "execution_count": 5,
     "metadata": {},
     "output_type": "execute_result"
    }
   ],
   "source": [
    "allStations[allStations[\"city.name\"] == u\"Gdańsk\"]"
   ]
  },
  {
   "cell_type": "markdown",
   "metadata": {
    "collapsed": false
   },
   "source": [
    "Lets see what we have in \"AM5 Gdańsk Szadółki\" which has id: 733"
   ]
  },
  {
   "cell_type": "code",
   "execution_count": 6,
   "metadata": {
    "collapsed": true
   },
   "outputs": [],
   "source": [
    "stationId = 733"
   ]
  },
  {
   "cell_type": "code",
   "execution_count": 7,
   "metadata": {
    "collapsed": true
   },
   "outputs": [],
   "source": [
    "r = requests.get('http://api.gios.gov.pl/pjp-api/rest/station/sensors/' + str(stationId))"
   ]
  },
  {
   "cell_type": "code",
   "execution_count": 8,
   "metadata": {
    "collapsed": false
   },
   "outputs": [],
   "source": [
    "sensors = json_normalize(r.json())"
   ]
  },
  {
   "cell_type": "code",
   "execution_count": 9,
   "metadata": {
    "collapsed": false
   },
   "outputs": [
    {
     "data": {
      "text/html": [
       "<div>\n",
       "<table border=\"1\" class=\"dataframe\">\n",
       "  <thead>\n",
       "    <tr style=\"text-align: right;\">\n",
       "      <th></th>\n",
       "      <th>id</th>\n",
       "      <th>param.idParam</th>\n",
       "      <th>param.paramCode</th>\n",
       "      <th>param.paramFormula</th>\n",
       "      <th>param.paramName</th>\n",
       "      <th>sensorDateEnd</th>\n",
       "      <th>sensorDateStart</th>\n",
       "      <th>stationId</th>\n",
       "    </tr>\n",
       "  </thead>\n",
       "  <tbody>\n",
       "    <tr>\n",
       "      <th>0</th>\n",
       "      <td>4720</td>\n",
       "      <td>8</td>\n",
       "      <td>CO</td>\n",
       "      <td>CO</td>\n",
       "      <td>tlenek węgla</td>\n",
       "      <td>None</td>\n",
       "      <td>1998-05-01 12:00:00</td>\n",
       "      <td>733</td>\n",
       "    </tr>\n",
       "    <tr>\n",
       "      <th>1</th>\n",
       "      <td>4727</td>\n",
       "      <td>3</td>\n",
       "      <td>PM10</td>\n",
       "      <td>PM10</td>\n",
       "      <td>pył zawieszony PM10</td>\n",
       "      <td>None</td>\n",
       "      <td>1998-05-01 12:00:00</td>\n",
       "      <td>733</td>\n",
       "    </tr>\n",
       "    <tr>\n",
       "      <th>2</th>\n",
       "      <td>4723</td>\n",
       "      <td>6</td>\n",
       "      <td>NO2</td>\n",
       "      <td>NO2</td>\n",
       "      <td>dwutlenek azotu</td>\n",
       "      <td>None</td>\n",
       "      <td>1998-05-01 12:00:00</td>\n",
       "      <td>733</td>\n",
       "    </tr>\n",
       "    <tr>\n",
       "      <th>3</th>\n",
       "      <td>4725</td>\n",
       "      <td>5</td>\n",
       "      <td>O3</td>\n",
       "      <td>O3</td>\n",
       "      <td>ozon</td>\n",
       "      <td>None</td>\n",
       "      <td>1998-05-01 12:00:00</td>\n",
       "      <td>733</td>\n",
       "    </tr>\n",
       "    <tr>\n",
       "      <th>4</th>\n",
       "      <td>4730</td>\n",
       "      <td>1</td>\n",
       "      <td>SO2</td>\n",
       "      <td>SO2</td>\n",
       "      <td>dwutlenek siarki</td>\n",
       "      <td>None</td>\n",
       "      <td>1998-05-01 12:00:00</td>\n",
       "      <td>733</td>\n",
       "    </tr>\n",
       "  </tbody>\n",
       "</table>\n",
       "</div>"
      ],
      "text/plain": [
       "     id  param.idParam param.paramCode param.paramFormula  \\\n",
       "0  4720              8              CO                 CO   \n",
       "1  4727              3            PM10               PM10   \n",
       "2  4723              6             NO2                NO2   \n",
       "3  4725              5              O3                 O3   \n",
       "4  4730              1             SO2                SO2   \n",
       "\n",
       "       param.paramName sensorDateEnd      sensorDateStart  stationId  \n",
       "0         tlenek węgla          None  1998-05-01 12:00:00        733  \n",
       "1  pył zawieszony PM10          None  1998-05-01 12:00:00        733  \n",
       "2      dwutlenek azotu          None  1998-05-01 12:00:00        733  \n",
       "3                 ozon          None  1998-05-01 12:00:00        733  \n",
       "4     dwutlenek siarki          None  1998-05-01 12:00:00        733  "
      ]
     },
     "execution_count": 9,
     "metadata": {},
     "output_type": "execute_result"
    }
   ],
   "source": [
    "sensors"
   ]
  },
  {
   "cell_type": "markdown",
   "metadata": {},
   "source": [
    "Lets now see data about PM10 concentration - sensorId = 4727"
   ]
  },
  {
   "cell_type": "code",
   "execution_count": 10,
   "metadata": {
    "collapsed": true
   },
   "outputs": [],
   "source": [
    "sensorId = 4727"
   ]
  },
  {
   "cell_type": "code",
   "execution_count": 11,
   "metadata": {
    "collapsed": false
   },
   "outputs": [],
   "source": [
    "r = requests.get('http://api.gios.gov.pl/pjp-api/rest/data/getData/' + str(sensorId))"
   ]
  },
  {
   "cell_type": "code",
   "execution_count": 12,
   "metadata": {
    "collapsed": true
   },
   "outputs": [],
   "source": [
    "concentration = json_normalize(r.json())"
   ]
  },
  {
   "cell_type": "code",
   "execution_count": 13,
   "metadata": {
    "collapsed": true
   },
   "outputs": [],
   "source": [
    "concentrationFrame = pd.DataFrame()"
   ]
  },
  {
   "cell_type": "code",
   "execution_count": 14,
   "metadata": {
    "collapsed": false
   },
   "outputs": [],
   "source": [
    "concentrationFrame[\"dates\"] = [d[u'date'] for d in concentration[\"values\"].values.item()]\n",
    "concentrationFrame[\"values\"] = [d[u'value'] for d in concentration[\"values\"].values.item()]"
   ]
  },
  {
   "cell_type": "code",
   "execution_count": 15,
   "metadata": {
    "collapsed": false
   },
   "outputs": [],
   "source": [
    "concentrationFrame.set_index([\"dates\"], inplace=True)\n",
    "#concentrationFrame.sort_index(inplace=True)\n",
    "# We cannot sort index, because it is not unique. There is 12 hours notation used, but without AM/PM distinction ;(\n",
    "# But we can just reverse it until API will be fixed\n",
    "concentrationFrame = concentrationFrame.iloc[::-1]"
   ]
  },
  {
   "cell_type": "code",
   "execution_count": 16,
   "metadata": {
    "collapsed": false
   },
   "outputs": [
    {
     "data": {
      "text/html": [
       "<div>\n",
       "<table border=\"1\" class=\"dataframe\">\n",
       "  <thead>\n",
       "    <tr style=\"text-align: right;\">\n",
       "      <th></th>\n",
       "      <th>values</th>\n",
       "    </tr>\n",
       "    <tr>\n",
       "      <th>dates</th>\n",
       "      <th></th>\n",
       "    </tr>\n",
       "  </thead>\n",
       "  <tbody>\n",
       "    <tr>\n",
       "      <th>2017-04-16 01:00:00</th>\n",
       "      <td>18.64540</td>\n",
       "    </tr>\n",
       "    <tr>\n",
       "      <th>2017-04-16 02:00:00</th>\n",
       "      <td>8.53258</td>\n",
       "    </tr>\n",
       "    <tr>\n",
       "      <th>2017-04-16 03:00:00</th>\n",
       "      <td>3.52958</td>\n",
       "    </tr>\n",
       "    <tr>\n",
       "      <th>2017-04-16 04:00:00</th>\n",
       "      <td>2.12867</td>\n",
       "    </tr>\n",
       "    <tr>\n",
       "      <th>2017-04-16 05:00:00</th>\n",
       "      <td>1.00000</td>\n",
       "    </tr>\n",
       "    <tr>\n",
       "      <th>2017-04-16 06:00:00</th>\n",
       "      <td>12.96610</td>\n",
       "    </tr>\n",
       "    <tr>\n",
       "      <th>2017-04-16 07:00:00</th>\n",
       "      <td>13.20580</td>\n",
       "    </tr>\n",
       "    <tr>\n",
       "      <th>2017-04-16 08:00:00</th>\n",
       "      <td>2.32258</td>\n",
       "    </tr>\n",
       "    <tr>\n",
       "      <th>2017-04-16 09:00:00</th>\n",
       "      <td>12.68400</td>\n",
       "    </tr>\n",
       "    <tr>\n",
       "      <th>2017-04-16 10:00:00</th>\n",
       "      <td>16.42370</td>\n",
       "    </tr>\n",
       "    <tr>\n",
       "      <th>2017-04-16 11:00:00</th>\n",
       "      <td>2.36208</td>\n",
       "    </tr>\n",
       "    <tr>\n",
       "      <th>2017-04-16 12:00:00</th>\n",
       "      <td>18.84620</td>\n",
       "    </tr>\n",
       "    <tr>\n",
       "      <th>2017-04-16 01:00:00</th>\n",
       "      <td>2.88683</td>\n",
       "    </tr>\n",
       "    <tr>\n",
       "      <th>2017-04-16 02:00:00</th>\n",
       "      <td>1.00000</td>\n",
       "    </tr>\n",
       "    <tr>\n",
       "      <th>2017-04-16 03:00:00</th>\n",
       "      <td>4.57983</td>\n",
       "    </tr>\n",
       "    <tr>\n",
       "      <th>2017-04-16 04:00:00</th>\n",
       "      <td>1.00000</td>\n",
       "    </tr>\n",
       "    <tr>\n",
       "      <th>2017-04-16 05:00:00</th>\n",
       "      <td>1.56867</td>\n",
       "    </tr>\n",
       "    <tr>\n",
       "      <th>2017-04-16 06:00:00</th>\n",
       "      <td>5.09883</td>\n",
       "    </tr>\n",
       "    <tr>\n",
       "      <th>2017-04-16 07:00:00</th>\n",
       "      <td>6.82033</td>\n",
       "    </tr>\n",
       "    <tr>\n",
       "      <th>2017-04-16 08:00:00</th>\n",
       "      <td>14.69580</td>\n",
       "    </tr>\n",
       "    <tr>\n",
       "      <th>2017-04-16 09:00:00</th>\n",
       "      <td>6.48150</td>\n",
       "    </tr>\n",
       "    <tr>\n",
       "      <th>2017-04-16 10:00:00</th>\n",
       "      <td>9.68442</td>\n",
       "    </tr>\n",
       "    <tr>\n",
       "      <th>2017-04-16 11:00:00</th>\n",
       "      <td>13.97220</td>\n",
       "    </tr>\n",
       "    <tr>\n",
       "      <th>2017-04-17 12:00:00</th>\n",
       "      <td>21.47280</td>\n",
       "    </tr>\n",
       "    <tr>\n",
       "      <th>2017-04-17 01:00:00</th>\n",
       "      <td>23.68470</td>\n",
       "    </tr>\n",
       "    <tr>\n",
       "      <th>2017-04-17 02:00:00</th>\n",
       "      <td>18.86320</td>\n",
       "    </tr>\n",
       "    <tr>\n",
       "      <th>2017-04-17 03:00:00</th>\n",
       "      <td>16.08500</td>\n",
       "    </tr>\n",
       "    <tr>\n",
       "      <th>2017-04-17 04:00:00</th>\n",
       "      <td>17.16610</td>\n",
       "    </tr>\n",
       "    <tr>\n",
       "      <th>2017-04-17 05:00:00</th>\n",
       "      <td>25.23930</td>\n",
       "    </tr>\n",
       "    <tr>\n",
       "      <th>2017-04-17 06:00:00</th>\n",
       "      <td>23.35970</td>\n",
       "    </tr>\n",
       "    <tr>\n",
       "      <th>...</th>\n",
       "      <td>...</td>\n",
       "    </tr>\n",
       "    <tr>\n",
       "      <th>2017-04-17 02:00:00</th>\n",
       "      <td>1.00000</td>\n",
       "    </tr>\n",
       "    <tr>\n",
       "      <th>2017-04-17 03:00:00</th>\n",
       "      <td>9.16675</td>\n",
       "    </tr>\n",
       "    <tr>\n",
       "      <th>2017-04-17 04:00:00</th>\n",
       "      <td>4.61542</td>\n",
       "    </tr>\n",
       "    <tr>\n",
       "      <th>2017-04-17 05:00:00</th>\n",
       "      <td>12.47840</td>\n",
       "    </tr>\n",
       "    <tr>\n",
       "      <th>2017-04-17 06:00:00</th>\n",
       "      <td>10.25780</td>\n",
       "    </tr>\n",
       "    <tr>\n",
       "      <th>2017-04-17 07:00:00</th>\n",
       "      <td>1.00000</td>\n",
       "    </tr>\n",
       "    <tr>\n",
       "      <th>2017-04-17 08:00:00</th>\n",
       "      <td>6.54967</td>\n",
       "    </tr>\n",
       "    <tr>\n",
       "      <th>2017-04-17 09:00:00</th>\n",
       "      <td>6.25992</td>\n",
       "    </tr>\n",
       "    <tr>\n",
       "      <th>2017-04-17 10:00:00</th>\n",
       "      <td>5.65067</td>\n",
       "    </tr>\n",
       "    <tr>\n",
       "      <th>2017-04-17 11:00:00</th>\n",
       "      <td>1.00000</td>\n",
       "    </tr>\n",
       "    <tr>\n",
       "      <th>2017-04-18 12:00:00</th>\n",
       "      <td>6.41642</td>\n",
       "    </tr>\n",
       "    <tr>\n",
       "      <th>2017-04-18 01:00:00</th>\n",
       "      <td>4.60872</td>\n",
       "    </tr>\n",
       "    <tr>\n",
       "      <th>2017-04-18 02:00:00</th>\n",
       "      <td>1.00000</td>\n",
       "    </tr>\n",
       "    <tr>\n",
       "      <th>2017-04-18 03:00:00</th>\n",
       "      <td>8.82750</td>\n",
       "    </tr>\n",
       "    <tr>\n",
       "      <th>2017-04-18 04:00:00</th>\n",
       "      <td>4.15767</td>\n",
       "    </tr>\n",
       "    <tr>\n",
       "      <th>2017-04-18 05:00:00</th>\n",
       "      <td>7.86589</td>\n",
       "    </tr>\n",
       "    <tr>\n",
       "      <th>2017-04-18 06:00:00</th>\n",
       "      <td>4.47778</td>\n",
       "    </tr>\n",
       "    <tr>\n",
       "      <th>2017-04-18 07:00:00</th>\n",
       "      <td>8.80628</td>\n",
       "    </tr>\n",
       "    <tr>\n",
       "      <th>2017-04-18 08:00:00</th>\n",
       "      <td>16.62710</td>\n",
       "    </tr>\n",
       "    <tr>\n",
       "      <th>2017-04-18 09:00:00</th>\n",
       "      <td>20.00600</td>\n",
       "    </tr>\n",
       "    <tr>\n",
       "      <th>2017-04-18 10:00:00</th>\n",
       "      <td>12.23940</td>\n",
       "    </tr>\n",
       "    <tr>\n",
       "      <th>2017-04-18 11:00:00</th>\n",
       "      <td>8.05267</td>\n",
       "    </tr>\n",
       "    <tr>\n",
       "      <th>2017-04-18 12:00:00</th>\n",
       "      <td>8.93228</td>\n",
       "    </tr>\n",
       "    <tr>\n",
       "      <th>2017-04-18 01:00:00</th>\n",
       "      <td>13.93350</td>\n",
       "    </tr>\n",
       "    <tr>\n",
       "      <th>2017-04-18 02:00:00</th>\n",
       "      <td>12.10550</td>\n",
       "    </tr>\n",
       "    <tr>\n",
       "      <th>2017-04-18 03:00:00</th>\n",
       "      <td>20.18720</td>\n",
       "    </tr>\n",
       "    <tr>\n",
       "      <th>2017-04-18 04:00:00</th>\n",
       "      <td>17.33160</td>\n",
       "    </tr>\n",
       "    <tr>\n",
       "      <th>2017-04-18 05:00:00</th>\n",
       "      <td>20.82570</td>\n",
       "    </tr>\n",
       "    <tr>\n",
       "      <th>2017-04-18 06:00:00</th>\n",
       "      <td>9.27978</td>\n",
       "    </tr>\n",
       "    <tr>\n",
       "      <th>2017-04-18 07:00:00</th>\n",
       "      <td>16.89930</td>\n",
       "    </tr>\n",
       "  </tbody>\n",
       "</table>\n",
       "<p>67 rows × 1 columns</p>\n",
       "</div>"
      ],
      "text/plain": [
       "                       values\n",
       "dates                        \n",
       "2017-04-16 01:00:00  18.64540\n",
       "2017-04-16 02:00:00   8.53258\n",
       "2017-04-16 03:00:00   3.52958\n",
       "2017-04-16 04:00:00   2.12867\n",
       "2017-04-16 05:00:00   1.00000\n",
       "2017-04-16 06:00:00  12.96610\n",
       "2017-04-16 07:00:00  13.20580\n",
       "2017-04-16 08:00:00   2.32258\n",
       "2017-04-16 09:00:00  12.68400\n",
       "2017-04-16 10:00:00  16.42370\n",
       "2017-04-16 11:00:00   2.36208\n",
       "2017-04-16 12:00:00  18.84620\n",
       "2017-04-16 01:00:00   2.88683\n",
       "2017-04-16 02:00:00   1.00000\n",
       "2017-04-16 03:00:00   4.57983\n",
       "2017-04-16 04:00:00   1.00000\n",
       "2017-04-16 05:00:00   1.56867\n",
       "2017-04-16 06:00:00   5.09883\n",
       "2017-04-16 07:00:00   6.82033\n",
       "2017-04-16 08:00:00  14.69580\n",
       "2017-04-16 09:00:00   6.48150\n",
       "2017-04-16 10:00:00   9.68442\n",
       "2017-04-16 11:00:00  13.97220\n",
       "2017-04-17 12:00:00  21.47280\n",
       "2017-04-17 01:00:00  23.68470\n",
       "2017-04-17 02:00:00  18.86320\n",
       "2017-04-17 03:00:00  16.08500\n",
       "2017-04-17 04:00:00  17.16610\n",
       "2017-04-17 05:00:00  25.23930\n",
       "2017-04-17 06:00:00  23.35970\n",
       "...                       ...\n",
       "2017-04-17 02:00:00   1.00000\n",
       "2017-04-17 03:00:00   9.16675\n",
       "2017-04-17 04:00:00   4.61542\n",
       "2017-04-17 05:00:00  12.47840\n",
       "2017-04-17 06:00:00  10.25780\n",
       "2017-04-17 07:00:00   1.00000\n",
       "2017-04-17 08:00:00   6.54967\n",
       "2017-04-17 09:00:00   6.25992\n",
       "2017-04-17 10:00:00   5.65067\n",
       "2017-04-17 11:00:00   1.00000\n",
       "2017-04-18 12:00:00   6.41642\n",
       "2017-04-18 01:00:00   4.60872\n",
       "2017-04-18 02:00:00   1.00000\n",
       "2017-04-18 03:00:00   8.82750\n",
       "2017-04-18 04:00:00   4.15767\n",
       "2017-04-18 05:00:00   7.86589\n",
       "2017-04-18 06:00:00   4.47778\n",
       "2017-04-18 07:00:00   8.80628\n",
       "2017-04-18 08:00:00  16.62710\n",
       "2017-04-18 09:00:00  20.00600\n",
       "2017-04-18 10:00:00  12.23940\n",
       "2017-04-18 11:00:00   8.05267\n",
       "2017-04-18 12:00:00   8.93228\n",
       "2017-04-18 01:00:00  13.93350\n",
       "2017-04-18 02:00:00  12.10550\n",
       "2017-04-18 03:00:00  20.18720\n",
       "2017-04-18 04:00:00  17.33160\n",
       "2017-04-18 05:00:00  20.82570\n",
       "2017-04-18 06:00:00   9.27978\n",
       "2017-04-18 07:00:00  16.89930\n",
       "\n",
       "[67 rows x 1 columns]"
      ]
     },
     "execution_count": 16,
     "metadata": {},
     "output_type": "execute_result"
    }
   ],
   "source": [
    "concentrationFrame"
   ]
  },
  {
   "cell_type": "code",
   "execution_count": 17,
   "metadata": {
    "collapsed": false
   },
   "outputs": [
    {
     "data": {
      "text/plain": [
       "<matplotlib.axes._subplots.AxesSubplot at 0x3746f10>"
      ]
     },
     "execution_count": 17,
     "metadata": {},
     "output_type": "execute_result"
    },
    {
     "data": {
      "image/png": "[encoded data removed]",
      "text/plain": [
       "<matplotlib.figure.Figure at 0x7fa0dc2540d0>"
      ]
     },
     "metadata": {},
     "output_type": "display_data"
    }
   ],
   "source": [
    "concentrationFrame.plot(figsize=(15,5), grid=True)"
   ]
  },
  {
   "cell_type": "markdown",
   "metadata": {},
   "source": [
    "And overall air quality index for the same station"
   ]
  },
  {
   "cell_type": "code",
   "execution_count": 18,
   "metadata": {
    "collapsed": false
   },
   "outputs": [],
   "source": [
    "r = requests.get('http://api.gios.gov.pl/pjp-api/rest/aqindex/getIndex/' + str(stationId))"
   ]
  },
  {
   "cell_type": "code",
   "execution_count": 19,
   "metadata": {
    "collapsed": false
   },
   "outputs": [
    {
     "data": {
      "text/plain": [
       "{u'c6h6CalcDate': None,\n",
       " u'c6h6IndexLevel': None,\n",
       " u'c6h6SourceDataDate': None,\n",
       " u'coCalcDate': u'2017-04-18 08:16:01',\n",
       " u'coIndexLevel': {u'id': 0, u'indexLevelName': u'Bardzo dobry'},\n",
       " u'coSourceDataDate': u'2017-04-18 07:00:00',\n",
       " u'id': 733,\n",
       " u'no2CalcDate': u'2017-04-18 08:16:01',\n",
       " u'no2IndexLevel': {u'id': 0, u'indexLevelName': u'Bardzo dobry'},\n",
       " u'no2SourceDataDate': u'2017-04-18 07:00:00',\n",
       " u'o3CalcDate': u'2017-04-18 08:16:01',\n",
       " u'o3IndexLevel': {u'id': 2, u'indexLevelName': u'Umiarkowany'},\n",
       " u'o3SourceDataDate': u'2017-04-18 07:00:00',\n",
       " u'pm10CalcDate': u'2017-04-18 08:16:01',\n",
       " u'pm10IndexLevel': {u'id': 0, u'indexLevelName': u'Bardzo dobry'},\n",
       " u'pm10SourceDataDate': u'2017-04-18 07:00:00',\n",
       " u'pm25CalcDate': u'2017-04-18 08:16:01',\n",
       " u'pm25IndexLevel': None,\n",
       " u'pm25SourceDataDate': None,\n",
       " u'so2CalcDate': u'2017-04-18 08:16:01',\n",
       " u'so2IndexLevel': {u'id': 0, u'indexLevelName': u'Bardzo dobry'},\n",
       " u'so2SourceDataDate': u'2017-04-18 07:00:00',\n",
       " u'stCalcDate': u'2017-04-18 08:16:01',\n",
       " u'stIndexLevel': {u'id': 2, u'indexLevelName': u'Umiarkowany'},\n",
       " u'stSourceDataDate': u'2017-04-18 07:00:00'}"
      ]
     },
     "execution_count": 19,
     "metadata": {},
     "output_type": "execute_result"
    }
   ],
   "source": [
    "r.json()"
   ]
  },
  {
   "cell_type": "code",
   "execution_count": null,
   "metadata": {
    "collapsed": true
   },
   "outputs": [],
   "source": []
  }
 ],
 "metadata": {
  "kernelspec": {
   "display_name": "Python 2",
   "language": "python",
   "name": "python2"
  },
  "language_info": {
   "codemirror_mode": {
    "name": "ipython",
    "version": 2
   },
   "file_extension": ".py",
   "mimetype": "text/x-python",
   "name": "python",
   "nbconvert_exporter": "python",
   "pygments_lexer": "ipython2",
   "version": "2.7.3"
  }
 },
 "nbformat": 4,
 "nbformat_minor": 1
}
