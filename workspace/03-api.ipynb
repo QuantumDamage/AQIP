{
 "cells": [
  {
   "cell_type": "markdown",
   "metadata": {},
   "source": [
    "Official documentation:\n",
    "http://powietrze.gios.gov.pl/pjp/content/api#"
   ]
  },
  {
   "cell_type": "code",
   "execution_count": 1,
   "metadata": {
    "collapsed": true
   },
   "outputs": [],
   "source": [
    "%matplotlib inline"
   ]
  },
  {
   "cell_type": "code",
   "execution_count": 2,
   "metadata": {
    "collapsed": false
   },
   "outputs": [],
   "source": [
    "import requests\n",
    "from pandas.io.json import json_normalize\n",
    "import pandas as pd"
   ]
  },
  {
   "cell_type": "markdown",
   "metadata": {},
   "source": [
    "Getting all stations:"
   ]
  },
  {
   "cell_type": "code",
   "execution_count": 3,
   "metadata": {
    "collapsed": false
   },
   "outputs": [],
   "source": [
    "r = requests.get('http://api.gios.gov.pl/pjp-api/rest/station/findAll')"
   ]
  },
  {
   "cell_type": "code",
   "execution_count": 4,
   "metadata": {
    "collapsed": false
   },
   "outputs": [],
   "source": [
    "allStations = json_normalize(r.json())"
   ]
  },
  {
   "cell_type": "code",
   "execution_count": 5,
   "metadata": {
    "collapsed": false
   },
   "outputs": [
    {
     "name": "stdout",
     "output_type": "stream",
     "text": [
      "                  addressStreet  city city.commune.communeName  \\\n",
      "2   ul. Powstańców Warszawskich   NaN                   Gdańsk   \n",
      "14                 ul. Kaczeńce   NaN                   Gdańsk   \n",
      "26               ul. Wyzwolenia   NaN                   Gdańsk   \n",
      "69                 ul. Leczkowa   NaN                   Gdańsk   \n",
      "77                ul. Ostrzycka   NaN                   Gdańsk   \n",
      "\n",
      "   city.commune.districtName city.commune.provinceName  city.id city.name  \\\n",
      "2                     Gdańsk                 POMORSKIE    218.0    Gdańsk   \n",
      "14                    Gdańsk                 POMORSKIE    218.0    Gdańsk   \n",
      "26                    Gdańsk                 POMORSKIE    218.0    Gdańsk   \n",
      "69                    Gdańsk                 POMORSKIE    218.0    Gdańsk   \n",
      "77                    Gdańsk                 POMORSKIE    218.0    Gdańsk   \n",
      "\n",
      "   dateEnd            dateStart    gegrLat    gegrLon   id  \\\n",
      "2     None  1996-10-01 12:00:00  54.353336  18.635283  729   \n",
      "14    None  1996-10-01 12:00:00  54.367778  18.701111  730   \n",
      "26    None  1998-09-01 12:00:00  54.400833  18.657497  731   \n",
      "69    None  1998-10-01 12:00:00  54.380279  18.620274  736   \n",
      "77    None  1998-05-01 12:00:00  54.328336  18.557781  733   \n",
      "\n",
      "               stationName  \n",
      "2   AM1 Gdańsk Śródmieście  \n",
      "14        AM2 Gdańsk Stogi  \n",
      "26    AM3 Gdańsk Nowy Port  \n",
      "69     AM8 Gdańsk Wrzeszcz  \n",
      "77     AM5 Gdańsk Szadółki  \n"
     ]
    }
   ],
   "source": [
    "print(allStations[allStations[\"city.name\"] == u\"Gdańsk\"])"
   ]
  },
  {
   "cell_type": "markdown",
   "metadata": {
    "collapsed": false
   },
   "source": [
    "Lets see what we have in \"AM5 Gdańsk Szadółki\" which has id: 733"
   ]
  },
  {
   "cell_type": "code",
   "execution_count": 6,
   "metadata": {
    "collapsed": true
   },
   "outputs": [],
   "source": [
    "stationId = 733"
   ]
  },
  {
   "cell_type": "code",
   "execution_count": 7,
   "metadata": {
    "collapsed": true
   },
   "outputs": [],
   "source": [
    "r = requests.get('http://api.gios.gov.pl/pjp-api/rest/station/sensors/' + str(stationId))"
   ]
  },
  {
   "cell_type": "code",
   "execution_count": 8,
   "metadata": {
    "collapsed": false
   },
   "outputs": [],
   "source": [
    "sensors = json_normalize(r.json())"
   ]
  },
  {
   "cell_type": "code",
   "execution_count": 9,
   "metadata": {
    "collapsed": false
   },
   "outputs": [
    {
     "name": "stdout",
     "output_type": "stream",
     "text": [
      "     id  param.idParam param.paramCode param.paramFormula  \\\n",
      "0  4720              8              CO                 CO   \n",
      "1  4727              3            PM10               PM10   \n",
      "2  4723              6             NO2                NO2   \n",
      "3  4725              5              O3                 O3   \n",
      "4  4730              1             SO2                SO2   \n",
      "\n",
      "       param.paramName sensorDateEnd      sensorDateStart  stationId  \n",
      "0         tlenek węgla          None  1998-05-01 12:00:00        733  \n",
      "1  pył zawieszony PM10          None  1998-05-01 12:00:00        733  \n",
      "2      dwutlenek azotu          None  1998-05-01 12:00:00        733  \n",
      "3                 ozon          None  1998-05-01 12:00:00        733  \n",
      "4     dwutlenek siarki          None  1998-05-01 12:00:00        733  \n"
     ]
    }
   ],
   "source": [
    "print(sensors)"
   ]
  },
  {
   "cell_type": "markdown",
   "metadata": {},
   "source": [
    "Lets now see data about PM10 concentration - sensorId = 4727"
   ]
  },
  {
   "cell_type": "code",
   "execution_count": 10,
   "metadata": {
    "collapsed": true
   },
   "outputs": [],
   "source": [
    "sensorId = 4727"
   ]
  },
  {
   "cell_type": "code",
   "execution_count": 11,
   "metadata": {
    "collapsed": false
   },
   "outputs": [],
   "source": [
    "r = requests.get('http://api.gios.gov.pl/pjp-api/rest/data/getData/' + str(sensorId))"
   ]
  },
  {
   "cell_type": "code",
   "execution_count": 12,
   "metadata": {
    "collapsed": true
   },
   "outputs": [],
   "source": [
    "concentration = json_normalize(r.json())"
   ]
  },
  {
   "cell_type": "code",
   "execution_count": 13,
   "metadata": {
    "collapsed": true
   },
   "outputs": [],
   "source": [
    "concentrationFrame = pd.DataFrame()"
   ]
  },
  {
   "cell_type": "code",
   "execution_count": 14,
   "metadata": {
    "collapsed": false
   },
   "outputs": [],
   "source": [
    "concentrationFrame[\"dates\"] = [d[u'date'] for d in concentration[\"values\"].values.item()]\n",
    "concentrationFrame[\"values\"] = [d[u'value'] for d in concentration[\"values\"].values.item()]"
   ]
  },
  {
   "cell_type": "code",
   "execution_count": 15,
   "metadata": {
    "collapsed": false
   },
   "outputs": [],
   "source": [
    "concentrationFrame.set_index([\"dates\"], inplace=True)\n",
    "#concentrationFrame.sort_index(inplace=True)\n",
    "# We cannot sort index, because it is not unique. There is 12 hours notation used, but without AM/PM distinction ;(\n",
    "# But we can just reverse it until API will be fixed\n",
    "concentrationFrame = concentrationFrame.iloc[::-1]"
   ]
  },
  {
   "cell_type": "code",
   "execution_count": 16,
   "metadata": {
    "collapsed": false
   },
   "outputs": [
    {
     "name": "stdout",
     "output_type": "stream",
     "text": [
      "                       values\n",
      "dates                        \n",
      "2017-04-18 01:00:00   4.60872\n",
      "2017-04-18 02:00:00   1.00000\n",
      "2017-04-18 03:00:00   8.82750\n",
      "2017-04-18 04:00:00   4.15767\n",
      "2017-04-18 05:00:00   7.86589\n",
      "2017-04-18 06:00:00   4.47778\n",
      "2017-04-18 07:00:00   8.80628\n",
      "2017-04-18 08:00:00  16.62710\n",
      "2017-04-18 09:00:00  20.00600\n",
      "2017-04-18 10:00:00  12.23940\n",
      "2017-04-18 11:00:00   8.05267\n",
      "2017-04-18 12:00:00   8.93228\n",
      "2017-04-18 01:00:00  13.93350\n",
      "2017-04-18 02:00:00  12.10550\n",
      "2017-04-18 03:00:00  20.18720\n",
      "2017-04-18 04:00:00  17.33160\n",
      "2017-04-18 05:00:00  20.82570\n",
      "2017-04-18 06:00:00   9.27978\n",
      "2017-04-18 07:00:00  16.89930\n",
      "2017-04-18 08:00:00  15.77930\n",
      "2017-04-18 09:00:00   1.33872\n",
      "2017-04-18 10:00:00   5.34100\n",
      "2017-04-18 11:00:00   5.63622\n",
      "2017-04-19 12:00:00   6.58478\n",
      "2017-04-19 01:00:00   5.25006\n",
      "2017-04-19 02:00:00   1.00000\n",
      "2017-04-19 03:00:00   8.22208\n",
      "2017-04-19 04:00:00   3.90781\n",
      "2017-04-19 05:00:00   9.38008\n",
      "2017-04-19 06:00:00  20.59060\n",
      "...                       ...\n",
      "2017-04-19 04:00:00   8.66117\n",
      "2017-04-19 05:00:00  13.84110\n",
      "2017-04-19 06:00:00  17.86360\n",
      "2017-04-19 07:00:00   6.92978\n",
      "2017-04-19 08:00:00   1.00000\n",
      "2017-04-19 09:00:00  39.31530\n",
      "2017-04-19 10:00:00  26.85500\n",
      "2017-04-19 11:00:00  19.61980\n",
      "2017-04-20 12:00:00  20.42740\n",
      "2017-04-20 01:00:00  26.20380\n",
      "2017-04-20 02:00:00  21.36130\n",
      "2017-04-20 03:00:00  15.92620\n",
      "2017-04-20 04:00:00   9.71458\n",
      "2017-04-20 05:00:00   7.08664\n",
      "2017-04-20 06:00:00   1.00000\n",
      "2017-04-20 07:00:00  15.98260\n",
      "2017-04-20 08:00:00  30.82270\n",
      "2017-04-20 09:00:00  17.07150\n",
      "2017-04-20 10:00:00   8.96589\n",
      "2017-04-20 11:00:00   3.14964\n",
      "2017-04-20 12:00:00   1.00000\n",
      "2017-04-20 01:00:00   3.02642\n",
      "2017-04-20 02:00:00  25.58760\n",
      "2017-04-20 03:00:00       NaN\n",
      "2017-04-20 04:00:00   1.00000\n",
      "2017-04-20 05:00:00   1.00000\n",
      "2017-04-20 06:00:00   7.97433\n",
      "2017-04-20 07:00:00  30.15160\n",
      "2017-04-20 08:00:00  29.42090\n",
      "2017-04-20 09:00:00       NaN\n",
      "\n",
      "[69 rows x 1 columns]\n"
     ]
    }
   ],
   "source": [
    "print(concentrationFrame)"
   ]
  },
  {
   "cell_type": "code",
   "execution_count": 17,
   "metadata": {
    "collapsed": false
   },
   "outputs": [
    {
     "data": {
      "text/plain": [
       "<matplotlib.axes._subplots.AxesSubplot at 0x5118190>"
      ]
     },
     "execution_count": 17,
     "metadata": {},
     "output_type": "execute_result"
    },
    {
     "data": {
      "image/png": "[encoded data removed]",
      "text/plain": [
       "<matplotlib.figure.Figure at 0x5115a50>"
      ]
     },
     "metadata": {},
     "output_type": "display_data"
    }
   ],
   "source": [
    "concentrationFrame.plot(figsize=(15,5), grid=True)"
   ]
  },
  {
   "cell_type": "markdown",
   "metadata": {},
   "source": [
    "And overall air quality index for the same station"
   ]
  },
  {
   "cell_type": "code",
   "execution_count": 18,
   "metadata": {
    "collapsed": false
   },
   "outputs": [],
   "source": [
    "r = requests.get('http://api.gios.gov.pl/pjp-api/rest/aqindex/getIndex/' + str(stationId))"
   ]
  },
  {
   "cell_type": "code",
   "execution_count": 19,
   "metadata": {
    "collapsed": false
   },
   "outputs": [
    {
     "data": {
      "text/plain": [
       "{u'c6h6CalcDate': None,\n",
       " u'c6h6IndexLevel': None,\n",
       " u'c6h6SourceDataDate': None,\n",
       " u'coCalcDate': u'2017-04-20 09:15:43',\n",
       " u'coIndexLevel': {u'id': 0, u'indexLevelName': u'Bardzo dobry'},\n",
       " u'coSourceDataDate': u'2017-04-20 08:00:00',\n",
       " u'id': 733,\n",
       " u'no2CalcDate': u'2017-04-20 09:15:43',\n",
       " u'no2IndexLevel': {u'id': 1, u'indexLevelName': u'Dobry'},\n",
       " u'no2SourceDataDate': u'2017-04-20 08:00:00',\n",
       " u'o3CalcDate': u'2017-04-20 09:15:43',\n",
       " u'o3IndexLevel': {u'id': 1, u'indexLevelName': u'Dobry'},\n",
       " u'o3SourceDataDate': u'2017-04-20 08:00:00',\n",
       " u'pm10CalcDate': u'2017-04-20 09:15:43',\n",
       " u'pm10IndexLevel': {u'id': 1, u'indexLevelName': u'Dobry'},\n",
       " u'pm10SourceDataDate': u'2017-04-20 08:00:00',\n",
       " u'pm25CalcDate': u'2017-04-20 09:15:43',\n",
       " u'pm25IndexLevel': None,\n",
       " u'pm25SourceDataDate': None,\n",
       " u'so2CalcDate': u'2017-04-20 09:15:43',\n",
       " u'so2IndexLevel': {u'id': 0, u'indexLevelName': u'Bardzo dobry'},\n",
       " u'so2SourceDataDate': u'2017-04-20 08:00:00',\n",
       " u'stCalcDate': u'2017-04-20 09:15:43',\n",
       " u'stIndexLevel': {u'id': 1, u'indexLevelName': u'Dobry'},\n",
       " u'stSourceDataDate': u'2017-04-20 08:00:00'}"
      ]
     },
     "execution_count": 19,
     "metadata": {},
     "output_type": "execute_result"
    }
   ],
   "source": [
    "r.json()"
   ]
  },
  {
   "cell_type": "code",
   "execution_count": null,
   "metadata": {
    "collapsed": true
   },
   "outputs": [],
   "source": []
  }
 ],
 "metadata": {
  "kernelspec": {
   "display_name": "Python 2",
   "language": "python",
   "name": "python2"
  },
  "language_info": {
   "codemirror_mode": {
    "name": "ipython",
    "version": 2
   },
   "file_extension": ".py",
   "mimetype": "text/x-python",
   "name": "python",
   "nbconvert_exporter": "python",
   "pygments_lexer": "ipython2",
   "version": "2.7.3"
  }
 },
 "nbformat": 4,
 "nbformat_minor": 1
}
