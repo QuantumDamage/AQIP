{
 "cells": [
  {
   "cell_type": "markdown",
   "metadata": {
    "collapsed": true
   },
   "source": [
    "## Envinroment preparation"
   ]
  },
  {
   "cell_type": "markdown",
   "metadata": {
    "collapsed": true
   },
   "source": [
    "First line if **magic** enabling matplotlib inline plots "
   ]
  },
  {
   "cell_type": "code",
   "execution_count": 1,
   "metadata": {
    "collapsed": true
   },
   "outputs": [],
   "source": [
    "%matplotlib inline"
   ]
  },
  {
   "cell_type": "markdown",
   "metadata": {},
   "source": [
    "Then we have round of inports:\n",
    "* **pandas** is our main data storage module\n",
    "* **glob** and **os** are used for filename manipulations"
   ]
  },
  {
   "cell_type": "code",
   "execution_count": 2,
   "metadata": {
    "collapsed": true
   },
   "outputs": [],
   "source": [
    "import pandas as pd\n",
    "import glob\n",
    "import os"
   ]
  },
  {
   "cell_type": "markdown",
   "metadata": {},
   "source": [
    "## Files index and identification"
   ]
  },
  {
   "cell_type": "code",
   "execution_count": 3,
   "metadata": {
    "collapsed": false
   },
   "outputs": [],
   "source": [
    "filenames = [ os.path.splitext(wholeFilename)[0] for wholeFilename in \n",
    "             [ os.path.basename(wholePath) for wholePath in glob.glob(\"../input/2*.xlsx\") ] ]"
   ]
  },
  {
   "cell_type": "code",
   "execution_count": 4,
   "metadata": {
    "collapsed": false
   },
   "outputs": [],
   "source": [
    "dataFiles = pd.DataFrame({\"filename\": filenames})\n",
    "dataFiles[\"year\"], dataFiles[\"pollutant\"], dataFiles[\"resolution\"] = dataFiles[\"filename\"].str.split('_', 2).str"
   ]
  },
  {
   "cell_type": "code",
   "execution_count": 5,
   "metadata": {
    "collapsed": false
   },
   "outputs": [
    {
     "data": {
      "text/html": [
       "<div>\n",
       "<table border=\"1\" class=\"dataframe\">\n",
       "  <thead>\n",
       "    <tr style=\"text-align: right;\">\n",
       "      <th></th>\n",
       "      <th>filename</th>\n",
       "      <th>year</th>\n",
       "      <th>pollutant</th>\n",
       "      <th>resolution</th>\n",
       "    </tr>\n",
       "  </thead>\n",
       "  <tbody>\n",
       "    <tr>\n",
       "      <th>0</th>\n",
       "      <td>2010_Pb(PM10)_24g</td>\n",
       "      <td>2010</td>\n",
       "      <td>Pb(PM10)</td>\n",
       "      <td>24g</td>\n",
       "    </tr>\n",
       "    <tr>\n",
       "      <th>1</th>\n",
       "      <td>2007_As(PM10)_24g</td>\n",
       "      <td>2007</td>\n",
       "      <td>As(PM10)</td>\n",
       "      <td>24g</td>\n",
       "    </tr>\n",
       "    <tr>\n",
       "      <th>2</th>\n",
       "      <td>2005_PM2.5_24g</td>\n",
       "      <td>2005</td>\n",
       "      <td>PM2.5</td>\n",
       "      <td>24g</td>\n",
       "    </tr>\n",
       "    <tr>\n",
       "      <th>3</th>\n",
       "      <td>2009_PM2.5_1g</td>\n",
       "      <td>2009</td>\n",
       "      <td>PM2.5</td>\n",
       "      <td>1g</td>\n",
       "    </tr>\n",
       "    <tr>\n",
       "      <th>4</th>\n",
       "      <td>2011_NH4+(PM2.5)_24g</td>\n",
       "      <td>2011</td>\n",
       "      <td>NH4+(PM2.5)</td>\n",
       "      <td>24g</td>\n",
       "    </tr>\n",
       "  </tbody>\n",
       "</table>\n",
       "</div>"
      ],
      "text/plain": [
       "               filename  year    pollutant resolution\n",
       "0     2010_Pb(PM10)_24g  2010     Pb(PM10)        24g\n",
       "1     2007_As(PM10)_24g  2007     As(PM10)        24g\n",
       "2        2005_PM2.5_24g  2005        PM2.5        24g\n",
       "3         2009_PM2.5_1g  2009        PM2.5         1g\n",
       "4  2011_NH4+(PM2.5)_24g  2011  NH4+(PM2.5)        24g"
      ]
     },
     "execution_count": 5,
     "metadata": {},
     "output_type": "execute_result"
    }
   ],
   "source": [
    "dataFiles.head()"
   ]
  },
  {
   "cell_type": "code",
   "execution_count": 6,
   "metadata": {
    "collapsed": false
   },
   "outputs": [
    {
     "data": {
      "text/plain": [
       "2012    35\n",
       "2011    35\n",
       "2014    35\n",
       "2013    34\n",
       "2015    29\n",
       "2010    25\n",
       "2009    24\n",
       "2008    24\n",
       "2007    18\n",
       "2006    18\n",
       "2005    17\n",
       "2004    17\n",
       "2003    17\n",
       "2002    14\n",
       "2001    11\n",
       "2000     6\n",
       "Name: year, dtype: int64"
      ]
     },
     "execution_count": 6,
     "metadata": {},
     "output_type": "execute_result"
    }
   ],
   "source": [
    "dataFiles[\"year\"].value_counts()"
   ]
  },
  {
   "cell_type": "code",
   "execution_count": 7,
   "metadata": {
    "collapsed": false
   },
   "outputs": [
    {
     "data": {
      "text/plain": [
       "NO2            32\n",
       "SO2            31\n",
       "PM10           29\n",
       "C6H6           28\n",
       "PM2.5          22\n",
       "O3             16\n",
       "NOx            16\n",
       "Cd(PM10)       15\n",
       "Ni(PM10)       15\n",
       "BaP(PM10)      15\n",
       "Pb(PM10)       14\n",
       "As(PM10)       14\n",
       "CO             13\n",
       "IP(PM10)        8\n",
       "BjF(PM10)       8\n",
       "BbF(PM10)       8\n",
       "BkF(PM10)       8\n",
       "BaA(PM10)       8\n",
       "DBahA(PM10)     7\n",
       "formaldehyd     5\n",
       "Na+(PM2.5)      4\n",
       "NH4+(PM2.5)     4\n",
       "NO3-(PM2.5)     4\n",
       "Ca2+(PM2.5)     4\n",
       "OC(PM2.5)       4\n",
       "Mg2+(PM2.5)     4\n",
       "Cl              4\n",
       "EC(PM2.5)       4\n",
       "SO42            4\n",
       "K+(PM2.5)       4\n",
       "PM25            2\n",
       "Hg(TGM)         2\n",
       "DBah(PM10)      1\n",
       "depozycja       1\n",
       "Jony            1\n",
       "Name: pollutant, dtype: int64"
      ]
     },
     "execution_count": 7,
     "metadata": {},
     "output_type": "execute_result"
    }
   ],
   "source": [
    "dataFiles[\"pollutant\"].value_counts()"
   ]
  },
  {
   "cell_type": "code",
   "execution_count": 8,
   "metadata": {
    "collapsed": false
   },
   "outputs": [
    {
     "data": {
      "text/plain": [
       "24g            236\n",
       "1g             113\n",
       "(PM2.5)-24g      4\n",
       "(PM2.5)_24g      4\n",
       "w_PM25_24g       1\n",
       "Name: resolution, dtype: int64"
      ]
     },
     "execution_count": 8,
     "metadata": {},
     "output_type": "execute_result"
    }
   ],
   "source": [
    "dataFiles[\"resolution\"].value_counts()"
   ]
  },
  {
   "cell_type": "markdown",
   "metadata": {},
   "source": [
    "## Fixing data files identification"
   ]
  },
  {
   "cell_type": "code",
   "execution_count": 9,
   "metadata": {
    "collapsed": false
   },
   "outputs": [],
   "source": [
    "dataFiles.ix[dataFiles[\"resolution\"] == \"(PM2.5)-24g\", 'pollutant'] = \"Cl_(PM2.5)\"\n",
    "dataFiles.ix[dataFiles[\"resolution\"] == \"(PM2.5)-24g\", 'resolution'] = \"24g\""
   ]
  },
  {
   "cell_type": "code",
   "execution_count": 10,
   "metadata": {
    "collapsed": true
   },
   "outputs": [],
   "source": [
    "dataFiles.ix[dataFiles[\"resolution\"] == \"(PM2.5)_24g\", 'pollutant'] = \"SO42_(PM2.5)\"\n",
    "dataFiles.ix[dataFiles[\"resolution\"] == \"(PM2.5)_24g\", 'resolution'] = \"24g\""
   ]
  },
  {
   "cell_type": "code",
   "execution_count": 11,
   "metadata": {
    "collapsed": true
   },
   "outputs": [],
   "source": [
    "dataFiles.ix[dataFiles[\"resolution\"] == \"w_PM25_24g\", 'pollutant'] = \"Jony_w_PM25\"\n",
    "dataFiles.ix[dataFiles[\"resolution\"] == \"w_PM25_24g\", 'resolution'] = \"24g\""
   ]
  },
  {
   "cell_type": "markdown",
   "metadata": {},
   "source": [
    "Now **resolution** column should be correct:"
   ]
  },
  {
   "cell_type": "code",
   "execution_count": 12,
   "metadata": {
    "collapsed": false
   },
   "outputs": [
    {
     "data": {
      "text/plain": [
       "24g    245\n",
       "1g     113\n",
       "Name: resolution, dtype: int64"
      ]
     },
     "execution_count": 12,
     "metadata": {},
     "output_type": "execute_result"
    }
   ],
   "source": [
    "dataFiles[\"resolution\"].value_counts()"
   ]
  },
  {
   "cell_type": "markdown",
   "metadata": {},
   "source": [
    "Lets also fix worngly labelled pollutant:"
   ]
  },
  {
   "cell_type": "code",
   "execution_count": 13,
   "metadata": {
    "collapsed": true
   },
   "outputs": [],
   "source": [
    "dataFiles.ix[dataFiles[\"pollutant\"] == \"PM25\", 'pollutant'] = \"PM2.5\""
   ]
  },
  {
   "cell_type": "code",
   "execution_count": 14,
   "metadata": {
    "collapsed": false
   },
   "outputs": [
    {
     "data": {
      "text/html": [
       "<div>\n",
       "<table border=\"1\" class=\"dataframe\">\n",
       "  <thead>\n",
       "    <tr style=\"text-align: right;\">\n",
       "      <th></th>\n",
       "      <th>filename</th>\n",
       "      <th>year</th>\n",
       "      <th>pollutant</th>\n",
       "      <th>resolution</th>\n",
       "    </tr>\n",
       "  </thead>\n",
       "  <tbody>\n",
       "    <tr>\n",
       "      <th>count</th>\n",
       "      <td>359</td>\n",
       "      <td>359</td>\n",
       "      <td>359</td>\n",
       "      <td>358</td>\n",
       "    </tr>\n",
       "    <tr>\n",
       "      <th>unique</th>\n",
       "      <td>359</td>\n",
       "      <td>16</td>\n",
       "      <td>34</td>\n",
       "      <td>2</td>\n",
       "    </tr>\n",
       "    <tr>\n",
       "      <th>top</th>\n",
       "      <td>2012_NO2_24g</td>\n",
       "      <td>2012</td>\n",
       "      <td>NO2</td>\n",
       "      <td>24g</td>\n",
       "    </tr>\n",
       "    <tr>\n",
       "      <th>freq</th>\n",
       "      <td>1</td>\n",
       "      <td>35</td>\n",
       "      <td>32</td>\n",
       "      <td>245</td>\n",
       "    </tr>\n",
       "  </tbody>\n",
       "</table>\n",
       "</div>"
      ],
      "text/plain": [
       "            filename  year pollutant resolution\n",
       "count            359   359       359        358\n",
       "unique           359    16        34          2\n",
       "top     2012_NO2_24g  2012       NO2        24g\n",
       "freq               1    35        32        245"
      ]
     },
     "execution_count": 14,
     "metadata": {},
     "output_type": "execute_result"
    }
   ],
   "source": [
    "dataFiles.describe()"
   ]
  },
  {
   "cell_type": "markdown",
   "metadata": {},
   "source": [
    "There is still one empty cell in **resolution** column. Lets identify it:"
   ]
  },
  {
   "cell_type": "code",
   "execution_count": 15,
   "metadata": {
    "collapsed": false
   },
   "outputs": [
    {
     "data": {
      "text/html": [
       "<div>\n",
       "<table border=\"1\" class=\"dataframe\">\n",
       "  <thead>\n",
       "    <tr style=\"text-align: right;\">\n",
       "      <th></th>\n",
       "      <th>filename</th>\n",
       "      <th>year</th>\n",
       "      <th>pollutant</th>\n",
       "      <th>resolution</th>\n",
       "    </tr>\n",
       "  </thead>\n",
       "  <tbody>\n",
       "    <tr>\n",
       "      <th>312</th>\n",
       "      <td>2015_depozycja</td>\n",
       "      <td>2015</td>\n",
       "      <td>depozycja</td>\n",
       "      <td>NaN</td>\n",
       "    </tr>\n",
       "  </tbody>\n",
       "</table>\n",
       "</div>"
      ],
      "text/plain": [
       "           filename  year  pollutant resolution\n",
       "312  2015_depozycja  2015  depozycja        NaN"
      ]
     },
     "execution_count": 15,
     "metadata": {},
     "output_type": "execute_result"
    }
   ],
   "source": [
    "dataFiles[dataFiles[\"resolution\"].isnull()]"
   ]
  },
  {
   "cell_type": "markdown",
   "metadata": {},
   "source": [
    "After manually examinign **2015_depozycja** file I found that it cointains new type of data, which will be useless in planned analysis. I decided to remove it from working memory. "
   ]
  },
  {
   "cell_type": "code",
   "execution_count": 16,
   "metadata": {
    "collapsed": false
   },
   "outputs": [],
   "source": [
    "dataFiles.drop(dataFiles[dataFiles[\"filename\"] == \"2015_depozycja\"].index, inplace=True)"
   ]
  },
  {
   "cell_type": "code",
   "execution_count": 17,
   "metadata": {
    "collapsed": false
   },
   "outputs": [
    {
     "data": {
      "text/html": [
       "<div>\n",
       "<table border=\"1\" class=\"dataframe\">\n",
       "  <thead>\n",
       "    <tr style=\"text-align: right;\">\n",
       "      <th></th>\n",
       "      <th>filename</th>\n",
       "      <th>year</th>\n",
       "      <th>pollutant</th>\n",
       "      <th>resolution</th>\n",
       "    </tr>\n",
       "  </thead>\n",
       "  <tbody>\n",
       "    <tr>\n",
       "      <th>count</th>\n",
       "      <td>358</td>\n",
       "      <td>358</td>\n",
       "      <td>358</td>\n",
       "      <td>358</td>\n",
       "    </tr>\n",
       "    <tr>\n",
       "      <th>unique</th>\n",
       "      <td>358</td>\n",
       "      <td>16</td>\n",
       "      <td>33</td>\n",
       "      <td>2</td>\n",
       "    </tr>\n",
       "    <tr>\n",
       "      <th>top</th>\n",
       "      <td>2012_NO2_24g</td>\n",
       "      <td>2012</td>\n",
       "      <td>NO2</td>\n",
       "      <td>24g</td>\n",
       "    </tr>\n",
       "    <tr>\n",
       "      <th>freq</th>\n",
       "      <td>1</td>\n",
       "      <td>35</td>\n",
       "      <td>32</td>\n",
       "      <td>245</td>\n",
       "    </tr>\n",
       "  </tbody>\n",
       "</table>\n",
       "</div>"
      ],
      "text/plain": [
       "            filename  year pollutant resolution\n",
       "count            358   358       358        358\n",
       "unique           358    16        33          2\n",
       "top     2012_NO2_24g  2012       NO2        24g\n",
       "freq               1    35        32        245"
      ]
     },
     "execution_count": 17,
     "metadata": {},
     "output_type": "execute_result"
    }
   ],
   "source": [
    "dataFiles.describe()"
   ]
  },
  {
   "cell_type": "markdown",
   "metadata": {},
   "source": [
    "## Looking for worst measuring station for each pollutant in 2015"
   ]
  },
  {
   "cell_type": "code",
   "execution_count": 18,
   "metadata": {
    "collapsed": false
   },
   "outputs": [],
   "source": [
    "importantPollutants = [\"PM10\", \"PM2.5\", \"O3\", \"NO2\", \"SO2\", \"C6H6\", \"CO\"]\n",
    "pollutants2015 = dataFiles[(dataFiles[\"year\"] == \"2015\") & (dataFiles[\"resolution\"] == \"1g\") & \n",
    "                           (dataFiles[\"pollutant\"].isin(importantPollutants))]"
   ]
  },
  {
   "cell_type": "code",
   "execution_count": 19,
   "metadata": {
    "collapsed": false
   },
   "outputs": [
    {
     "data": {
      "text/html": [
       "<div>\n",
       "<table border=\"1\" class=\"dataframe\">\n",
       "  <thead>\n",
       "    <tr style=\"text-align: right;\">\n",
       "      <th></th>\n",
       "      <th>filename</th>\n",
       "      <th>year</th>\n",
       "      <th>pollutant</th>\n",
       "      <th>resolution</th>\n",
       "    </tr>\n",
       "  </thead>\n",
       "  <tbody>\n",
       "    <tr>\n",
       "      <th>14</th>\n",
       "      <td>2015_NO2_1g</td>\n",
       "      <td>2015</td>\n",
       "      <td>NO2</td>\n",
       "      <td>1g</td>\n",
       "    </tr>\n",
       "    <tr>\n",
       "      <th>106</th>\n",
       "      <td>2015_CO_1g</td>\n",
       "      <td>2015</td>\n",
       "      <td>CO</td>\n",
       "      <td>1g</td>\n",
       "    </tr>\n",
       "    <tr>\n",
       "      <th>138</th>\n",
       "      <td>2015_SO2_1g</td>\n",
       "      <td>2015</td>\n",
       "      <td>SO2</td>\n",
       "      <td>1g</td>\n",
       "    </tr>\n",
       "    <tr>\n",
       "      <th>141</th>\n",
       "      <td>2015_O3_1g</td>\n",
       "      <td>2015</td>\n",
       "      <td>O3</td>\n",
       "      <td>1g</td>\n",
       "    </tr>\n",
       "    <tr>\n",
       "      <th>207</th>\n",
       "      <td>2015_C6H6_1g</td>\n",
       "      <td>2015</td>\n",
       "      <td>C6H6</td>\n",
       "      <td>1g</td>\n",
       "    </tr>\n",
       "    <tr>\n",
       "      <th>310</th>\n",
       "      <td>2015_PM10_1g</td>\n",
       "      <td>2015</td>\n",
       "      <td>PM10</td>\n",
       "      <td>1g</td>\n",
       "    </tr>\n",
       "    <tr>\n",
       "      <th>326</th>\n",
       "      <td>2015_PM25_1g</td>\n",
       "      <td>2015</td>\n",
       "      <td>PM2.5</td>\n",
       "      <td>1g</td>\n",
       "    </tr>\n",
       "  </tbody>\n",
       "</table>\n",
       "</div>"
      ],
      "text/plain": [
       "         filename  year pollutant resolution\n",
       "14    2015_NO2_1g  2015       NO2         1g\n",
       "106    2015_CO_1g  2015        CO         1g\n",
       "138   2015_SO2_1g  2015       SO2         1g\n",
       "141    2015_O3_1g  2015        O3         1g\n",
       "207  2015_C6H6_1g  2015      C6H6         1g\n",
       "310  2015_PM10_1g  2015      PM10         1g\n",
       "326  2015_PM25_1g  2015     PM2.5         1g"
      ]
     },
     "execution_count": 19,
     "metadata": {},
     "output_type": "execute_result"
    }
   ],
   "source": [
    "pollutants2015"
   ]
  },
  {
   "cell_type": "code",
   "execution_count": 20,
   "metadata": {
    "collapsed": true
   },
   "outputs": [],
   "source": [
    "from tqdm import tqdm"
   ]
  },
  {
   "cell_type": "code",
   "execution_count": 21,
   "metadata": {
    "collapsed": true
   },
   "outputs": [],
   "source": [
    "from collections import Counter"
   ]
  },
  {
   "cell_type": "code",
   "execution_count": 22,
   "metadata": {
    "collapsed": false
   },
   "outputs": [],
   "source": [
    "#worstStation = {}\n",
    "#for index, dataRow in tqdm(pollutants2015.iterrows(), total=len(pollutants2015.index)):\n",
    "#    dataFromFile = pd.read_excel(\"../input/\" + dataRow[\"filename\"] + \".xlsx\", skiprows=[1,2])\n",
    "#    dataFromFile = dataFromFile.rename(columns={\"Kod stacji\":\"Godzina\"})\n",
    "#    dataFromFile = dataFromFile.set_index(\"Godzina\")\n",
    "#    worstStation[dataRow[\"pollutant\"]] = dataFromFile.max().sort_values(ascending = False).index[0]"
   ]
  },
  {
   "cell_type": "markdown",
   "metadata": {},
   "source": [
    "## Building one big data frame"
   ]
  },
  {
   "cell_type": "code",
   "execution_count": 23,
   "metadata": {
    "collapsed": true
   },
   "outputs": [],
   "source": [
    "pollutants = importantPollutants\n",
    "years = sorted(list(dataFiles[\"year\"].unique()))"
   ]
  },
  {
   "cell_type": "code",
   "execution_count": 24,
   "metadata": {
    "collapsed": false
   },
   "outputs": [],
   "source": [
    "pollutantsYears = dataFiles[(dataFiles[\"year\"].isin(years)) & (dataFiles[\"resolution\"] == \"1g\") & \n",
    "                           (dataFiles[\"pollutant\"].isin(pollutants))]"
   ]
  },
  {
   "cell_type": "code",
   "execution_count": 25,
   "metadata": {
    "collapsed": false
   },
   "outputs": [
    {
     "name": "stderr",
     "output_type": "stream",
     "text": [
      "\r",
      "  0%|          | 0/2 [00:00<?, ?it/s]"
     ]
    },
    {
     "name": "stdout",
     "output_type": "stream",
     "text": [
      "2000\n"
     ]
    },
    {
     "name": "stderr",
     "output_type": "stream",
     "text": [
      "100%|██████████| 2/2 [00:08<00:00,  3.89s/it]\n",
      "  0%|          | 0/3 [00:00<?, ?it/s]"
     ]
    },
    {
     "name": "stdout",
     "output_type": "stream",
     "text": [
      "2001\n"
     ]
    },
    {
     "name": "stderr",
     "output_type": "stream",
     "text": [
      "100%|██████████| 3/3 [00:12<00:00,  3.97s/it]\n",
      "  0%|          | 0/3 [00:00<?, ?it/s]"
     ]
    },
    {
     "name": "stdout",
     "output_type": "stream",
     "text": [
      "2002\n"
     ]
    },
    {
     "name": "stderr",
     "output_type": "stream",
     "text": [
      "100%|██████████| 3/3 [00:14<00:00,  4.53s/it]\n",
      "  0%|          | 0/6 [00:00<?, ?it/s]"
     ]
    },
    {
     "name": "stdout",
     "output_type": "stream",
     "text": [
      "2003\n"
     ]
    },
    {
     "name": "stderr",
     "output_type": "stream",
     "text": [
      "100%|██████████| 6/6 [01:05<00:00, 12.00s/it]\n",
      "  0%|          | 0/6 [00:00<?, ?it/s]"
     ]
    },
    {
     "name": "stdout",
     "output_type": "stream",
     "text": [
      "2004\n"
     ]
    },
    {
     "name": "stderr",
     "output_type": "stream",
     "text": [
      "100%|██████████| 6/6 [01:37<00:00, 16.26s/it]\n",
      "  0%|          | 0/6 [00:00<?, ?it/s]"
     ]
    },
    {
     "name": "stdout",
     "output_type": "stream",
     "text": [
      "2005\n"
     ]
    },
    {
     "name": "stderr",
     "output_type": "stream",
     "text": [
      "100%|██████████| 6/6 [02:08<00:00, 23.29s/it]\n",
      "  0%|          | 0/7 [00:00<?, ?it/s]"
     ]
    },
    {
     "name": "stdout",
     "output_type": "stream",
     "text": [
      "2006\n"
     ]
    },
    {
     "name": "stderr",
     "output_type": "stream",
     "text": [
      "\r",
      " 14%|█▍        | 1/7 [00:00<00:03,  1.55it/s]"
     ]
    },
    {
     "name": "stdout",
     "output_type": "stream",
     "text": [
      "File 2006_PM2.5_1g has some mess with timestamps\n"
     ]
    },
    {
     "name": "stderr",
     "output_type": "stream",
     "text": [
      "100%|██████████| 7/7 [02:24<00:00, 20.58s/it]\n",
      "  0%|          | 0/7 [00:00<?, ?it/s]"
     ]
    },
    {
     "name": "stdout",
     "output_type": "stream",
     "text": [
      "2007\n"
     ]
    },
    {
     "name": "stderr",
     "output_type": "stream",
     "text": [
      "100%|██████████| 7/7 [02:41<00:00, 24.69s/it]\n",
      "  0%|          | 0/7 [00:00<?, ?it/s]"
     ]
    },
    {
     "name": "stdout",
     "output_type": "stream",
     "text": [
      "2008\n"
     ]
    },
    {
     "name": "stderr",
     "output_type": "stream",
     "text": [
      "100%|██████████| 7/7 [02:58<00:00, 23.34s/it]\n",
      "  0%|          | 0/7 [00:00<?, ?it/s]"
     ]
    },
    {
     "name": "stdout",
     "output_type": "stream",
     "text": [
      "2009\n"
     ]
    },
    {
     "name": "stderr",
     "output_type": "stream",
     "text": [
      "100%|██████████| 7/7 [02:51<00:00, 26.53s/it]\n",
      "  0%|          | 0/7 [00:00<?, ?it/s]"
     ]
    },
    {
     "name": "stdout",
     "output_type": "stream",
     "text": [
      "2010\n"
     ]
    },
    {
     "name": "stderr",
     "output_type": "stream",
     "text": [
      "100%|██████████| 7/7 [02:52<00:00, 24.83s/it]\n",
      "  0%|          | 0/7 [00:00<?, ?it/s]"
     ]
    },
    {
     "name": "stdout",
     "output_type": "stream",
     "text": [
      "2011\n"
     ]
    },
    {
     "name": "stderr",
     "output_type": "stream",
     "text": [
      "100%|██████████| 7/7 [02:48<00:00, 24.90s/it]\n",
      "  0%|          | 0/7 [00:00<?, ?it/s]"
     ]
    },
    {
     "name": "stdout",
     "output_type": "stream",
     "text": [
      "2012\n"
     ]
    },
    {
     "name": "stderr",
     "output_type": "stream",
     "text": [
      " 57%|█████▋    | 4/7 [01:19<00:58, 19.40s/it]"
     ]
    },
    {
     "name": "stdout",
     "output_type": "stream",
     "text": [
      "File 2012_PM10_1g has some mess with timestamps\n"
     ]
    },
    {
     "name": "stderr",
     "output_type": "stream",
     "text": [
      "100%|██████████| 7/7 [02:29<00:00, 21.50s/it]"
     ]
    },
    {
     "name": "stdout",
     "output_type": "stream",
     "text": [
      "File 2012_O3_1g has some mess with timestamps\n"
     ]
    },
    {
     "name": "stderr",
     "output_type": "stream",
     "text": [
      "\n",
      "  0%|          | 0/7 [00:00<?, ?it/s]"
     ]
    },
    {
     "name": "stdout",
     "output_type": "stream",
     "text": [
      "2013\n"
     ]
    },
    {
     "name": "stderr",
     "output_type": "stream",
     "text": [
      "100%|██████████| 7/7 [03:02<00:00, 28.48s/it]\n"
     ]
    },
    {
     "name": "stdout",
     "output_type": "stream",
     "text": [
      "2014\n"
     ]
    },
    {
     "name": "stderr",
     "output_type": "stream",
     "text": [
      "100%|██████████| 7/7 [04:35<00:00, 36.92s/it]\n",
      "  0%|          | 0/7 [00:00<?, ?it/s]"
     ]
    },
    {
     "name": "stdout",
     "output_type": "stream",
     "text": [
      "2015\n"
     ]
    },
    {
     "name": "stderr",
     "output_type": "stream",
     "text": [
      "100%|██████████| 7/7 [03:32<00:00, 28.52s/it]\n"
     ]
    }
   ],
   "source": [
    "bigDataFrame = pd.DataFrame()\n",
    "for dataYear in years: \n",
    "    print(dataYear)\n",
    "    yearDataFrame = pd.DataFrame()\n",
    "    for index, dataRow in tqdm(pollutantsYears[pollutantsYears[\"year\"] == dataYear].iterrows(), total=len(pollutantsYears[pollutantsYears[\"year\"] == dataYear].index)):\n",
    "        data = pd.read_excel(\"../input/\" + dataRow[\"filename\"] + \".xlsx\", skiprows=[1,2])\n",
    "        data = data.rename(columns={\"Kod stacji\":\"Hour\"})\n",
    "\n",
    "        year = int(dataRow[\"year\"])\n",
    "        rng = pd.date_range(start = str(year) + '-01-01 01:00:00', end = str(year+1) + '-01-01 00:00:00', freq='H')\n",
    "\n",
    "        # workaround for 2006_PM2.5_1g, 2012_PM10_1g, 2012_O3_1g\n",
    "        try:\n",
    "            data[\"Hour\"] = rng\n",
    "        except ValueError:\n",
    "            print(\"File {} has some mess with timestamps\".format(dataRow[\"filename\"]))\n",
    "            continue\n",
    "\n",
    "        data = data.set_index(\"Hour\")\n",
    "        data = data.stack()\n",
    "        data = pd.DataFrame(data, columns=[dataRow[\"pollutant\"]])\n",
    "        data.index.set_names(['Hour', 'Station'], inplace=True)\n",
    "\n",
    "        yearDataFrame = pd.concat([yearDataFrame, data], axis=1)\n",
    "    \n",
    "    bigDataFrame = bigDataFrame.append(yearDataFrame)"
   ]
  },
  {
   "cell_type": "code",
   "execution_count": 26,
   "metadata": {
    "collapsed": false
   },
   "outputs": [],
   "source": [
    "bigDataFrame.to_pickle(\"../output/bigDataFrame.pkl\")"
   ]
  },
  {
   "cell_type": "code",
   "execution_count": 27,
   "metadata": {
    "collapsed": false
   },
   "outputs": [
    {
     "data": {
      "text/html": [
       "<div>\n",
       "<table border=\"1\" class=\"dataframe\">\n",
       "  <thead>\n",
       "    <tr style=\"text-align: right;\">\n",
       "      <th></th>\n",
       "      <th></th>\n",
       "      <th>C6H6</th>\n",
       "      <th>CO</th>\n",
       "      <th>NO2</th>\n",
       "      <th>O3</th>\n",
       "      <th>PM10</th>\n",
       "      <th>PM2.5</th>\n",
       "      <th>SO2</th>\n",
       "    </tr>\n",
       "    <tr>\n",
       "      <th>Hour</th>\n",
       "      <th>Station</th>\n",
       "      <th></th>\n",
       "      <th></th>\n",
       "      <th></th>\n",
       "      <th></th>\n",
       "      <th></th>\n",
       "      <th></th>\n",
       "      <th></th>\n",
       "    </tr>\n",
       "  </thead>\n",
       "  <tbody>\n",
       "    <tr>\n",
       "      <th rowspan=\"2\" valign=\"top\">2000-01-01 01:00:00</th>\n",
       "      <th>Pm.a01a</th>\n",
       "      <td>NaN</td>\n",
       "      <td>NaN</td>\n",
       "      <td>25.000000</td>\n",
       "      <td>NaN</td>\n",
       "      <td>NaN</td>\n",
       "      <td>NaN</td>\n",
       "      <td>NaN</td>\n",
       "    </tr>\n",
       "    <tr>\n",
       "      <th>Pm.a03a</th>\n",
       "      <td>NaN</td>\n",
       "      <td>NaN</td>\n",
       "      <td>NaN</td>\n",
       "      <td>38.000000</td>\n",
       "      <td>NaN</td>\n",
       "      <td>NaN</td>\n",
       "      <td>NaN</td>\n",
       "    </tr>\n",
       "    <tr>\n",
       "      <th rowspan=\"23\" valign=\"top\">2000-01-01 02:00:00</th>\n",
       "      <th>DsCzer02</th>\n",
       "      <td>NaN</td>\n",
       "      <td>NaN</td>\n",
       "      <td>6.000000</td>\n",
       "      <td>35.000000</td>\n",
       "      <td>NaN</td>\n",
       "      <td>NaN</td>\n",
       "      <td>NaN</td>\n",
       "    </tr>\n",
       "    <tr>\n",
       "      <th>DsJelw05</th>\n",
       "      <td>NaN</td>\n",
       "      <td>NaN</td>\n",
       "      <td>14.000000</td>\n",
       "      <td>29.000000</td>\n",
       "      <td>NaN</td>\n",
       "      <td>NaN</td>\n",
       "      <td>NaN</td>\n",
       "    </tr>\n",
       "    <tr>\n",
       "      <th>DsSniezka</th>\n",
       "      <td>NaN</td>\n",
       "      <td>NaN</td>\n",
       "      <td>NaN</td>\n",
       "      <td>61.000000</td>\n",
       "      <td>NaN</td>\n",
       "      <td>NaN</td>\n",
       "      <td>NaN</td>\n",
       "    </tr>\n",
       "    <tr>\n",
       "      <th>LbJarczew</th>\n",
       "      <td>NaN</td>\n",
       "      <td>NaN</td>\n",
       "      <td>NaN</td>\n",
       "      <td>25.000000</td>\n",
       "      <td>NaN</td>\n",
       "      <td>NaN</td>\n",
       "      <td>NaN</td>\n",
       "    </tr>\n",
       "    <tr>\n",
       "      <th>MpKrakowWIOSAKra6117</th>\n",
       "      <td>NaN</td>\n",
       "      <td>NaN</td>\n",
       "      <td>62.000000</td>\n",
       "      <td>NaN</td>\n",
       "      <td>NaN</td>\n",
       "      <td>NaN</td>\n",
       "      <td>NaN</td>\n",
       "    </tr>\n",
       "    <tr>\n",
       "      <th>MpKrakowWIOSBulw6118</th>\n",
       "      <td>NaN</td>\n",
       "      <td>NaN</td>\n",
       "      <td>48.000000</td>\n",
       "      <td>NaN</td>\n",
       "      <td>NaN</td>\n",
       "      <td>NaN</td>\n",
       "      <td>NaN</td>\n",
       "    </tr>\n",
       "    <tr>\n",
       "      <th>MpKrakowWIOSPrad6115</th>\n",
       "      <td>NaN</td>\n",
       "      <td>NaN</td>\n",
       "      <td>38.000000</td>\n",
       "      <td>NaN</td>\n",
       "      <td>NaN</td>\n",
       "      <td>NaN</td>\n",
       "      <td>NaN</td>\n",
       "    </tr>\n",
       "    <tr>\n",
       "      <th>MzWarPodIMGW</th>\n",
       "      <td>NaN</td>\n",
       "      <td>NaN</td>\n",
       "      <td>NaN</td>\n",
       "      <td>9.000000</td>\n",
       "      <td>NaN</td>\n",
       "      <td>NaN</td>\n",
       "      <td>NaN</td>\n",
       "    </tr>\n",
       "    <tr>\n",
       "      <th>MzWarszKrucza</th>\n",
       "      <td>NaN</td>\n",
       "      <td>NaN</td>\n",
       "      <td>NaN</td>\n",
       "      <td>12.000000</td>\n",
       "      <td>NaN</td>\n",
       "      <td>NaN</td>\n",
       "      <td>NaN</td>\n",
       "    </tr>\n",
       "    <tr>\n",
       "      <th>Pm.a01a</th>\n",
       "      <td>NaN</td>\n",
       "      <td>NaN</td>\n",
       "      <td>24.000000</td>\n",
       "      <td>NaN</td>\n",
       "      <td>NaN</td>\n",
       "      <td>NaN</td>\n",
       "      <td>NaN</td>\n",
       "    </tr>\n",
       "    <tr>\n",
       "      <th>Pm.a02a</th>\n",
       "      <td>NaN</td>\n",
       "      <td>NaN</td>\n",
       "      <td>27.000000</td>\n",
       "      <td>NaN</td>\n",
       "      <td>NaN</td>\n",
       "      <td>NaN</td>\n",
       "      <td>NaN</td>\n",
       "    </tr>\n",
       "    <tr>\n",
       "      <th>Pm.a03a</th>\n",
       "      <td>NaN</td>\n",
       "      <td>NaN</td>\n",
       "      <td>13.000000</td>\n",
       "      <td>39.000000</td>\n",
       "      <td>NaN</td>\n",
       "      <td>NaN</td>\n",
       "      <td>NaN</td>\n",
       "    </tr>\n",
       "    <tr>\n",
       "      <th>Pm.a04a</th>\n",
       "      <td>NaN</td>\n",
       "      <td>NaN</td>\n",
       "      <td>11.000000</td>\n",
       "      <td>NaN</td>\n",
       "      <td>NaN</td>\n",
       "      <td>NaN</td>\n",
       "      <td>NaN</td>\n",
       "    </tr>\n",
       "    <tr>\n",
       "      <th>Pm.a06a</th>\n",
       "      <td>NaN</td>\n",
       "      <td>NaN</td>\n",
       "      <td>13.000000</td>\n",
       "      <td>NaN</td>\n",
       "      <td>NaN</td>\n",
       "      <td>NaN</td>\n",
       "      <td>NaN</td>\n",
       "    </tr>\n",
       "    <tr>\n",
       "      <th>Pm.a07a</th>\n",
       "      <td>NaN</td>\n",
       "      <td>NaN</td>\n",
       "      <td>7.000000</td>\n",
       "      <td>NaN</td>\n",
       "      <td>NaN</td>\n",
       "      <td>NaN</td>\n",
       "      <td>NaN</td>\n",
       "    </tr>\n",
       "    <tr>\n",
       "      <th>Pm.a08a</th>\n",
       "      <td>NaN</td>\n",
       "      <td>NaN</td>\n",
       "      <td>11.000000</td>\n",
       "      <td>NaN</td>\n",
       "      <td>NaN</td>\n",
       "      <td>NaN</td>\n",
       "      <td>NaN</td>\n",
       "    </tr>\n",
       "    <tr>\n",
       "      <th>Pm.a09a</th>\n",
       "      <td>NaN</td>\n",
       "      <td>NaN</td>\n",
       "      <td>10.000000</td>\n",
       "      <td>39.000000</td>\n",
       "      <td>NaN</td>\n",
       "      <td>NaN</td>\n",
       "      <td>NaN</td>\n",
       "    </tr>\n",
       "    <tr>\n",
       "      <th>Pm08LEBAiEMEPa</th>\n",
       "      <td>NaN</td>\n",
       "      <td>NaN</td>\n",
       "      <td>NaN</td>\n",
       "      <td>33.000000</td>\n",
       "      <td>NaN</td>\n",
       "      <td>NaN</td>\n",
       "      <td>NaN</td>\n",
       "    </tr>\n",
       "    <tr>\n",
       "      <th>SlBytomByto_modrz</th>\n",
       "      <td>NaN</td>\n",
       "      <td>NaN</td>\n",
       "      <td>55.000000</td>\n",
       "      <td>NaN</td>\n",
       "      <td>NaN</td>\n",
       "      <td>NaN</td>\n",
       "      <td>NaN</td>\n",
       "    </tr>\n",
       "    <tr>\n",
       "      <th>SlKatowKato_kossu</th>\n",
       "      <td>NaN</td>\n",
       "      <td>NaN</td>\n",
       "      <td>NaN</td>\n",
       "      <td>11.000000</td>\n",
       "      <td>NaN</td>\n",
       "      <td>NaN</td>\n",
       "      <td>NaN</td>\n",
       "    </tr>\n",
       "    <tr>\n",
       "      <th>SlSosnoSosn_narut</th>\n",
       "      <td>NaN</td>\n",
       "      <td>NaN</td>\n",
       "      <td>55.000000</td>\n",
       "      <td>NaN</td>\n",
       "      <td>NaN</td>\n",
       "      <td>NaN</td>\n",
       "      <td>NaN</td>\n",
       "    </tr>\n",
       "    <tr>\n",
       "      <th>SlUstroCies_sanat</th>\n",
       "      <td>NaN</td>\n",
       "      <td>NaN</td>\n",
       "      <td>NaN</td>\n",
       "      <td>19.000000</td>\n",
       "      <td>NaN</td>\n",
       "      <td>NaN</td>\n",
       "      <td>NaN</td>\n",
       "    </tr>\n",
       "    <tr>\n",
       "      <th>WmPuszcz_IOS_Borecka</th>\n",
       "      <td>NaN</td>\n",
       "      <td>NaN</td>\n",
       "      <td>NaN</td>\n",
       "      <td>40.000000</td>\n",
       "      <td>NaN</td>\n",
       "      <td>NaN</td>\n",
       "      <td>NaN</td>\n",
       "    </tr>\n",
       "    <tr>\n",
       "      <th rowspan=\"5\" valign=\"top\">2000-01-01 03:00:00</th>\n",
       "      <th>DsCzer02</th>\n",
       "      <td>NaN</td>\n",
       "      <td>NaN</td>\n",
       "      <td>3.000000</td>\n",
       "      <td>42.000000</td>\n",
       "      <td>NaN</td>\n",
       "      <td>NaN</td>\n",
       "      <td>NaN</td>\n",
       "    </tr>\n",
       "    <tr>\n",
       "      <th>DsJelw05</th>\n",
       "      <td>NaN</td>\n",
       "      <td>NaN</td>\n",
       "      <td>12.000000</td>\n",
       "      <td>34.000000</td>\n",
       "      <td>NaN</td>\n",
       "      <td>NaN</td>\n",
       "      <td>NaN</td>\n",
       "    </tr>\n",
       "    <tr>\n",
       "      <th>DsSniezka</th>\n",
       "      <td>NaN</td>\n",
       "      <td>NaN</td>\n",
       "      <td>NaN</td>\n",
       "      <td>62.000000</td>\n",
       "      <td>NaN</td>\n",
       "      <td>NaN</td>\n",
       "      <td>NaN</td>\n",
       "    </tr>\n",
       "    <tr>\n",
       "      <th>LbJarczew</th>\n",
       "      <td>NaN</td>\n",
       "      <td>NaN</td>\n",
       "      <td>NaN</td>\n",
       "      <td>20.000000</td>\n",
       "      <td>NaN</td>\n",
       "      <td>NaN</td>\n",
       "      <td>NaN</td>\n",
       "    </tr>\n",
       "    <tr>\n",
       "      <th>MpKrakowWIOSAKra6117</th>\n",
       "      <td>NaN</td>\n",
       "      <td>NaN</td>\n",
       "      <td>56.000000</td>\n",
       "      <td>NaN</td>\n",
       "      <td>NaN</td>\n",
       "      <td>NaN</td>\n",
       "      <td>NaN</td>\n",
       "    </tr>\n",
       "    <tr>\n",
       "      <th>...</th>\n",
       "      <th>...</th>\n",
       "      <td>...</td>\n",
       "      <td>...</td>\n",
       "      <td>...</td>\n",
       "      <td>...</td>\n",
       "      <td>...</td>\n",
       "      <td>...</td>\n",
       "      <td>...</td>\n",
       "    </tr>\n",
       "    <tr>\n",
       "      <th rowspan=\"30\" valign=\"top\">2016-01-01 00:00:00</th>\n",
       "      <th>SlKatoKossut</th>\n",
       "      <td>NaN</td>\n",
       "      <td>NaN</td>\n",
       "      <td>48.290000</td>\n",
       "      <td>5.449680</td>\n",
       "      <td>157.855000</td>\n",
       "      <td>133.811000</td>\n",
       "      <td>26.860100</td>\n",
       "    </tr>\n",
       "    <tr>\n",
       "      <th>SlKatoPlebA4</th>\n",
       "      <td>NaN</td>\n",
       "      <td>1.295760</td>\n",
       "      <td>63.356200</td>\n",
       "      <td>NaN</td>\n",
       "      <td>NaN</td>\n",
       "      <td>NaN</td>\n",
       "      <td>36.425100</td>\n",
       "    </tr>\n",
       "    <tr>\n",
       "      <th>SlRybniBorki</th>\n",
       "      <td>10.985600</td>\n",
       "      <td>0.837930</td>\n",
       "      <td>20.880100</td>\n",
       "      <td>38.192600</td>\n",
       "      <td>72.472000</td>\n",
       "      <td>NaN</td>\n",
       "      <td>32.779800</td>\n",
       "    </tr>\n",
       "    <tr>\n",
       "      <th>SlSosnoLubel</th>\n",
       "      <td>NaN</td>\n",
       "      <td>NaN</td>\n",
       "      <td>51.530000</td>\n",
       "      <td>NaN</td>\n",
       "      <td>197.927000</td>\n",
       "      <td>NaN</td>\n",
       "      <td>57.767100</td>\n",
       "    </tr>\n",
       "    <tr>\n",
       "      <th>SlTychyTolst</th>\n",
       "      <td>NaN</td>\n",
       "      <td>NaN</td>\n",
       "      <td>33.202800</td>\n",
       "      <td>NaN</td>\n",
       "      <td>317.277000</td>\n",
       "      <td>NaN</td>\n",
       "      <td>60.939800</td>\n",
       "    </tr>\n",
       "    <tr>\n",
       "      <th>SlUstronSana</th>\n",
       "      <td>NaN</td>\n",
       "      <td>NaN</td>\n",
       "      <td>2.934920</td>\n",
       "      <td>65.855900</td>\n",
       "      <td>10.680200</td>\n",
       "      <td>NaN</td>\n",
       "      <td>7.359760</td>\n",
       "    </tr>\n",
       "    <tr>\n",
       "      <th>SlWodzGalczy</th>\n",
       "      <td>NaN</td>\n",
       "      <td>2.095970</td>\n",
       "      <td>45.876400</td>\n",
       "      <td>18.443900</td>\n",
       "      <td>223.011000</td>\n",
       "      <td>NaN</td>\n",
       "      <td>80.302100</td>\n",
       "    </tr>\n",
       "    <tr>\n",
       "      <th>SlZabSkloCur</th>\n",
       "      <td>NaN</td>\n",
       "      <td>1.491160</td>\n",
       "      <td>39.449300</td>\n",
       "      <td>18.626100</td>\n",
       "      <td>187.469000</td>\n",
       "      <td>NaN</td>\n",
       "      <td>59.658100</td>\n",
       "    </tr>\n",
       "    <tr>\n",
       "      <th>SlZlotPotLes</th>\n",
       "      <td>NaN</td>\n",
       "      <td>NaN</td>\n",
       "      <td>8.782320</td>\n",
       "      <td>5.976600</td>\n",
       "      <td>53.907800</td>\n",
       "      <td>51.620700</td>\n",
       "      <td>8.746380</td>\n",
       "    </tr>\n",
       "    <tr>\n",
       "      <th>SlZorySikors</th>\n",
       "      <td>NaN</td>\n",
       "      <td>1.438560</td>\n",
       "      <td>NaN</td>\n",
       "      <td>NaN</td>\n",
       "      <td>NaN</td>\n",
       "      <td>NaN</td>\n",
       "      <td>68.223300</td>\n",
       "    </tr>\n",
       "    <tr>\n",
       "      <th>SlZywieKoper</th>\n",
       "      <td>NaN</td>\n",
       "      <td>NaN</td>\n",
       "      <td>20.399000</td>\n",
       "      <td>NaN</td>\n",
       "      <td>130.338000</td>\n",
       "      <td>NaN</td>\n",
       "      <td>44.293300</td>\n",
       "    </tr>\n",
       "    <tr>\n",
       "      <th>WmElbBazynsk</th>\n",
       "      <td>1.679240</td>\n",
       "      <td>0.290620</td>\n",
       "      <td>6.775208</td>\n",
       "      <td>46.842045</td>\n",
       "      <td>35.258751</td>\n",
       "      <td>NaN</td>\n",
       "      <td>4.430197</td>\n",
       "    </tr>\n",
       "    <tr>\n",
       "      <th>WmGoldJacwie</th>\n",
       "      <td>NaN</td>\n",
       "      <td>0.381811</td>\n",
       "      <td>10.383073</td>\n",
       "      <td>38.974819</td>\n",
       "      <td>50.992085</td>\n",
       "      <td>NaN</td>\n",
       "      <td>4.488664</td>\n",
       "    </tr>\n",
       "    <tr>\n",
       "      <th>WmMragParkow</th>\n",
       "      <td>NaN</td>\n",
       "      <td>NaN</td>\n",
       "      <td>NaN</td>\n",
       "      <td>43.796345</td>\n",
       "      <td>42.431252</td>\n",
       "      <td>NaN</td>\n",
       "      <td>NaN</td>\n",
       "    </tr>\n",
       "    <tr>\n",
       "      <th>WmOlsPuszkin</th>\n",
       "      <td>0.658847</td>\n",
       "      <td>0.462765</td>\n",
       "      <td>11.895022</td>\n",
       "      <td>38.350243</td>\n",
       "      <td>47.043335</td>\n",
       "      <td>40.265392</td>\n",
       "      <td>2.864131</td>\n",
       "    </tr>\n",
       "    <tr>\n",
       "      <th>WmOstrChrobr</th>\n",
       "      <td>NaN</td>\n",
       "      <td>0.554376</td>\n",
       "      <td>10.615822</td>\n",
       "      <td>35.995342</td>\n",
       "      <td>43.242916</td>\n",
       "      <td>NaN</td>\n",
       "      <td>2.747365</td>\n",
       "    </tr>\n",
       "    <tr>\n",
       "      <th>WmPuszczaBor</th>\n",
       "      <td>NaN</td>\n",
       "      <td>NaN</td>\n",
       "      <td>NaN</td>\n",
       "      <td>36.000000</td>\n",
       "      <td>NaN</td>\n",
       "      <td>NaN</td>\n",
       "      <td>NaN</td>\n",
       "    </tr>\n",
       "    <tr>\n",
       "      <th>WpBoroDrapal</th>\n",
       "      <td>NaN</td>\n",
       "      <td>NaN</td>\n",
       "      <td>18.765600</td>\n",
       "      <td>17.502500</td>\n",
       "      <td>64.171900</td>\n",
       "      <td>NaN</td>\n",
       "      <td>9.077800</td>\n",
       "    </tr>\n",
       "    <tr>\n",
       "      <th>WpKaliSawick</th>\n",
       "      <td>NaN</td>\n",
       "      <td>0.644600</td>\n",
       "      <td>19.310900</td>\n",
       "      <td>NaN</td>\n",
       "      <td>95.235000</td>\n",
       "      <td>87.123600</td>\n",
       "      <td>101.044000</td>\n",
       "    </tr>\n",
       "    <tr>\n",
       "      <th>WpKoniWyszyn</th>\n",
       "      <td>NaN</td>\n",
       "      <td>0.550630</td>\n",
       "      <td>14.855800</td>\n",
       "      <td>33.285800</td>\n",
       "      <td>54.186900</td>\n",
       "      <td>NaN</td>\n",
       "      <td>15.420500</td>\n",
       "    </tr>\n",
       "    <tr>\n",
       "      <th>WpPiaskiKrzy</th>\n",
       "      <td>NaN</td>\n",
       "      <td>NaN</td>\n",
       "      <td>14.105100</td>\n",
       "      <td>31.850400</td>\n",
       "      <td>NaN</td>\n",
       "      <td>NaN</td>\n",
       "      <td>15.532500</td>\n",
       "    </tr>\n",
       "    <tr>\n",
       "      <th>WpPilaKusoci</th>\n",
       "      <td>NaN</td>\n",
       "      <td>0.751580</td>\n",
       "      <td>21.919400</td>\n",
       "      <td>NaN</td>\n",
       "      <td>112.891000</td>\n",
       "      <td>NaN</td>\n",
       "      <td>26.197800</td>\n",
       "    </tr>\n",
       "    <tr>\n",
       "      <th>WpPoznDabrow</th>\n",
       "      <td>4.455180</td>\n",
       "      <td>0.722890</td>\n",
       "      <td>30.756600</td>\n",
       "      <td>15.803900</td>\n",
       "      <td>87.058900</td>\n",
       "      <td>NaN</td>\n",
       "      <td>15.778800</td>\n",
       "    </tr>\n",
       "    <tr>\n",
       "      <th>WpPoznPolank</th>\n",
       "      <td>NaN</td>\n",
       "      <td>0.823150</td>\n",
       "      <td>26.569600</td>\n",
       "      <td>NaN</td>\n",
       "      <td>68.198500</td>\n",
       "      <td>55.935100</td>\n",
       "      <td>16.245400</td>\n",
       "    </tr>\n",
       "    <tr>\n",
       "      <th>ZpKoszArKraj</th>\n",
       "      <td>NaN</td>\n",
       "      <td>NaN</td>\n",
       "      <td>16.816300</td>\n",
       "      <td>NaN</td>\n",
       "      <td>49.697500</td>\n",
       "      <td>NaN</td>\n",
       "      <td>12.236100</td>\n",
       "    </tr>\n",
       "    <tr>\n",
       "      <th>ZpSzczAndr01</th>\n",
       "      <td>NaN</td>\n",
       "      <td>NaN</td>\n",
       "      <td>10.232900</td>\n",
       "      <td>31.618800</td>\n",
       "      <td>83.180500</td>\n",
       "      <td>76.853900</td>\n",
       "      <td>8.514580</td>\n",
       "    </tr>\n",
       "    <tr>\n",
       "      <th>ZpSzczLacz04</th>\n",
       "      <td>NaN</td>\n",
       "      <td>NaN</td>\n",
       "      <td>NaN</td>\n",
       "      <td>NaN</td>\n",
       "      <td>46.621600</td>\n",
       "      <td>NaN</td>\n",
       "      <td>NaN</td>\n",
       "    </tr>\n",
       "    <tr>\n",
       "      <th>ZpSzczPils02</th>\n",
       "      <td>1.969150</td>\n",
       "      <td>0.480210</td>\n",
       "      <td>28.611000</td>\n",
       "      <td>NaN</td>\n",
       "      <td>NaN</td>\n",
       "      <td>29.842200</td>\n",
       "      <td>9.950620</td>\n",
       "    </tr>\n",
       "    <tr>\n",
       "      <th>ZpSzczecPrze</th>\n",
       "      <td>NaN</td>\n",
       "      <td>NaN</td>\n",
       "      <td>29.005200</td>\n",
       "      <td>NaN</td>\n",
       "      <td>61.945100</td>\n",
       "      <td>NaN</td>\n",
       "      <td>19.032500</td>\n",
       "    </tr>\n",
       "    <tr>\n",
       "      <th>ZpWiduBulRyb</th>\n",
       "      <td>NaN</td>\n",
       "      <td>NaN</td>\n",
       "      <td>7.560370</td>\n",
       "      <td>39.732600</td>\n",
       "      <td>NaN</td>\n",
       "      <td>NaN</td>\n",
       "      <td>4.129960</td>\n",
       "    </tr>\n",
       "  </tbody>\n",
       "</table>\n",
       "<p>16550991 rows × 7 columns</p>\n",
       "</div>"
      ],
      "text/plain": [
       "                                               C6H6        CO        NO2  \\\n",
       "Hour                Station                                                \n",
       "2000-01-01 01:00:00 Pm.a01a                     NaN       NaN  25.000000   \n",
       "                    Pm.a03a                     NaN       NaN        NaN   \n",
       "2000-01-01 02:00:00 DsCzer02                    NaN       NaN   6.000000   \n",
       "                    DsJelw05                    NaN       NaN  14.000000   \n",
       "                    DsSniezka                   NaN       NaN        NaN   \n",
       "                    LbJarczew                   NaN       NaN        NaN   \n",
       "                    MpKrakowWIOSAKra6117        NaN       NaN  62.000000   \n",
       "                    MpKrakowWIOSBulw6118        NaN       NaN  48.000000   \n",
       "                    MpKrakowWIOSPrad6115        NaN       NaN  38.000000   \n",
       "                    MzWarPodIMGW                NaN       NaN        NaN   \n",
       "                    MzWarszKrucza               NaN       NaN        NaN   \n",
       "                    Pm.a01a                     NaN       NaN  24.000000   \n",
       "                    Pm.a02a                     NaN       NaN  27.000000   \n",
       "                    Pm.a03a                     NaN       NaN  13.000000   \n",
       "                    Pm.a04a                     NaN       NaN  11.000000   \n",
       "                    Pm.a06a                     NaN       NaN  13.000000   \n",
       "                    Pm.a07a                     NaN       NaN   7.000000   \n",
       "                    Pm.a08a                     NaN       NaN  11.000000   \n",
       "                    Pm.a09a                     NaN       NaN  10.000000   \n",
       "                    Pm08LEBAiEMEPa              NaN       NaN        NaN   \n",
       "                    SlBytomByto_modrz           NaN       NaN  55.000000   \n",
       "                    SlKatowKato_kossu           NaN       NaN        NaN   \n",
       "                    SlSosnoSosn_narut           NaN       NaN  55.000000   \n",
       "                    SlUstroCies_sanat           NaN       NaN        NaN   \n",
       "                    WmPuszcz_IOS_Borecka        NaN       NaN        NaN   \n",
       "2000-01-01 03:00:00 DsCzer02                    NaN       NaN   3.000000   \n",
       "                    DsJelw05                    NaN       NaN  12.000000   \n",
       "                    DsSniezka                   NaN       NaN        NaN   \n",
       "                    LbJarczew                   NaN       NaN        NaN   \n",
       "                    MpKrakowWIOSAKra6117        NaN       NaN  56.000000   \n",
       "...                                             ...       ...        ...   \n",
       "2016-01-01 00:00:00 SlKatoKossut                NaN       NaN  48.290000   \n",
       "                    SlKatoPlebA4                NaN  1.295760  63.356200   \n",
       "                    SlRybniBorki          10.985600  0.837930  20.880100   \n",
       "                    SlSosnoLubel                NaN       NaN  51.530000   \n",
       "                    SlTychyTolst                NaN       NaN  33.202800   \n",
       "                    SlUstronSana                NaN       NaN   2.934920   \n",
       "                    SlWodzGalczy                NaN  2.095970  45.876400   \n",
       "                    SlZabSkloCur                NaN  1.491160  39.449300   \n",
       "                    SlZlotPotLes                NaN       NaN   8.782320   \n",
       "                    SlZorySikors                NaN  1.438560        NaN   \n",
       "                    SlZywieKoper                NaN       NaN  20.399000   \n",
       "                    WmElbBazynsk           1.679240  0.290620   6.775208   \n",
       "                    WmGoldJacwie                NaN  0.381811  10.383073   \n",
       "                    WmMragParkow                NaN       NaN        NaN   \n",
       "                    WmOlsPuszkin           0.658847  0.462765  11.895022   \n",
       "                    WmOstrChrobr                NaN  0.554376  10.615822   \n",
       "                    WmPuszczaBor                NaN       NaN        NaN   \n",
       "                    WpBoroDrapal                NaN       NaN  18.765600   \n",
       "                    WpKaliSawick                NaN  0.644600  19.310900   \n",
       "                    WpKoniWyszyn                NaN  0.550630  14.855800   \n",
       "                    WpPiaskiKrzy                NaN       NaN  14.105100   \n",
       "                    WpPilaKusoci                NaN  0.751580  21.919400   \n",
       "                    WpPoznDabrow           4.455180  0.722890  30.756600   \n",
       "                    WpPoznPolank                NaN  0.823150  26.569600   \n",
       "                    ZpKoszArKraj                NaN       NaN  16.816300   \n",
       "                    ZpSzczAndr01                NaN       NaN  10.232900   \n",
       "                    ZpSzczLacz04                NaN       NaN        NaN   \n",
       "                    ZpSzczPils02           1.969150  0.480210  28.611000   \n",
       "                    ZpSzczecPrze                NaN       NaN  29.005200   \n",
       "                    ZpWiduBulRyb                NaN       NaN   7.560370   \n",
       "\n",
       "                                                 O3        PM10       PM2.5  \\\n",
       "Hour                Station                                                   \n",
       "2000-01-01 01:00:00 Pm.a01a                     NaN         NaN         NaN   \n",
       "                    Pm.a03a               38.000000         NaN         NaN   \n",
       "2000-01-01 02:00:00 DsCzer02              35.000000         NaN         NaN   \n",
       "                    DsJelw05              29.000000         NaN         NaN   \n",
       "                    DsSniezka             61.000000         NaN         NaN   \n",
       "                    LbJarczew             25.000000         NaN         NaN   \n",
       "                    MpKrakowWIOSAKra6117        NaN         NaN         NaN   \n",
       "                    MpKrakowWIOSBulw6118        NaN         NaN         NaN   \n",
       "                    MpKrakowWIOSPrad6115        NaN         NaN         NaN   \n",
       "                    MzWarPodIMGW           9.000000         NaN         NaN   \n",
       "                    MzWarszKrucza         12.000000         NaN         NaN   \n",
       "                    Pm.a01a                     NaN         NaN         NaN   \n",
       "                    Pm.a02a                     NaN         NaN         NaN   \n",
       "                    Pm.a03a               39.000000         NaN         NaN   \n",
       "                    Pm.a04a                     NaN         NaN         NaN   \n",
       "                    Pm.a06a                     NaN         NaN         NaN   \n",
       "                    Pm.a07a                     NaN         NaN         NaN   \n",
       "                    Pm.a08a                     NaN         NaN         NaN   \n",
       "                    Pm.a09a               39.000000         NaN         NaN   \n",
       "                    Pm08LEBAiEMEPa        33.000000         NaN         NaN   \n",
       "                    SlBytomByto_modrz           NaN         NaN         NaN   \n",
       "                    SlKatowKato_kossu     11.000000         NaN         NaN   \n",
       "                    SlSosnoSosn_narut           NaN         NaN         NaN   \n",
       "                    SlUstroCies_sanat     19.000000         NaN         NaN   \n",
       "                    WmPuszcz_IOS_Borecka  40.000000         NaN         NaN   \n",
       "2000-01-01 03:00:00 DsCzer02              42.000000         NaN         NaN   \n",
       "                    DsJelw05              34.000000         NaN         NaN   \n",
       "                    DsSniezka             62.000000         NaN         NaN   \n",
       "                    LbJarczew             20.000000         NaN         NaN   \n",
       "                    MpKrakowWIOSAKra6117        NaN         NaN         NaN   \n",
       "...                                             ...         ...         ...   \n",
       "2016-01-01 00:00:00 SlKatoKossut           5.449680  157.855000  133.811000   \n",
       "                    SlKatoPlebA4                NaN         NaN         NaN   \n",
       "                    SlRybniBorki          38.192600   72.472000         NaN   \n",
       "                    SlSosnoLubel                NaN  197.927000         NaN   \n",
       "                    SlTychyTolst                NaN  317.277000         NaN   \n",
       "                    SlUstronSana          65.855900   10.680200         NaN   \n",
       "                    SlWodzGalczy          18.443900  223.011000         NaN   \n",
       "                    SlZabSkloCur          18.626100  187.469000         NaN   \n",
       "                    SlZlotPotLes           5.976600   53.907800   51.620700   \n",
       "                    SlZorySikors                NaN         NaN         NaN   \n",
       "                    SlZywieKoper                NaN  130.338000         NaN   \n",
       "                    WmElbBazynsk          46.842045   35.258751         NaN   \n",
       "                    WmGoldJacwie          38.974819   50.992085         NaN   \n",
       "                    WmMragParkow          43.796345   42.431252         NaN   \n",
       "                    WmOlsPuszkin          38.350243   47.043335   40.265392   \n",
       "                    WmOstrChrobr          35.995342   43.242916         NaN   \n",
       "                    WmPuszczaBor          36.000000         NaN         NaN   \n",
       "                    WpBoroDrapal          17.502500   64.171900         NaN   \n",
       "                    WpKaliSawick                NaN   95.235000   87.123600   \n",
       "                    WpKoniWyszyn          33.285800   54.186900         NaN   \n",
       "                    WpPiaskiKrzy          31.850400         NaN         NaN   \n",
       "                    WpPilaKusoci                NaN  112.891000         NaN   \n",
       "                    WpPoznDabrow          15.803900   87.058900         NaN   \n",
       "                    WpPoznPolank                NaN   68.198500   55.935100   \n",
       "                    ZpKoszArKraj                NaN   49.697500         NaN   \n",
       "                    ZpSzczAndr01          31.618800   83.180500   76.853900   \n",
       "                    ZpSzczLacz04                NaN   46.621600         NaN   \n",
       "                    ZpSzczPils02                NaN         NaN   29.842200   \n",
       "                    ZpSzczecPrze                NaN   61.945100         NaN   \n",
       "                    ZpWiduBulRyb          39.732600         NaN         NaN   \n",
       "\n",
       "                                                 SO2  \n",
       "Hour                Station                           \n",
       "2000-01-01 01:00:00 Pm.a01a                      NaN  \n",
       "                    Pm.a03a                      NaN  \n",
       "2000-01-01 02:00:00 DsCzer02                     NaN  \n",
       "                    DsJelw05                     NaN  \n",
       "                    DsSniezka                    NaN  \n",
       "                    LbJarczew                    NaN  \n",
       "                    MpKrakowWIOSAKra6117         NaN  \n",
       "                    MpKrakowWIOSBulw6118         NaN  \n",
       "                    MpKrakowWIOSPrad6115         NaN  \n",
       "                    MzWarPodIMGW                 NaN  \n",
       "                    MzWarszKrucza                NaN  \n",
       "                    Pm.a01a                      NaN  \n",
       "                    Pm.a02a                      NaN  \n",
       "                    Pm.a03a                      NaN  \n",
       "                    Pm.a04a                      NaN  \n",
       "                    Pm.a06a                      NaN  \n",
       "                    Pm.a07a                      NaN  \n",
       "                    Pm.a08a                      NaN  \n",
       "                    Pm.a09a                      NaN  \n",
       "                    Pm08LEBAiEMEPa               NaN  \n",
       "                    SlBytomByto_modrz            NaN  \n",
       "                    SlKatowKato_kossu            NaN  \n",
       "                    SlSosnoSosn_narut            NaN  \n",
       "                    SlUstroCies_sanat            NaN  \n",
       "                    WmPuszcz_IOS_Borecka         NaN  \n",
       "2000-01-01 03:00:00 DsCzer02                     NaN  \n",
       "                    DsJelw05                     NaN  \n",
       "                    DsSniezka                    NaN  \n",
       "                    LbJarczew                    NaN  \n",
       "                    MpKrakowWIOSAKra6117         NaN  \n",
       "...                                              ...  \n",
       "2016-01-01 00:00:00 SlKatoKossut           26.860100  \n",
       "                    SlKatoPlebA4           36.425100  \n",
       "                    SlRybniBorki           32.779800  \n",
       "                    SlSosnoLubel           57.767100  \n",
       "                    SlTychyTolst           60.939800  \n",
       "                    SlUstronSana            7.359760  \n",
       "                    SlWodzGalczy           80.302100  \n",
       "                    SlZabSkloCur           59.658100  \n",
       "                    SlZlotPotLes            8.746380  \n",
       "                    SlZorySikors           68.223300  \n",
       "                    SlZywieKoper           44.293300  \n",
       "                    WmElbBazynsk            4.430197  \n",
       "                    WmGoldJacwie            4.488664  \n",
       "                    WmMragParkow                 NaN  \n",
       "                    WmOlsPuszkin            2.864131  \n",
       "                    WmOstrChrobr            2.747365  \n",
       "                    WmPuszczaBor                 NaN  \n",
       "                    WpBoroDrapal            9.077800  \n",
       "                    WpKaliSawick          101.044000  \n",
       "                    WpKoniWyszyn           15.420500  \n",
       "                    WpPiaskiKrzy           15.532500  \n",
       "                    WpPilaKusoci           26.197800  \n",
       "                    WpPoznDabrow           15.778800  \n",
       "                    WpPoznPolank           16.245400  \n",
       "                    ZpKoszArKraj           12.236100  \n",
       "                    ZpSzczAndr01            8.514580  \n",
       "                    ZpSzczLacz04                 NaN  \n",
       "                    ZpSzczPils02            9.950620  \n",
       "                    ZpSzczecPrze           19.032500  \n",
       "                    ZpWiduBulRyb            4.129960  \n",
       "\n",
       "[16550991 rows x 7 columns]"
      ]
     },
     "execution_count": 27,
     "metadata": {},
     "output_type": "execute_result"
    }
   ],
   "source": [
    "bigDataFrame"
   ]
  }
 ],
 "metadata": {
  "kernelspec": {
   "display_name": "Python 2",
   "language": "python",
   "name": "python2"
  },
  "language_info": {
   "codemirror_mode": {
    "name": "ipython",
    "version": 2
   },
   "file_extension": ".py",
   "mimetype": "text/x-python",
   "name": "python",
   "nbconvert_exporter": "python",
   "pygments_lexer": "ipython2",
   "version": "2.7.3"
  }
 },
 "nbformat": 4,
 "nbformat_minor": 1
}
